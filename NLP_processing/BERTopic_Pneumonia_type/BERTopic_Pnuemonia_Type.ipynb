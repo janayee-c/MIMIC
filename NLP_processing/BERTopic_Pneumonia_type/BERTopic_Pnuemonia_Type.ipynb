{
 "cells": [
  {
   "cell_type": "markdown",
   "metadata": {},
   "source": [
    "This file is reserved for running BERTopic on bacterial pneumonia to find subgroups associated with severity and clinical outcomes \n",
    "\n",
    "Radgraph extracts are expected to have been processsed into sentence-like statements and turned into embeddings "
   ]
  },
  {
   "cell_type": "code",
   "execution_count": null,
   "metadata": {},
   "outputs": [],
   "source": [
    "from bertopic import BERTopic\n",
    "from sentence_transformers import SentenceTransformer\n",
    "from sklearn.feature_extraction.text import CountVectorizer\n",
    "\n",
    "# Custom stopwords for structured format (if radgraph extracts are directly used)\n",
    "structured_stopwords = [\n",
    "    'is', 'an', 'anatomy', 'observation', 'modifies', 'located', 'at'\n",
    "]"
   ]
  },
  {
   "cell_type": "code",
   "execution_count": 7,
   "metadata": {},
   "outputs": [
    {
     "data": {
      "text/html": [
       "<div>\n",
       "<style scoped>\n",
       "    .dataframe tbody tr th:only-of-type {\n",
       "        vertical-align: middle;\n",
       "    }\n",
       "\n",
       "    .dataframe tbody tr th {\n",
       "        vertical-align: top;\n",
       "    }\n",
       "\n",
       "    .dataframe thead th {\n",
       "        text-align: right;\n",
       "    }\n",
       "</style>\n",
       "<table border=\"1\" class=\"dataframe\">\n",
       "  <thead>\n",
       "    <tr style=\"text-align: right;\">\n",
       "      <th></th>\n",
       "      <th>Unnamed: 0.1</th>\n",
       "      <th>subject_id_x</th>\n",
       "      <th>hadm_id</th>\n",
       "      <th>study_id</th>\n",
       "      <th>dicom_id</th>\n",
       "      <th>pneumonia_type</th>\n",
       "      <th>Severe</th>\n",
       "      <th>Unnamed: 0</th>\n",
       "      <th>subject_id_y</th>\n",
       "      <th>report_path</th>\n",
       "      <th>...</th>\n",
       "      <th>technique</th>\n",
       "      <th>comparison</th>\n",
       "      <th>findings</th>\n",
       "      <th>impression</th>\n",
       "      <th>has_comparison</th>\n",
       "      <th>report_length</th>\n",
       "      <th>radgraph_text</th>\n",
       "      <th>extracts</th>\n",
       "      <th>processed_radgraph</th>\n",
       "      <th>embedding</th>\n",
       "    </tr>\n",
       "  </thead>\n",
       "  <tbody>\n",
       "    <tr>\n",
       "      <th>0</th>\n",
       "      <td>0</td>\n",
       "      <td>11146739</td>\n",
       "      <td>20000057</td>\n",
       "      <td>57595001</td>\n",
       "      <td>d46de6bb-6ee08654-dd5f127c-1c339f58-f780e465</td>\n",
       "      <td>other</td>\n",
       "      <td>False</td>\n",
       "      <td>536</td>\n",
       "      <td>11146739</td>\n",
       "      <td>../../../severity_data/report_files/p11/p11146...</td>\n",
       "      <td>...</td>\n",
       "      <td>NaN</td>\n",
       "      <td>none.</td>\n",
       "      <td>there are coarse interstitial markings bilater...</td>\n",
       "      <td>NaN</td>\n",
       "      <td>True</td>\n",
       "      <td>1130</td>\n",
       "      <td>NaN</td>\n",
       "      <td>{'0': {'text': 'nan', 'entities': {}, 'data_so...</td>\n",
       "      <td>NaN</td>\n",
       "      <td>[-0.035868603736162186, -0.13423331081867218, ...</td>\n",
       "    </tr>\n",
       "    <tr>\n",
       "      <th>1</th>\n",
       "      <td>1</td>\n",
       "      <td>18110461</td>\n",
       "      <td>20001947</td>\n",
       "      <td>57106576</td>\n",
       "      <td>1f239460-e00a31a5-81bdb260-f2929be7-f7cb2f7d</td>\n",
       "      <td>bacterial</td>\n",
       "      <td>False</td>\n",
       "      <td>3906</td>\n",
       "      <td>18110461</td>\n",
       "      <td>../../../severity_data/report_files/p18/p18110...</td>\n",
       "      <td>...</td>\n",
       "      <td>chest pa and lateral</td>\n",
       "      <td>[REMOVED]</td>\n",
       "      <td>cardiac silhouette size is normal. mediastinal...</td>\n",
       "      <td>findings concerning for multifocal pneumonia. ...</td>\n",
       "      <td>True</td>\n",
       "      <td>645</td>\n",
       "      <td>cardiac silhouette size is normal. mediastinal...</td>\n",
       "      <td>{'0': {'text': 'cardiac silhouette size is nor...</td>\n",
       "      <td>cardiac is an anatomy. silhouette modifies car...</td>\n",
       "      <td>[0.03332185745239258, -0.005314456298947334, -...</td>\n",
       "    </tr>\n",
       "    <tr>\n",
       "      <th>2</th>\n",
       "      <td>2</td>\n",
       "      <td>18346104</td>\n",
       "      <td>20002712</td>\n",
       "      <td>56389963</td>\n",
       "      <td>33125f0b-b2a6d1a2-1408ce03-33729f30-68e6fd64</td>\n",
       "      <td>other</td>\n",
       "      <td>False</td>\n",
       "      <td>4007</td>\n",
       "      <td>18346104</td>\n",
       "      <td>../../../severity_data/report_files/p18/p18346...</td>\n",
       "      <td>...</td>\n",
       "      <td>single portable ap view of the chest.</td>\n",
       "      <td>chest radiograph from [REMOVED].</td>\n",
       "      <td>compared with the prior radiograph, no signifi...</td>\n",
       "      <td>compared with the prior radiograph, no change ...</td>\n",
       "      <td>True</td>\n",
       "      <td>693</td>\n",
       "      <td>compared with the prior radiograph, no signifi...</td>\n",
       "      <td>{'0': {'text': 'compared with the prior radiog...</td>\n",
       "      <td>significant modifies change. change modifies o...</td>\n",
       "      <td>[0.039139412343502045, -0.016893945634365082, ...</td>\n",
       "    </tr>\n",
       "    <tr>\n",
       "      <th>3</th>\n",
       "      <td>3</td>\n",
       "      <td>19669999</td>\n",
       "      <td>20005479</td>\n",
       "      <td>56328195</td>\n",
       "      <td>927ce6d1-2f7acc58-55042c9a-e688c114-129c4009</td>\n",
       "      <td>other</td>\n",
       "      <td>True</td>\n",
       "      <td>4612</td>\n",
       "      <td>19669999</td>\n",
       "      <td>../../../severity_data/report_files/p19/p19669...</td>\n",
       "      <td>...</td>\n",
       "      <td>NaN</td>\n",
       "      <td>NaN</td>\n",
       "      <td>lung volumes are low. a large hiatal hernia ca...</td>\n",
       "      <td>low lung volumes and large hiatal hernia. new ...</td>\n",
       "      <td>False</td>\n",
       "      <td>712</td>\n",
       "      <td>lung volumes are low. a large hiatal hernia ca...</td>\n",
       "      <td>{'0': {'text': 'lung volumes are low . a large...</td>\n",
       "      <td>lung is an anatomy. volumes modifies lung. low...</td>\n",
       "      <td>[0.058571215718984604, -0.01945420540869236, -...</td>\n",
       "    </tr>\n",
       "    <tr>\n",
       "      <th>4</th>\n",
       "      <td>4</td>\n",
       "      <td>12351713</td>\n",
       "      <td>20007567</td>\n",
       "      <td>59692077</td>\n",
       "      <td>aa33b0f7-a2e3dc48-68b210fb-fb0a6ea5-bd1bf388</td>\n",
       "      <td>other</td>\n",
       "      <td>False</td>\n",
       "      <td>1138</td>\n",
       "      <td>12351713</td>\n",
       "      <td>../../../severity_data/report_files/p12/p12351...</td>\n",
       "      <td>...</td>\n",
       "      <td>pa and lateral chest radiographs</td>\n",
       "      <td>prior outside chest ct from [REMOVED] and ches...</td>\n",
       "      <td>lung volumes are decreased. there is susbtanti...</td>\n",
       "      <td>low lung volumes with substantial bibasilar at...</td>\n",
       "      <td>True</td>\n",
       "      <td>569</td>\n",
       "      <td>lung volumes are decreased. there is susbtanti...</td>\n",
       "      <td>{'0': {'text': 'lung volumes are decreased . t...</td>\n",
       "      <td>lung is an anatomy. volumes modifies lung. dec...</td>\n",
       "      <td>[0.027617672458291054, -0.013795840553939342, ...</td>\n",
       "    </tr>\n",
       "    <tr>\n",
       "      <th>...</th>\n",
       "      <td>...</td>\n",
       "      <td>...</td>\n",
       "      <td>...</td>\n",
       "      <td>...</td>\n",
       "      <td>...</td>\n",
       "      <td>...</td>\n",
       "      <td>...</td>\n",
       "      <td>...</td>\n",
       "      <td>...</td>\n",
       "      <td>...</td>\n",
       "      <td>...</td>\n",
       "      <td>...</td>\n",
       "      <td>...</td>\n",
       "      <td>...</td>\n",
       "      <td>...</td>\n",
       "      <td>...</td>\n",
       "      <td>...</td>\n",
       "      <td>...</td>\n",
       "      <td>...</td>\n",
       "      <td>...</td>\n",
       "      <td>...</td>\n",
       "    </tr>\n",
       "    <tr>\n",
       "      <th>4437</th>\n",
       "      <td>4437</td>\n",
       "      <td>10623647</td>\n",
       "      <td>29991969</td>\n",
       "      <td>59289169</td>\n",
       "      <td>f47aa7aa-8461e734-cc03c9ac-f152661b-4700bd0c</td>\n",
       "      <td>bacterial</td>\n",
       "      <td>False</td>\n",
       "      <td>287</td>\n",
       "      <td>10623647</td>\n",
       "      <td>../../../severity_data/report_files/p10/p10623...</td>\n",
       "      <td>...</td>\n",
       "      <td>chest: frontal and lateral</td>\n",
       "      <td>[REMOVED]</td>\n",
       "      <td>bilateral patchy pulmonary opacities appear sl...</td>\n",
       "      <td>patchy bilateral mid to lower lung opacities a...</td>\n",
       "      <td>True</td>\n",
       "      <td>1760</td>\n",
       "      <td>bilateral patchy pulmonary opacities appear sl...</td>\n",
       "      <td>{'0': {'text': 'bilateral patchy pulmonary opa...</td>\n",
       "      <td>bilateral modifies pulmonary. patchy modifies ...</td>\n",
       "      <td>[0.03257104381918907, -0.026108980178833008, -...</td>\n",
       "    </tr>\n",
       "    <tr>\n",
       "      <th>4438</th>\n",
       "      <td>4438</td>\n",
       "      <td>15116068</td>\n",
       "      <td>29993812</td>\n",
       "      <td>55182265</td>\n",
       "      <td>65d1408e-bc59a65c-0be0fa6d-fb54b613-45abd8c1</td>\n",
       "      <td>bacterial</td>\n",
       "      <td>False</td>\n",
       "      <td>2406</td>\n",
       "      <td>15116068</td>\n",
       "      <td>../../../severity_data/report_files/p15/p15116...</td>\n",
       "      <td>...</td>\n",
       "      <td>single portable semi upright radiograph the ch...</td>\n",
       "      <td>chest ct: [REMOVED], [REMOVED]</td>\n",
       "      <td>extensive bronchiectasis is again noted in the...</td>\n",
       "      <td>extensive bilateral bronchiectasis, with super...</td>\n",
       "      <td>True</td>\n",
       "      <td>1100</td>\n",
       "      <td>extensive bronchiectasis is again noted in the...</td>\n",
       "      <td>{'0': {'text': 'extensive bronchiectasis is ag...</td>\n",
       "      <td>extensive modifies bronchiectasis. bronchiecta...</td>\n",
       "      <td>[0.03614714369177818, -0.008272165432572365, -...</td>\n",
       "    </tr>\n",
       "    <tr>\n",
       "      <th>4439</th>\n",
       "      <td>4439</td>\n",
       "      <td>17025867</td>\n",
       "      <td>29996361</td>\n",
       "      <td>50696726</td>\n",
       "      <td>99011231-5f716ee8-5e61eadd-447b48c4-4ec5255a</td>\n",
       "      <td>bacterial</td>\n",
       "      <td>False</td>\n",
       "      <td>3357</td>\n",
       "      <td>17025867</td>\n",
       "      <td>../../../severity_data/report_files/p17/p17025...</td>\n",
       "      <td>...</td>\n",
       "      <td>NaN</td>\n",
       "      <td>radiograph available from [REMOVED]. frontal a...</td>\n",
       "      <td>NaN</td>\n",
       "      <td>1. increase in density of a right lower and mi...</td>\n",
       "      <td>True</td>\n",
       "      <td>649</td>\n",
       "      <td>NaN</td>\n",
       "      <td>{'0': {'text': 'nan', 'entities': {}, 'data_so...</td>\n",
       "      <td>NaN</td>\n",
       "      <td>[-0.035868603736162186, -0.13423331081867218, ...</td>\n",
       "    </tr>\n",
       "    <tr>\n",
       "      <th>4440</th>\n",
       "      <td>4440</td>\n",
       "      <td>10053207</td>\n",
       "      <td>29999444</td>\n",
       "      <td>55471183</td>\n",
       "      <td>d3362c86-7b4199a0-a47e828f-dddd9bcb-89c90d8e</td>\n",
       "      <td>other</td>\n",
       "      <td>True</td>\n",
       "      <td>17</td>\n",
       "      <td>10053207</td>\n",
       "      <td>../../../severity_data/report_files/p10/p10053...</td>\n",
       "      <td>...</td>\n",
       "      <td>NaN</td>\n",
       "      <td>[REMOVED].</td>\n",
       "      <td>frontal and lateral views of the chest. prior ...</td>\n",
       "      <td>right basilar opacity likely due to at least s...</td>\n",
       "      <td>True</td>\n",
       "      <td>1150</td>\n",
       "      <td>frontal and lateral views of the chest. prior ...</td>\n",
       "      <td>{'0': {'text': 'frontal and lateral views of t...</td>\n",
       "      <td>right - sided is an anatomy. central modifies ...</td>\n",
       "      <td>[0.03693853318691254, -0.03370685130357742, 0....</td>\n",
       "    </tr>\n",
       "    <tr>\n",
       "      <th>4441</th>\n",
       "      <td>4441</td>\n",
       "      <td>13478841</td>\n",
       "      <td>29999498</td>\n",
       "      <td>58035940</td>\n",
       "      <td>211b69be-01ae57d7-0774634f-18585752-f5d74b64</td>\n",
       "      <td>bacterial</td>\n",
       "      <td>True</td>\n",
       "      <td>1635</td>\n",
       "      <td>13478841</td>\n",
       "      <td>../../../severity_data/report_files/p13/p13478...</td>\n",
       "      <td>...</td>\n",
       "      <td>NaN</td>\n",
       "      <td>NaN</td>\n",
       "      <td>ap and lateral views of the chest are compared...</td>\n",
       "      <td>no definite acute cardiopulmonary process base...</td>\n",
       "      <td>False</td>\n",
       "      <td>550</td>\n",
       "      <td>ap and lateral views of the chest are compared...</td>\n",
       "      <td>{'0': {'text': 'ap and lateral views of the ch...</td>\n",
       "      <td>low is located at lung. lung is an anatomy. vo...</td>\n",
       "      <td>[0.02125793695449829, -0.008776791393756866, 0...</td>\n",
       "    </tr>\n",
       "  </tbody>\n",
       "</table>\n",
       "<p>4442 rows × 23 columns</p>\n",
       "</div>"
      ],
      "text/plain": [
       "      Unnamed: 0.1  subject_id_x   hadm_id  study_id  \\\n",
       "0                0      11146739  20000057  57595001   \n",
       "1                1      18110461  20001947  57106576   \n",
       "2                2      18346104  20002712  56389963   \n",
       "3                3      19669999  20005479  56328195   \n",
       "4                4      12351713  20007567  59692077   \n",
       "...            ...           ...       ...       ...   \n",
       "4437          4437      10623647  29991969  59289169   \n",
       "4438          4438      15116068  29993812  55182265   \n",
       "4439          4439      17025867  29996361  50696726   \n",
       "4440          4440      10053207  29999444  55471183   \n",
       "4441          4441      13478841  29999498  58035940   \n",
       "\n",
       "                                          dicom_id pneumonia_type  Severe  \\\n",
       "0     d46de6bb-6ee08654-dd5f127c-1c339f58-f780e465          other   False   \n",
       "1     1f239460-e00a31a5-81bdb260-f2929be7-f7cb2f7d      bacterial   False   \n",
       "2     33125f0b-b2a6d1a2-1408ce03-33729f30-68e6fd64          other   False   \n",
       "3     927ce6d1-2f7acc58-55042c9a-e688c114-129c4009          other    True   \n",
       "4     aa33b0f7-a2e3dc48-68b210fb-fb0a6ea5-bd1bf388          other   False   \n",
       "...                                            ...            ...     ...   \n",
       "4437  f47aa7aa-8461e734-cc03c9ac-f152661b-4700bd0c      bacterial   False   \n",
       "4438  65d1408e-bc59a65c-0be0fa6d-fb54b613-45abd8c1      bacterial   False   \n",
       "4439  99011231-5f716ee8-5e61eadd-447b48c4-4ec5255a      bacterial   False   \n",
       "4440  d3362c86-7b4199a0-a47e828f-dddd9bcb-89c90d8e          other    True   \n",
       "4441  211b69be-01ae57d7-0774634f-18585752-f5d74b64      bacterial    True   \n",
       "\n",
       "      Unnamed: 0  subject_id_y  \\\n",
       "0            536      11146739   \n",
       "1           3906      18110461   \n",
       "2           4007      18346104   \n",
       "3           4612      19669999   \n",
       "4           1138      12351713   \n",
       "...          ...           ...   \n",
       "4437         287      10623647   \n",
       "4438        2406      15116068   \n",
       "4439        3357      17025867   \n",
       "4440          17      10053207   \n",
       "4441        1635      13478841   \n",
       "\n",
       "                                            report_path  ...  \\\n",
       "0     ../../../severity_data/report_files/p11/p11146...  ...   \n",
       "1     ../../../severity_data/report_files/p18/p18110...  ...   \n",
       "2     ../../../severity_data/report_files/p18/p18346...  ...   \n",
       "3     ../../../severity_data/report_files/p19/p19669...  ...   \n",
       "4     ../../../severity_data/report_files/p12/p12351...  ...   \n",
       "...                                                 ...  ...   \n",
       "4437  ../../../severity_data/report_files/p10/p10623...  ...   \n",
       "4438  ../../../severity_data/report_files/p15/p15116...  ...   \n",
       "4439  ../../../severity_data/report_files/p17/p17025...  ...   \n",
       "4440  ../../../severity_data/report_files/p10/p10053...  ...   \n",
       "4441  ../../../severity_data/report_files/p13/p13478...  ...   \n",
       "\n",
       "                                              technique  \\\n",
       "0                                                   NaN   \n",
       "1                                  chest pa and lateral   \n",
       "2                 single portable ap view of the chest.   \n",
       "3                                                   NaN   \n",
       "4                      pa and lateral chest radiographs   \n",
       "...                                                 ...   \n",
       "4437                         chest: frontal and lateral   \n",
       "4438  single portable semi upright radiograph the ch...   \n",
       "4439                                                NaN   \n",
       "4440                                                NaN   \n",
       "4441                                                NaN   \n",
       "\n",
       "                                             comparison  \\\n",
       "0                                                 none.   \n",
       "1                                             [REMOVED]   \n",
       "2                      chest radiograph from [REMOVED].   \n",
       "3                                                   NaN   \n",
       "4     prior outside chest ct from [REMOVED] and ches...   \n",
       "...                                                 ...   \n",
       "4437                                          [REMOVED]   \n",
       "4438                     chest ct: [REMOVED], [REMOVED]   \n",
       "4439  radiograph available from [REMOVED]. frontal a...   \n",
       "4440                                         [REMOVED].   \n",
       "4441                                                NaN   \n",
       "\n",
       "                                               findings  \\\n",
       "0     there are coarse interstitial markings bilater...   \n",
       "1     cardiac silhouette size is normal. mediastinal...   \n",
       "2     compared with the prior radiograph, no signifi...   \n",
       "3     lung volumes are low. a large hiatal hernia ca...   \n",
       "4     lung volumes are decreased. there is susbtanti...   \n",
       "...                                                 ...   \n",
       "4437  bilateral patchy pulmonary opacities appear sl...   \n",
       "4438  extensive bronchiectasis is again noted in the...   \n",
       "4439                                                NaN   \n",
       "4440  frontal and lateral views of the chest. prior ...   \n",
       "4441  ap and lateral views of the chest are compared...   \n",
       "\n",
       "                                             impression has_comparison  \\\n",
       "0                                                   NaN           True   \n",
       "1     findings concerning for multifocal pneumonia. ...           True   \n",
       "2     compared with the prior radiograph, no change ...           True   \n",
       "3     low lung volumes and large hiatal hernia. new ...          False   \n",
       "4     low lung volumes with substantial bibasilar at...           True   \n",
       "...                                                 ...            ...   \n",
       "4437  patchy bilateral mid to lower lung opacities a...           True   \n",
       "4438  extensive bilateral bronchiectasis, with super...           True   \n",
       "4439  1. increase in density of a right lower and mi...           True   \n",
       "4440  right basilar opacity likely due to at least s...           True   \n",
       "4441  no definite acute cardiopulmonary process base...          False   \n",
       "\n",
       "     report_length                                      radgraph_text  \\\n",
       "0             1130                                                NaN   \n",
       "1              645  cardiac silhouette size is normal. mediastinal...   \n",
       "2              693  compared with the prior radiograph, no signifi...   \n",
       "3              712  lung volumes are low. a large hiatal hernia ca...   \n",
       "4              569  lung volumes are decreased. there is susbtanti...   \n",
       "...            ...                                                ...   \n",
       "4437          1760  bilateral patchy pulmonary opacities appear sl...   \n",
       "4438          1100  extensive bronchiectasis is again noted in the...   \n",
       "4439           649                                                NaN   \n",
       "4440          1150  frontal and lateral views of the chest. prior ...   \n",
       "4441           550  ap and lateral views of the chest are compared...   \n",
       "\n",
       "                                               extracts  \\\n",
       "0     {'0': {'text': 'nan', 'entities': {}, 'data_so...   \n",
       "1     {'0': {'text': 'cardiac silhouette size is nor...   \n",
       "2     {'0': {'text': 'compared with the prior radiog...   \n",
       "3     {'0': {'text': 'lung volumes are low . a large...   \n",
       "4     {'0': {'text': 'lung volumes are decreased . t...   \n",
       "...                                                 ...   \n",
       "4437  {'0': {'text': 'bilateral patchy pulmonary opa...   \n",
       "4438  {'0': {'text': 'extensive bronchiectasis is ag...   \n",
       "4439  {'0': {'text': 'nan', 'entities': {}, 'data_so...   \n",
       "4440  {'0': {'text': 'frontal and lateral views of t...   \n",
       "4441  {'0': {'text': 'ap and lateral views of the ch...   \n",
       "\n",
       "                                     processed_radgraph  \\\n",
       "0                                                   NaN   \n",
       "1     cardiac is an anatomy. silhouette modifies car...   \n",
       "2     significant modifies change. change modifies o...   \n",
       "3     lung is an anatomy. volumes modifies lung. low...   \n",
       "4     lung is an anatomy. volumes modifies lung. dec...   \n",
       "...                                                 ...   \n",
       "4437  bilateral modifies pulmonary. patchy modifies ...   \n",
       "4438  extensive modifies bronchiectasis. bronchiecta...   \n",
       "4439                                                NaN   \n",
       "4440  right - sided is an anatomy. central modifies ...   \n",
       "4441  low is located at lung. lung is an anatomy. vo...   \n",
       "\n",
       "                                              embedding  \n",
       "0     [-0.035868603736162186, -0.13423331081867218, ...  \n",
       "1     [0.03332185745239258, -0.005314456298947334, -...  \n",
       "2     [0.039139412343502045, -0.016893945634365082, ...  \n",
       "3     [0.058571215718984604, -0.01945420540869236, -...  \n",
       "4     [0.027617672458291054, -0.013795840553939342, ...  \n",
       "...                                                 ...  \n",
       "4437  [0.03257104381918907, -0.026108980178833008, -...  \n",
       "4438  [0.03614714369177818, -0.008272165432572365, -...  \n",
       "4439  [-0.035868603736162186, -0.13423331081867218, ...  \n",
       "4440  [0.03693853318691254, -0.03370685130357742, 0....  \n",
       "4441  [0.02125793695449829, -0.008776791393756866, 0...  \n",
       "\n",
       "[4442 rows x 23 columns]"
      ]
     },
     "execution_count": 7,
     "metadata": {},
     "output_type": "execute_result"
    }
   ],
   "source": [
    "pneumonia_type_df = pd.read_csv('../NER_embeddings/bacterial/radgraph_with_embeddings.csv')\n",
    "pneumonia_type_df"
   ]
  },
  {
   "cell_type": "code",
   "execution_count": 31,
   "metadata": {},
   "outputs": [],
   "source": [
    "import torch\n",
    "embeddings = torch.load('../NER_embeddings/bacterial/radgraph_embeddings.pt')"
   ]
  },
  {
   "cell_type": "markdown",
   "metadata": {},
   "source": [
    "### BERTOPIC - all pneumonia types"
   ]
  },
  {
   "cell_type": "code",
   "execution_count": 39,
   "metadata": {},
   "outputs": [
    {
     "name": "stdout",
     "output_type": "stream",
     "text": [
      "Embeddings shape: (4442, 768)\n"
     ]
    },
    {
     "name": "stderr",
     "output_type": "stream",
     "text": [
      "2025-02-12 14:30:05,043 - BERTopic - Dimensionality - Fitting the dimensionality reduction algorithm\n",
      "2025-02-12 14:30:18,334 - BERTopic - Dimensionality - Completed ✓\n",
      "2025-02-12 14:30:18,335 - BERTopic - Cluster - Start clustering the reduced embeddings\n",
      "2025-02-12 14:30:18,665 - BERTopic - Cluster - Completed ✓\n",
      "2025-02-12 14:30:18,668 - BERTopic - Representation - Extracting topics from clusters using representation models.\n",
      "2025-02-12 14:30:43,128 - BERTopic - Representation - Completed ✓\n"
     ]
    }
   ],
   "source": [
    "from umap import UMAP\n",
    "import pandas as pd \n",
    "from hdbscan import HDBSCAN\n",
    "from transformers import AutoTokenizer, AutoModel\n",
    "from sklearn.feature_extraction.text import CountVectorizer\n",
    "from bertopic import BERTopic\n",
    "from bertopic.representation import KeyBERTInspired\n",
    "from bertopic.vectorizers import ClassTfidfTransformer\n",
    "from bertopic.representation import MaximalMarginalRelevance\n",
    "import torch\n",
    "import os\n",
    "import numpy as np \n",
    "import ast\n",
    "# Load the embeddings\n",
    "\n",
    "# Read the DataFrame\n",
    "pneumonia_type_df = pd.read_csv('../NER_embeddings/bacterial/radgraph_with_embeddings.csv')\n",
    "\n",
    "# Ensure 'embeddings' column is treated as a list of floats\n",
    "def convert_to_array(embedding_str):\n",
    "    try:\n",
    "        return np.array(ast.literal_eval(embedding_str), dtype=np.float32)\n",
    "    except (ValueError, SyntaxError):\n",
    "        return None  # Return None for rows with invalid embeddings\n",
    "\n",
    "# Convert embeddings column\n",
    "pneumonia_type_df['embedding'] = pneumonia_type_df['embedding'].apply(convert_to_array)\n",
    "\n",
    "# Drop rows where embeddings couldn't be converted\n",
    "pneumonia_type_df = pneumonia_type_df.dropna(subset=['embedding'])\n",
    "\n",
    "# Convert to proper NumPy array\n",
    "embeddings = np.vstack(pneumonia_type_df['embedding'].values)\n",
    "\n",
    "# Ensure embeddings shape is correct\n",
    "print(f\"Embeddings shape: {embeddings.shape}\")  # Should be (num_docs, embedding_dim)\n",
    "\n",
    "\n",
    "# Remove NaN or empty radgraph_text entries\n",
    "pneumonia_type_df = pneumonia_type_df[pneumonia_type_df['radgraph_text'].notna()]\n",
    "pneumonia_type_df = pneumonia_type_df[pneumonia_type_df['radgraph_text'].str.strip() != '']\n",
    "\n",
    "# Extract clean docs and embeddings\n",
    "docs = pneumonia_type_df['radgraph_text'].astype(str).tolist()\n",
    "embeddings = np.vstack(pneumonia_type_df['embedding'].values)\n",
    "\n",
    "# Ensure shape consistency\n",
    "assert len(docs) == embeddings.shape[0], \"Mismatch between docs and embeddings!\"\n",
    "\n",
    "# Load the previously saved CXR model\n",
    "model_path = \"../../models/RADGRAPH_embeddings/bacterial\"\n",
    "tokenizer = AutoTokenizer.from_pretrained(model_path)\n",
    "embedding_model = AutoModel.from_pretrained(model_path)\n",
    "\n",
    "\n",
    "# UMAP model for dimensionality reduction\n",
    "umap_model = UMAP(n_neighbors=30, n_components=5, min_dist=0.0, metric='cosine')\n",
    "\n",
    "# HDBSCAN model for clustering\n",
    "hdbscan_model = HDBSCAN(min_samples=20, \n",
    "                        gen_min_span_tree=True, \n",
    "                        prediction_data=True, \n",
    "                        min_cluster_size=5, \n",
    "                        metric='euclidean', \n",
    "                        cluster_selection_method='leaf')\n",
    "\n",
    "# Create the CountVectorizer instance with the custom LemmaTokenizer\n",
    "vectorizer_model = CountVectorizer(strip_accents='unicode', \n",
    "                                   stop_words='english', \n",
    "                                   ngram_range=(1, 3), \n",
    "                                   max_df=0.6) # remove general terms \n",
    "                                \n",
    "\n",
    "# Step 1: Initialize custom c-TF-IDF model\n",
    "ctfidf_model = ClassTfidfTransformer(\n",
    "    bm25_weighting=False,             # BM25: Beyond a certain point, additional occurrences of a term don’t contribute as much to its weight, introducing a saturation effect. This is controlled by the k1 parameter.\n",
    "    reduce_frequent_words=True,       # Reduce the impact of overly frequent words (True if needed)\n",
    ")\n",
    "\n",
    "\n",
    "# chain model: first extract the most relevant with KeyBERT, then prioritize diversity \n",
    "representation_model = [KeyBERTInspired(top_n_words=30, random_state=42), MaximalMarginalRelevance(diversity=0.7)]\n",
    "\n",
    "# Initialize and fit BERTopic with probability calculation\n",
    "topic_model = BERTopic(\n",
    "    embedding_model=embedding_model,\n",
    "    umap_model=umap_model,\n",
    "    hdbscan_model=hdbscan_model,\n",
    "    ctfidf_model=ctfidf_model, \n",
    "    vectorizer_model=vectorizer_model,\n",
    "    verbose=True,\n",
    "    representation_model=representation_model,\n",
    "    top_n_words=10,\n",
    "    calculate_probabilities=True,  # Ensure that BERTopic calculates probabilities\n",
    ")\n",
    "\n",
    "# Fit the model with documents and embeddings\n",
    "# probabilities \n",
    "topics, probabilities = topic_model.fit_transform(docs, embeddings=embeddings)\n",
    "\n",
    "# Create the directory if it does not exist\n",
    "os.makedirs('../../models/BERTopic_All_Pneumonia_Type', exist_ok=True)\n",
    "os.makedirs('../../models/BERTopic_All_Pneumonia_Type/representations/', exist_ok=True)\n",
    "os.makedirs('../../models/BERTopic_All_Pneumonia_Type/clusters/', exist_ok=True)\n",
    "\n",
    "# Save the BERTopic model for later use as a directory \n",
    "# Save the ctf-idf matrix  for terms \n",
    "topic_model.save(\"../../models/BERTopic_All_Pneumonia_Type/representations/specter_representation_keybert_mmr\", serialization=\"pytorch\", save_ctfidf=True)\n",
    "\n",
    "# Get HDBSCAN cluster labels and probabilities\n",
    "hdbscan_labels = topic_model.hdbscan_model.labels_\n",
    "#The prediction_data=True enables the model to calculate probabilities by predicting how confidently each document fits into a cluster (fits and transforms)\n",
    "hdbscan_probabilities = topic_model.hdbscan_model.probabilities_ # These probabilities tell you how confidently HDBSCAN assigns a document to its cluster (after fitting embeddings according to hdb model)\n",
    "\n",
    "# Save HDBSCAN cluster labels and probabilities\n",
    "torch.save(hdbscan_labels, '../../models/BERTopic_All_Pneumonia_Type/clusters/hdbscan_labels_keybert_mmr.pt')\n",
    "torch.save(hdbscan_probabilities, '../../models/BERTopic_All_Pneumonia_Type/clusters/hdbscan_probabilities_keybert_mmr.pt')\n",
    "\n",
    "## Manually save some files to the model directory \n",
    "# Save BERTopic probabilities (topic-patent / document-topic matrix) inside the model directory\n",
    "torch.save(probabilities, '../../models/BERTopic_All_Pneumonia_Type/representations/specter_representation_keybert_mmr/specter_probabilities_keybert_mmr.pt') # the actual document-topic probabilities that delineate association of each document to topic(s)\n",
    "\n",
    "# Print the topic information after applying custom c-TF-IDF\n",
    "topic_info = topic_model.get_topic_info()\n",
    "torch.save(topic_info, '../../models/BERTopic_All_Pneumonia_Type/representations/specter_representation_keybert_mmr/topic_info_keybert_mmr.pt')\n",
    "topic_info.to_csv('../../models/BERTopic_All_Pneumonia_Type/representations/specter_representation_keybert_mmr/topic_info.csv')\n",
    "topic_info.to_excel('../../models/BERTopic_All_Pneumonia_Type/representations/specter_representation_keybert_mmr/topic_info.xlsx')\n",
    "\n",
    "# Save the representation and count vectorizer models to a .pt file\n",
    "torch.save(representation_model, '../../models/BERTopic_All_Pneumonia_Type/representations/specter_representation_keybert_mmr/representation_model.pt')\n",
    "torch.save(vectorizer_model, '../../models/BERTopic_All_Pneumonia_Type/representations/specter_representation_keybert_mmr/vectorizer_model.pt')"
   ]
  },
  {
   "cell_type": "code",
   "execution_count": 38,
   "metadata": {},
   "outputs": [
    {
     "data": {
      "application/vnd.plotly.v1+json": {
       "config": {
        "plotlyServerURL": "https://plot.ly"
       },
       "data": [
        {
         "customdata": [
          [
           0,
           "lower lobe pneumonia | large effusion pneumothorax | pneumothorax cardiomediastinal | lower lung concerning | lung clear",
           124
          ],
          [
           1,
           "small pleural effusion | chest ct | heart mildly enlarged | lobectomy | lung fields",
           105
          ],
          [
           2,
           "bilateral pleural effusions | present pneumothorax acute | interstitial pulmonary edema | mild pulmonary | remains mildly enlarged",
           78
          ],
          [
           3,
           "opacity pneumonia atelectasis | lobe opacity worrisome | pneumothorax seen cardiac | cardiac mediastinal silhouettes | base retrocardiac opacity",
           59
          ],
          [
           4,
           "lobe consistent pneumonia | pneumothorax seen cardiac | involving left lung | postobstructive pneumonia secondary | right upper lobe",
           58
          ],
          [
           5,
           "contours normal pulmonary | effusion pneumothorax present | pneumonia left lung | upper lobe scarring | pulmonary consolidations",
           45
          ],
          [
           6,
           "findings suggest pulmonary | prior chest radiographs | appearance cardiomediastinal | contour abnormality | preceding ct removed",
           44
          ],
          [
           7,
           "pleural effusions mild | effusions bibasilar | pulmonary edema bibasilar | effusions pulmonary | small bilateral pleural",
           42
          ],
          [
           8,
           "chest ct similar | pulmonary edema patchy | setting lung volumes | atelectasis reflect pneumonia | represent aspiration bronchopneumonia",
           41
          ],
          [
           9,
           "pneumonia pa lateral | lobe compatible pneumonia | pneumonia right lung | right lung clear | lung clear cardiomediastinal",
           40
          ],
          [
           10,
           "pneumothorax lungs appear | effusion pneumothorax cardiomediastinal | normal lungs clear | pulmonary edema seen | cardiopulmonary process lung",
           37
          ],
          [
           11,
           "consolidation lungs clear | lateral view lungs | consolidation compatible pneumonia | lobe consolidation compatible | lobes compatible pneumonia",
           36
          ],
          [
           12,
           "bilateral pleural effusions | pneumonia likely bilateral | secondary pulmonary edema | multiple bilateral pulmonary | lung zone opacities",
           35
          ],
          [
           13,
           "interstitial markings lung | lungs chronic interstitial | potentially left lung | opacity lower thoracic | lung fibrosis overall",
           35
          ],
          [
           14,
           "lower lung opacity | pulmonary vessel | lower thoracic trachea | right chest similar | lung zone",
           31
          ],
          [
           15,
           "intact lower lung | cardiomediastinal silhouette appears | lungs pleural effusion | pulmonary vascularity patient | views chest provided",
           30
          ],
          [
           16,
           "pneumothorax cardiomediastinal silhouette | views chest lungs | lungs clear cardiomediastinal | acute findings chest | consolidation effusion pneumothorax",
           28
          ],
          [
           17,
           "effusion pneumothorax cardiac | lobe cardiac | worrisome pneumonia pleural | pneumonia frontal lateral | cardiac mediastinal silhouettes",
           28
          ],
          [
           18,
           "pleural effusions underlying | focal lung consolidation | lung base patchy | discovery findings cardiac | effusions underlying consolidation",
           27
          ],
          [
           19,
           "left lung collapse | density posterior lung | better demonstrated ct | lung concerning lymphangitic | possibility pneumonia",
           20
          ],
          [
           20,
           "lungs clear cardiomediastinal | osseous abnormalities bibasilar | lung laterally persistent | cardiopulmonary process bibasilar | region superiorly lungs",
           19
          ],
          [
           21,
           "interstitial pulmonary edema | bilateral pleural effusions | right anterior chest | pneumothorax present diffuse | moderate pulmonary",
           15
          ],
          [
           22,
           "effusions pneumothorax note | fracture lower thoracic | mid lung zone | limitations lung markings | lobulated contour abutting",
           13
          ],
          [
           23,
           "effusion pneumothorax subtle | lateral views pleural | pneumonia rounded density | unremarkable cardiomediastinal silhouette | second rib seen",
           12
          ],
          [
           24,
           "lungs areated clear | exam pulmonary edema | normal pulmonary vasculature | pneumothorax detected inferior | aspiration pleural effusion",
           12
          ],
          [
           25,
           "pneumothorax opacities lung | pneumonia probably pleural | pleural effusion collapsed | severe atypical pneumonia | pneumonia excluded basis",
           11
          ],
          [
           26,
           "left sided pleural | effusion lungs moderately | pleural effusion atelectasis | effusion aorta unfolded | pulmonary vasculature overt",
           10
          ],
          [
           27,
           "redemonstrated subtle lung | ribs lung volumes | malignant proved chest | concerning pneumonia likely | normal edema pleural",
           9
          ],
          [
           28,
           "contours normal pulmonary | pneumonia seen recent | lobe likely left | ct fullness left | vasculature normal patchy",
           8
          ],
          [
           29,
           "upper lung left | noted tracheostomy slightly | larger pleural effusions | hemidiaphragm multifocal opacities | obtained esophageal stent",
           8
          ],
          [
           30,
           "normal pneumothorax healing | hyperlucencies lung | normal unchanged cardiomediastinal | examination represent pneumonia | multilevel thoracic spine",
           8
          ],
          [
           31,
           "pleural effusions retrocardiac | pneumothorax improving pleural | exclude pneumothorax identified | trace interstitial pulmonary | secondary moderate pulmonary",
           8
          ],
          [
           32,
           "effusion pneumothorax tracheal | lung mild nodularity | lung noted overt | focal pneumonia large | lateral subtle opacity",
           7
          ],
          [
           33,
           "appears ct chest | lung unremarkable pneumothorax | lobe pleural thickening | aeration bilateral lungs | effusions currently seen",
           6
          ],
          [
           34,
           "lungs bilaterally heart | pulmonary opacities concerning | effusion pneumothorax unchanged | endotracheal tube tracheostomy | heterogeneous pulmonary",
           5
          ],
          [
           35,
           "effusions seen lateral | pulmonary vascular prominence | mild increased pulmonary | appearance pneumothorax identified | pneumonia atelectasis similar",
           5
          ]
         ],
         "hovertemplate": "<b>Topic %{customdata[0]}</b><br>%{customdata[1]}<br>Size: %{customdata[2]}",
         "legendgroup": "",
         "marker": {
          "color": "#B0BEC5",
          "line": {
           "color": "DarkSlateGrey",
           "width": 2
          },
          "size": [
           124,
           105,
           78,
           59,
           58,
           45,
           44,
           42,
           41,
           40,
           37,
           36,
           35,
           35,
           31,
           30,
           28,
           28,
           27,
           20,
           19,
           15,
           13,
           12,
           12,
           11,
           10,
           9,
           8,
           8,
           8,
           8,
           7,
           6,
           5,
           5
          ],
          "sizemode": "area",
          "sizeref": 0.0775,
          "symbol": "circle"
         },
         "mode": "markers",
         "name": "",
         "orientation": "v",
         "showlegend": false,
         "type": "scatter",
         "x": [
          4.452977180480957,
          3.16581130027771,
          20.971525192260742,
          -9.377191543579102,
          3.4948205947875977,
          13.340672492980957,
          -3.511774778366089,
          -12.433141708374023,
          13.37999439239502,
          5.508963108062744,
          6.246442794799805,
          5.726324081420898,
          -12.632423400878906,
          13.211240768432617,
          20.805198669433594,
          4.301066875457764,
          6.180713176727295,
          -4.594702243804932,
          3.6368117332458496,
          3.085597515106201,
          5.889901161193848,
          -12.521258354187012,
          3.4205148220062256,
          13.243921279907227,
          -3.5205812454223633,
          -9.378402709960938,
          3.315721035003662,
          4.135196685791016,
          -4.594690322875977,
          3.2729246616363525,
          3.540672779083252,
          13.518978118896484,
          13.623781204223633,
          3.464460849761963,
          13.02662467956543,
          20.954967498779297
         ],
         "xaxis": "x",
         "y": [
          16.883699417114258,
          -10.077971458435059,
          -1.8220341205596924,
          3.2091643810272217,
          -9.394096374511719,
          7.830537796020508,
          17.01491355895996,
          -1.1393779516220093,
          20.46307373046875,
          8.05086898803711,
          7.22799015045166,
          7.82078218460083,
          -1.3387510776519775,
          20.63370704650879,
          -1.6557029485702515,
          16.731948852539062,
          7.292839050292969,
          -3.976524591445923,
          8.6300630569458,
          8.004044532775879,
          7.645937442779541,
          -1.2275090217590332,
          -9.438116073608398,
          7.734041690826416,
          17.048490524291992,
          3.2087273597717285,
          -9.8950834274292,
          16.566408157348633,
          -3.97651743888855,
          8.20887279510498,
          8.53099250793457,
          20.323461532592773,
          8.113716125488281,
          -9.825618743896484,
          20.818981170654297,
          -1.805482268333435
         ],
         "yaxis": "y"
        }
       ],
       "layout": {
        "annotations": [
         {
          "showarrow": false,
          "text": "D1",
          "x": -14.527286911010743,
          "y": 6.176080584526063,
          "yshift": 10
         },
         {
          "showarrow": false,
          "text": "D2",
          "x": 4.794983530044555,
          "xshift": 10,
          "y": 23.941828346252443
         }
        ],
        "height": 650,
        "hoverlabel": {
         "bgcolor": "white",
         "font": {
          "family": "Rockwell",
          "size": 16
         }
        },
        "legend": {
         "itemsizing": "constant",
         "tracegroupgap": 0
        },
        "margin": {
         "t": 60
        },
        "shapes": [
         {
          "line": {
           "color": "#CFD8DC",
           "width": 2
          },
          "type": "line",
          "x0": 4.794983530044555,
          "x1": 4.794983530044555,
          "y0": -11.589667177200317,
          "y1": 23.941828346252443
         },
         {
          "line": {
           "color": "#9E9E9E",
           "width": 2
          },
          "type": "line",
          "x0": -14.527286911010743,
          "x1": 24.117253971099853,
          "y0": 6.176080584526063,
          "y1": 6.176080584526063
         }
        ],
        "sliders": [
         {
          "active": 0,
          "pad": {
           "t": 50
          },
          "steps": [
           {
            "args": [
             {
              "marker.color": [
               [
                "red",
                "#B0BEC5",
                "#B0BEC5",
                "#B0BEC5",
                "#B0BEC5",
                "#B0BEC5",
                "#B0BEC5",
                "#B0BEC5",
                "#B0BEC5",
                "#B0BEC5",
                "#B0BEC5",
                "#B0BEC5",
                "#B0BEC5",
                "#B0BEC5",
                "#B0BEC5",
                "#B0BEC5",
                "#B0BEC5",
                "#B0BEC5",
                "#B0BEC5",
                "#B0BEC5",
                "#B0BEC5",
                "#B0BEC5",
                "#B0BEC5",
                "#B0BEC5",
                "#B0BEC5",
                "#B0BEC5",
                "#B0BEC5",
                "#B0BEC5",
                "#B0BEC5",
                "#B0BEC5",
                "#B0BEC5",
                "#B0BEC5",
                "#B0BEC5",
                "#B0BEC5",
                "#B0BEC5",
                "#B0BEC5"
               ]
              ]
             }
            ],
            "label": "Topic 0",
            "method": "update"
           },
           {
            "args": [
             {
              "marker.color": [
               [
                "#B0BEC5",
                "red",
                "#B0BEC5",
                "#B0BEC5",
                "#B0BEC5",
                "#B0BEC5",
                "#B0BEC5",
                "#B0BEC5",
                "#B0BEC5",
                "#B0BEC5",
                "#B0BEC5",
                "#B0BEC5",
                "#B0BEC5",
                "#B0BEC5",
                "#B0BEC5",
                "#B0BEC5",
                "#B0BEC5",
                "#B0BEC5",
                "#B0BEC5",
                "#B0BEC5",
                "#B0BEC5",
                "#B0BEC5",
                "#B0BEC5",
                "#B0BEC5",
                "#B0BEC5",
                "#B0BEC5",
                "#B0BEC5",
                "#B0BEC5",
                "#B0BEC5",
                "#B0BEC5",
                "#B0BEC5",
                "#B0BEC5",
                "#B0BEC5",
                "#B0BEC5",
                "#B0BEC5",
                "#B0BEC5"
               ]
              ]
             }
            ],
            "label": "Topic 1",
            "method": "update"
           },
           {
            "args": [
             {
              "marker.color": [
               [
                "#B0BEC5",
                "#B0BEC5",
                "red",
                "#B0BEC5",
                "#B0BEC5",
                "#B0BEC5",
                "#B0BEC5",
                "#B0BEC5",
                "#B0BEC5",
                "#B0BEC5",
                "#B0BEC5",
                "#B0BEC5",
                "#B0BEC5",
                "#B0BEC5",
                "#B0BEC5",
                "#B0BEC5",
                "#B0BEC5",
                "#B0BEC5",
                "#B0BEC5",
                "#B0BEC5",
                "#B0BEC5",
                "#B0BEC5",
                "#B0BEC5",
                "#B0BEC5",
                "#B0BEC5",
                "#B0BEC5",
                "#B0BEC5",
                "#B0BEC5",
                "#B0BEC5",
                "#B0BEC5",
                "#B0BEC5",
                "#B0BEC5",
                "#B0BEC5",
                "#B0BEC5",
                "#B0BEC5",
                "#B0BEC5"
               ]
              ]
             }
            ],
            "label": "Topic 2",
            "method": "update"
           },
           {
            "args": [
             {
              "marker.color": [
               [
                "#B0BEC5",
                "#B0BEC5",
                "#B0BEC5",
                "red",
                "#B0BEC5",
                "#B0BEC5",
                "#B0BEC5",
                "#B0BEC5",
                "#B0BEC5",
                "#B0BEC5",
                "#B0BEC5",
                "#B0BEC5",
                "#B0BEC5",
                "#B0BEC5",
                "#B0BEC5",
                "#B0BEC5",
                "#B0BEC5",
                "#B0BEC5",
                "#B0BEC5",
                "#B0BEC5",
                "#B0BEC5",
                "#B0BEC5",
                "#B0BEC5",
                "#B0BEC5",
                "#B0BEC5",
                "#B0BEC5",
                "#B0BEC5",
                "#B0BEC5",
                "#B0BEC5",
                "#B0BEC5",
                "#B0BEC5",
                "#B0BEC5",
                "#B0BEC5",
                "#B0BEC5",
                "#B0BEC5",
                "#B0BEC5"
               ]
              ]
             }
            ],
            "label": "Topic 3",
            "method": "update"
           },
           {
            "args": [
             {
              "marker.color": [
               [
                "#B0BEC5",
                "#B0BEC5",
                "#B0BEC5",
                "#B0BEC5",
                "red",
                "#B0BEC5",
                "#B0BEC5",
                "#B0BEC5",
                "#B0BEC5",
                "#B0BEC5",
                "#B0BEC5",
                "#B0BEC5",
                "#B0BEC5",
                "#B0BEC5",
                "#B0BEC5",
                "#B0BEC5",
                "#B0BEC5",
                "#B0BEC5",
                "#B0BEC5",
                "#B0BEC5",
                "#B0BEC5",
                "#B0BEC5",
                "#B0BEC5",
                "#B0BEC5",
                "#B0BEC5",
                "#B0BEC5",
                "#B0BEC5",
                "#B0BEC5",
                "#B0BEC5",
                "#B0BEC5",
                "#B0BEC5",
                "#B0BEC5",
                "#B0BEC5",
                "#B0BEC5",
                "#B0BEC5",
                "#B0BEC5"
               ]
              ]
             }
            ],
            "label": "Topic 4",
            "method": "update"
           },
           {
            "args": [
             {
              "marker.color": [
               [
                "#B0BEC5",
                "#B0BEC5",
                "#B0BEC5",
                "#B0BEC5",
                "#B0BEC5",
                "red",
                "#B0BEC5",
                "#B0BEC5",
                "#B0BEC5",
                "#B0BEC5",
                "#B0BEC5",
                "#B0BEC5",
                "#B0BEC5",
                "#B0BEC5",
                "#B0BEC5",
                "#B0BEC5",
                "#B0BEC5",
                "#B0BEC5",
                "#B0BEC5",
                "#B0BEC5",
                "#B0BEC5",
                "#B0BEC5",
                "#B0BEC5",
                "#B0BEC5",
                "#B0BEC5",
                "#B0BEC5",
                "#B0BEC5",
                "#B0BEC5",
                "#B0BEC5",
                "#B0BEC5",
                "#B0BEC5",
                "#B0BEC5",
                "#B0BEC5",
                "#B0BEC5",
                "#B0BEC5",
                "#B0BEC5"
               ]
              ]
             }
            ],
            "label": "Topic 5",
            "method": "update"
           },
           {
            "args": [
             {
              "marker.color": [
               [
                "#B0BEC5",
                "#B0BEC5",
                "#B0BEC5",
                "#B0BEC5",
                "#B0BEC5",
                "#B0BEC5",
                "red",
                "#B0BEC5",
                "#B0BEC5",
                "#B0BEC5",
                "#B0BEC5",
                "#B0BEC5",
                "#B0BEC5",
                "#B0BEC5",
                "#B0BEC5",
                "#B0BEC5",
                "#B0BEC5",
                "#B0BEC5",
                "#B0BEC5",
                "#B0BEC5",
                "#B0BEC5",
                "#B0BEC5",
                "#B0BEC5",
                "#B0BEC5",
                "#B0BEC5",
                "#B0BEC5",
                "#B0BEC5",
                "#B0BEC5",
                "#B0BEC5",
                "#B0BEC5",
                "#B0BEC5",
                "#B0BEC5",
                "#B0BEC5",
                "#B0BEC5",
                "#B0BEC5",
                "#B0BEC5"
               ]
              ]
             }
            ],
            "label": "Topic 6",
            "method": "update"
           },
           {
            "args": [
             {
              "marker.color": [
               [
                "#B0BEC5",
                "#B0BEC5",
                "#B0BEC5",
                "#B0BEC5",
                "#B0BEC5",
                "#B0BEC5",
                "#B0BEC5",
                "red",
                "#B0BEC5",
                "#B0BEC5",
                "#B0BEC5",
                "#B0BEC5",
                "#B0BEC5",
                "#B0BEC5",
                "#B0BEC5",
                "#B0BEC5",
                "#B0BEC5",
                "#B0BEC5",
                "#B0BEC5",
                "#B0BEC5",
                "#B0BEC5",
                "#B0BEC5",
                "#B0BEC5",
                "#B0BEC5",
                "#B0BEC5",
                "#B0BEC5",
                "#B0BEC5",
                "#B0BEC5",
                "#B0BEC5",
                "#B0BEC5",
                "#B0BEC5",
                "#B0BEC5",
                "#B0BEC5",
                "#B0BEC5",
                "#B0BEC5",
                "#B0BEC5"
               ]
              ]
             }
            ],
            "label": "Topic 7",
            "method": "update"
           },
           {
            "args": [
             {
              "marker.color": [
               [
                "#B0BEC5",
                "#B0BEC5",
                "#B0BEC5",
                "#B0BEC5",
                "#B0BEC5",
                "#B0BEC5",
                "#B0BEC5",
                "#B0BEC5",
                "red",
                "#B0BEC5",
                "#B0BEC5",
                "#B0BEC5",
                "#B0BEC5",
                "#B0BEC5",
                "#B0BEC5",
                "#B0BEC5",
                "#B0BEC5",
                "#B0BEC5",
                "#B0BEC5",
                "#B0BEC5",
                "#B0BEC5",
                "#B0BEC5",
                "#B0BEC5",
                "#B0BEC5",
                "#B0BEC5",
                "#B0BEC5",
                "#B0BEC5",
                "#B0BEC5",
                "#B0BEC5",
                "#B0BEC5",
                "#B0BEC5",
                "#B0BEC5",
                "#B0BEC5",
                "#B0BEC5",
                "#B0BEC5",
                "#B0BEC5"
               ]
              ]
             }
            ],
            "label": "Topic 8",
            "method": "update"
           },
           {
            "args": [
             {
              "marker.color": [
               [
                "#B0BEC5",
                "#B0BEC5",
                "#B0BEC5",
                "#B0BEC5",
                "#B0BEC5",
                "#B0BEC5",
                "#B0BEC5",
                "#B0BEC5",
                "#B0BEC5",
                "red",
                "#B0BEC5",
                "#B0BEC5",
                "#B0BEC5",
                "#B0BEC5",
                "#B0BEC5",
                "#B0BEC5",
                "#B0BEC5",
                "#B0BEC5",
                "#B0BEC5",
                "#B0BEC5",
                "#B0BEC5",
                "#B0BEC5",
                "#B0BEC5",
                "#B0BEC5",
                "#B0BEC5",
                "#B0BEC5",
                "#B0BEC5",
                "#B0BEC5",
                "#B0BEC5",
                "#B0BEC5",
                "#B0BEC5",
                "#B0BEC5",
                "#B0BEC5",
                "#B0BEC5",
                "#B0BEC5",
                "#B0BEC5"
               ]
              ]
             }
            ],
            "label": "Topic 9",
            "method": "update"
           },
           {
            "args": [
             {
              "marker.color": [
               [
                "#B0BEC5",
                "#B0BEC5",
                "#B0BEC5",
                "#B0BEC5",
                "#B0BEC5",
                "#B0BEC5",
                "#B0BEC5",
                "#B0BEC5",
                "#B0BEC5",
                "#B0BEC5",
                "red",
                "#B0BEC5",
                "#B0BEC5",
                "#B0BEC5",
                "#B0BEC5",
                "#B0BEC5",
                "#B0BEC5",
                "#B0BEC5",
                "#B0BEC5",
                "#B0BEC5",
                "#B0BEC5",
                "#B0BEC5",
                "#B0BEC5",
                "#B0BEC5",
                "#B0BEC5",
                "#B0BEC5",
                "#B0BEC5",
                "#B0BEC5",
                "#B0BEC5",
                "#B0BEC5",
                "#B0BEC5",
                "#B0BEC5",
                "#B0BEC5",
                "#B0BEC5",
                "#B0BEC5",
                "#B0BEC5"
               ]
              ]
             }
            ],
            "label": "Topic 10",
            "method": "update"
           },
           {
            "args": [
             {
              "marker.color": [
               [
                "#B0BEC5",
                "#B0BEC5",
                "#B0BEC5",
                "#B0BEC5",
                "#B0BEC5",
                "#B0BEC5",
                "#B0BEC5",
                "#B0BEC5",
                "#B0BEC5",
                "#B0BEC5",
                "#B0BEC5",
                "red",
                "#B0BEC5",
                "#B0BEC5",
                "#B0BEC5",
                "#B0BEC5",
                "#B0BEC5",
                "#B0BEC5",
                "#B0BEC5",
                "#B0BEC5",
                "#B0BEC5",
                "#B0BEC5",
                "#B0BEC5",
                "#B0BEC5",
                "#B0BEC5",
                "#B0BEC5",
                "#B0BEC5",
                "#B0BEC5",
                "#B0BEC5",
                "#B0BEC5",
                "#B0BEC5",
                "#B0BEC5",
                "#B0BEC5",
                "#B0BEC5",
                "#B0BEC5",
                "#B0BEC5"
               ]
              ]
             }
            ],
            "label": "Topic 11",
            "method": "update"
           },
           {
            "args": [
             {
              "marker.color": [
               [
                "#B0BEC5",
                "#B0BEC5",
                "#B0BEC5",
                "#B0BEC5",
                "#B0BEC5",
                "#B0BEC5",
                "#B0BEC5",
                "#B0BEC5",
                "#B0BEC5",
                "#B0BEC5",
                "#B0BEC5",
                "#B0BEC5",
                "red",
                "#B0BEC5",
                "#B0BEC5",
                "#B0BEC5",
                "#B0BEC5",
                "#B0BEC5",
                "#B0BEC5",
                "#B0BEC5",
                "#B0BEC5",
                "#B0BEC5",
                "#B0BEC5",
                "#B0BEC5",
                "#B0BEC5",
                "#B0BEC5",
                "#B0BEC5",
                "#B0BEC5",
                "#B0BEC5",
                "#B0BEC5",
                "#B0BEC5",
                "#B0BEC5",
                "#B0BEC5",
                "#B0BEC5",
                "#B0BEC5",
                "#B0BEC5"
               ]
              ]
             }
            ],
            "label": "Topic 12",
            "method": "update"
           },
           {
            "args": [
             {
              "marker.color": [
               [
                "#B0BEC5",
                "#B0BEC5",
                "#B0BEC5",
                "#B0BEC5",
                "#B0BEC5",
                "#B0BEC5",
                "#B0BEC5",
                "#B0BEC5",
                "#B0BEC5",
                "#B0BEC5",
                "#B0BEC5",
                "#B0BEC5",
                "#B0BEC5",
                "red",
                "#B0BEC5",
                "#B0BEC5",
                "#B0BEC5",
                "#B0BEC5",
                "#B0BEC5",
                "#B0BEC5",
                "#B0BEC5",
                "#B0BEC5",
                "#B0BEC5",
                "#B0BEC5",
                "#B0BEC5",
                "#B0BEC5",
                "#B0BEC5",
                "#B0BEC5",
                "#B0BEC5",
                "#B0BEC5",
                "#B0BEC5",
                "#B0BEC5",
                "#B0BEC5",
                "#B0BEC5",
                "#B0BEC5",
                "#B0BEC5"
               ]
              ]
             }
            ],
            "label": "Topic 13",
            "method": "update"
           },
           {
            "args": [
             {
              "marker.color": [
               [
                "#B0BEC5",
                "#B0BEC5",
                "#B0BEC5",
                "#B0BEC5",
                "#B0BEC5",
                "#B0BEC5",
                "#B0BEC5",
                "#B0BEC5",
                "#B0BEC5",
                "#B0BEC5",
                "#B0BEC5",
                "#B0BEC5",
                "#B0BEC5",
                "#B0BEC5",
                "red",
                "#B0BEC5",
                "#B0BEC5",
                "#B0BEC5",
                "#B0BEC5",
                "#B0BEC5",
                "#B0BEC5",
                "#B0BEC5",
                "#B0BEC5",
                "#B0BEC5",
                "#B0BEC5",
                "#B0BEC5",
                "#B0BEC5",
                "#B0BEC5",
                "#B0BEC5",
                "#B0BEC5",
                "#B0BEC5",
                "#B0BEC5",
                "#B0BEC5",
                "#B0BEC5",
                "#B0BEC5",
                "#B0BEC5"
               ]
              ]
             }
            ],
            "label": "Topic 14",
            "method": "update"
           },
           {
            "args": [
             {
              "marker.color": [
               [
                "#B0BEC5",
                "#B0BEC5",
                "#B0BEC5",
                "#B0BEC5",
                "#B0BEC5",
                "#B0BEC5",
                "#B0BEC5",
                "#B0BEC5",
                "#B0BEC5",
                "#B0BEC5",
                "#B0BEC5",
                "#B0BEC5",
                "#B0BEC5",
                "#B0BEC5",
                "#B0BEC5",
                "red",
                "#B0BEC5",
                "#B0BEC5",
                "#B0BEC5",
                "#B0BEC5",
                "#B0BEC5",
                "#B0BEC5",
                "#B0BEC5",
                "#B0BEC5",
                "#B0BEC5",
                "#B0BEC5",
                "#B0BEC5",
                "#B0BEC5",
                "#B0BEC5",
                "#B0BEC5",
                "#B0BEC5",
                "#B0BEC5",
                "#B0BEC5",
                "#B0BEC5",
                "#B0BEC5",
                "#B0BEC5"
               ]
              ]
             }
            ],
            "label": "Topic 15",
            "method": "update"
           },
           {
            "args": [
             {
              "marker.color": [
               [
                "#B0BEC5",
                "#B0BEC5",
                "#B0BEC5",
                "#B0BEC5",
                "#B0BEC5",
                "#B0BEC5",
                "#B0BEC5",
                "#B0BEC5",
                "#B0BEC5",
                "#B0BEC5",
                "#B0BEC5",
                "#B0BEC5",
                "#B0BEC5",
                "#B0BEC5",
                "#B0BEC5",
                "#B0BEC5",
                "red",
                "#B0BEC5",
                "#B0BEC5",
                "#B0BEC5",
                "#B0BEC5",
                "#B0BEC5",
                "#B0BEC5",
                "#B0BEC5",
                "#B0BEC5",
                "#B0BEC5",
                "#B0BEC5",
                "#B0BEC5",
                "#B0BEC5",
                "#B0BEC5",
                "#B0BEC5",
                "#B0BEC5",
                "#B0BEC5",
                "#B0BEC5",
                "#B0BEC5",
                "#B0BEC5"
               ]
              ]
             }
            ],
            "label": "Topic 16",
            "method": "update"
           },
           {
            "args": [
             {
              "marker.color": [
               [
                "#B0BEC5",
                "#B0BEC5",
                "#B0BEC5",
                "#B0BEC5",
                "#B0BEC5",
                "#B0BEC5",
                "#B0BEC5",
                "#B0BEC5",
                "#B0BEC5",
                "#B0BEC5",
                "#B0BEC5",
                "#B0BEC5",
                "#B0BEC5",
                "#B0BEC5",
                "#B0BEC5",
                "#B0BEC5",
                "#B0BEC5",
                "red",
                "#B0BEC5",
                "#B0BEC5",
                "#B0BEC5",
                "#B0BEC5",
                "#B0BEC5",
                "#B0BEC5",
                "#B0BEC5",
                "#B0BEC5",
                "#B0BEC5",
                "#B0BEC5",
                "#B0BEC5",
                "#B0BEC5",
                "#B0BEC5",
                "#B0BEC5",
                "#B0BEC5",
                "#B0BEC5",
                "#B0BEC5",
                "#B0BEC5"
               ]
              ]
             }
            ],
            "label": "Topic 17",
            "method": "update"
           },
           {
            "args": [
             {
              "marker.color": [
               [
                "#B0BEC5",
                "#B0BEC5",
                "#B0BEC5",
                "#B0BEC5",
                "#B0BEC5",
                "#B0BEC5",
                "#B0BEC5",
                "#B0BEC5",
                "#B0BEC5",
                "#B0BEC5",
                "#B0BEC5",
                "#B0BEC5",
                "#B0BEC5",
                "#B0BEC5",
                "#B0BEC5",
                "#B0BEC5",
                "#B0BEC5",
                "#B0BEC5",
                "red",
                "#B0BEC5",
                "#B0BEC5",
                "#B0BEC5",
                "#B0BEC5",
                "#B0BEC5",
                "#B0BEC5",
                "#B0BEC5",
                "#B0BEC5",
                "#B0BEC5",
                "#B0BEC5",
                "#B0BEC5",
                "#B0BEC5",
                "#B0BEC5",
                "#B0BEC5",
                "#B0BEC5",
                "#B0BEC5",
                "#B0BEC5"
               ]
              ]
             }
            ],
            "label": "Topic 18",
            "method": "update"
           },
           {
            "args": [
             {
              "marker.color": [
               [
                "#B0BEC5",
                "#B0BEC5",
                "#B0BEC5",
                "#B0BEC5",
                "#B0BEC5",
                "#B0BEC5",
                "#B0BEC5",
                "#B0BEC5",
                "#B0BEC5",
                "#B0BEC5",
                "#B0BEC5",
                "#B0BEC5",
                "#B0BEC5",
                "#B0BEC5",
                "#B0BEC5",
                "#B0BEC5",
                "#B0BEC5",
                "#B0BEC5",
                "#B0BEC5",
                "red",
                "#B0BEC5",
                "#B0BEC5",
                "#B0BEC5",
                "#B0BEC5",
                "#B0BEC5",
                "#B0BEC5",
                "#B0BEC5",
                "#B0BEC5",
                "#B0BEC5",
                "#B0BEC5",
                "#B0BEC5",
                "#B0BEC5",
                "#B0BEC5",
                "#B0BEC5",
                "#B0BEC5",
                "#B0BEC5"
               ]
              ]
             }
            ],
            "label": "Topic 19",
            "method": "update"
           },
           {
            "args": [
             {
              "marker.color": [
               [
                "#B0BEC5",
                "#B0BEC5",
                "#B0BEC5",
                "#B0BEC5",
                "#B0BEC5",
                "#B0BEC5",
                "#B0BEC5",
                "#B0BEC5",
                "#B0BEC5",
                "#B0BEC5",
                "#B0BEC5",
                "#B0BEC5",
                "#B0BEC5",
                "#B0BEC5",
                "#B0BEC5",
                "#B0BEC5",
                "#B0BEC5",
                "#B0BEC5",
                "#B0BEC5",
                "#B0BEC5",
                "red",
                "#B0BEC5",
                "#B0BEC5",
                "#B0BEC5",
                "#B0BEC5",
                "#B0BEC5",
                "#B0BEC5",
                "#B0BEC5",
                "#B0BEC5",
                "#B0BEC5",
                "#B0BEC5",
                "#B0BEC5",
                "#B0BEC5",
                "#B0BEC5",
                "#B0BEC5",
                "#B0BEC5"
               ]
              ]
             }
            ],
            "label": "Topic 20",
            "method": "update"
           },
           {
            "args": [
             {
              "marker.color": [
               [
                "#B0BEC5",
                "#B0BEC5",
                "#B0BEC5",
                "#B0BEC5",
                "#B0BEC5",
                "#B0BEC5",
                "#B0BEC5",
                "#B0BEC5",
                "#B0BEC5",
                "#B0BEC5",
                "#B0BEC5",
                "#B0BEC5",
                "#B0BEC5",
                "#B0BEC5",
                "#B0BEC5",
                "#B0BEC5",
                "#B0BEC5",
                "#B0BEC5",
                "#B0BEC5",
                "#B0BEC5",
                "#B0BEC5",
                "red",
                "#B0BEC5",
                "#B0BEC5",
                "#B0BEC5",
                "#B0BEC5",
                "#B0BEC5",
                "#B0BEC5",
                "#B0BEC5",
                "#B0BEC5",
                "#B0BEC5",
                "#B0BEC5",
                "#B0BEC5",
                "#B0BEC5",
                "#B0BEC5",
                "#B0BEC5"
               ]
              ]
             }
            ],
            "label": "Topic 21",
            "method": "update"
           },
           {
            "args": [
             {
              "marker.color": [
               [
                "#B0BEC5",
                "#B0BEC5",
                "#B0BEC5",
                "#B0BEC5",
                "#B0BEC5",
                "#B0BEC5",
                "#B0BEC5",
                "#B0BEC5",
                "#B0BEC5",
                "#B0BEC5",
                "#B0BEC5",
                "#B0BEC5",
                "#B0BEC5",
                "#B0BEC5",
                "#B0BEC5",
                "#B0BEC5",
                "#B0BEC5",
                "#B0BEC5",
                "#B0BEC5",
                "#B0BEC5",
                "#B0BEC5",
                "#B0BEC5",
                "red",
                "#B0BEC5",
                "#B0BEC5",
                "#B0BEC5",
                "#B0BEC5",
                "#B0BEC5",
                "#B0BEC5",
                "#B0BEC5",
                "#B0BEC5",
                "#B0BEC5",
                "#B0BEC5",
                "#B0BEC5",
                "#B0BEC5",
                "#B0BEC5"
               ]
              ]
             }
            ],
            "label": "Topic 22",
            "method": "update"
           },
           {
            "args": [
             {
              "marker.color": [
               [
                "#B0BEC5",
                "#B0BEC5",
                "#B0BEC5",
                "#B0BEC5",
                "#B0BEC5",
                "#B0BEC5",
                "#B0BEC5",
                "#B0BEC5",
                "#B0BEC5",
                "#B0BEC5",
                "#B0BEC5",
                "#B0BEC5",
                "#B0BEC5",
                "#B0BEC5",
                "#B0BEC5",
                "#B0BEC5",
                "#B0BEC5",
                "#B0BEC5",
                "#B0BEC5",
                "#B0BEC5",
                "#B0BEC5",
                "#B0BEC5",
                "#B0BEC5",
                "red",
                "#B0BEC5",
                "#B0BEC5",
                "#B0BEC5",
                "#B0BEC5",
                "#B0BEC5",
                "#B0BEC5",
                "#B0BEC5",
                "#B0BEC5",
                "#B0BEC5",
                "#B0BEC5",
                "#B0BEC5",
                "#B0BEC5"
               ]
              ]
             }
            ],
            "label": "Topic 23",
            "method": "update"
           },
           {
            "args": [
             {
              "marker.color": [
               [
                "#B0BEC5",
                "#B0BEC5",
                "#B0BEC5",
                "#B0BEC5",
                "#B0BEC5",
                "#B0BEC5",
                "#B0BEC5",
                "#B0BEC5",
                "#B0BEC5",
                "#B0BEC5",
                "#B0BEC5",
                "#B0BEC5",
                "#B0BEC5",
                "#B0BEC5",
                "#B0BEC5",
                "#B0BEC5",
                "#B0BEC5",
                "#B0BEC5",
                "#B0BEC5",
                "#B0BEC5",
                "#B0BEC5",
                "#B0BEC5",
                "#B0BEC5",
                "#B0BEC5",
                "red",
                "#B0BEC5",
                "#B0BEC5",
                "#B0BEC5",
                "#B0BEC5",
                "#B0BEC5",
                "#B0BEC5",
                "#B0BEC5",
                "#B0BEC5",
                "#B0BEC5",
                "#B0BEC5",
                "#B0BEC5"
               ]
              ]
             }
            ],
            "label": "Topic 24",
            "method": "update"
           },
           {
            "args": [
             {
              "marker.color": [
               [
                "#B0BEC5",
                "#B0BEC5",
                "#B0BEC5",
                "#B0BEC5",
                "#B0BEC5",
                "#B0BEC5",
                "#B0BEC5",
                "#B0BEC5",
                "#B0BEC5",
                "#B0BEC5",
                "#B0BEC5",
                "#B0BEC5",
                "#B0BEC5",
                "#B0BEC5",
                "#B0BEC5",
                "#B0BEC5",
                "#B0BEC5",
                "#B0BEC5",
                "#B0BEC5",
                "#B0BEC5",
                "#B0BEC5",
                "#B0BEC5",
                "#B0BEC5",
                "#B0BEC5",
                "#B0BEC5",
                "red",
                "#B0BEC5",
                "#B0BEC5",
                "#B0BEC5",
                "#B0BEC5",
                "#B0BEC5",
                "#B0BEC5",
                "#B0BEC5",
                "#B0BEC5",
                "#B0BEC5",
                "#B0BEC5"
               ]
              ]
             }
            ],
            "label": "Topic 25",
            "method": "update"
           },
           {
            "args": [
             {
              "marker.color": [
               [
                "#B0BEC5",
                "#B0BEC5",
                "#B0BEC5",
                "#B0BEC5",
                "#B0BEC5",
                "#B0BEC5",
                "#B0BEC5",
                "#B0BEC5",
                "#B0BEC5",
                "#B0BEC5",
                "#B0BEC5",
                "#B0BEC5",
                "#B0BEC5",
                "#B0BEC5",
                "#B0BEC5",
                "#B0BEC5",
                "#B0BEC5",
                "#B0BEC5",
                "#B0BEC5",
                "#B0BEC5",
                "#B0BEC5",
                "#B0BEC5",
                "#B0BEC5",
                "#B0BEC5",
                "#B0BEC5",
                "#B0BEC5",
                "red",
                "#B0BEC5",
                "#B0BEC5",
                "#B0BEC5",
                "#B0BEC5",
                "#B0BEC5",
                "#B0BEC5",
                "#B0BEC5",
                "#B0BEC5",
                "#B0BEC5"
               ]
              ]
             }
            ],
            "label": "Topic 26",
            "method": "update"
           },
           {
            "args": [
             {
              "marker.color": [
               [
                "#B0BEC5",
                "#B0BEC5",
                "#B0BEC5",
                "#B0BEC5",
                "#B0BEC5",
                "#B0BEC5",
                "#B0BEC5",
                "#B0BEC5",
                "#B0BEC5",
                "#B0BEC5",
                "#B0BEC5",
                "#B0BEC5",
                "#B0BEC5",
                "#B0BEC5",
                "#B0BEC5",
                "#B0BEC5",
                "#B0BEC5",
                "#B0BEC5",
                "#B0BEC5",
                "#B0BEC5",
                "#B0BEC5",
                "#B0BEC5",
                "#B0BEC5",
                "#B0BEC5",
                "#B0BEC5",
                "#B0BEC5",
                "#B0BEC5",
                "red",
                "#B0BEC5",
                "#B0BEC5",
                "#B0BEC5",
                "#B0BEC5",
                "#B0BEC5",
                "#B0BEC5",
                "#B0BEC5",
                "#B0BEC5"
               ]
              ]
             }
            ],
            "label": "Topic 27",
            "method": "update"
           },
           {
            "args": [
             {
              "marker.color": [
               [
                "#B0BEC5",
                "#B0BEC5",
                "#B0BEC5",
                "#B0BEC5",
                "#B0BEC5",
                "#B0BEC5",
                "#B0BEC5",
                "#B0BEC5",
                "#B0BEC5",
                "#B0BEC5",
                "#B0BEC5",
                "#B0BEC5",
                "#B0BEC5",
                "#B0BEC5",
                "#B0BEC5",
                "#B0BEC5",
                "#B0BEC5",
                "#B0BEC5",
                "#B0BEC5",
                "#B0BEC5",
                "#B0BEC5",
                "#B0BEC5",
                "#B0BEC5",
                "#B0BEC5",
                "#B0BEC5",
                "#B0BEC5",
                "#B0BEC5",
                "#B0BEC5",
                "red",
                "#B0BEC5",
                "#B0BEC5",
                "#B0BEC5",
                "#B0BEC5",
                "#B0BEC5",
                "#B0BEC5",
                "#B0BEC5"
               ]
              ]
             }
            ],
            "label": "Topic 28",
            "method": "update"
           },
           {
            "args": [
             {
              "marker.color": [
               [
                "#B0BEC5",
                "#B0BEC5",
                "#B0BEC5",
                "#B0BEC5",
                "#B0BEC5",
                "#B0BEC5",
                "#B0BEC5",
                "#B0BEC5",
                "#B0BEC5",
                "#B0BEC5",
                "#B0BEC5",
                "#B0BEC5",
                "#B0BEC5",
                "#B0BEC5",
                "#B0BEC5",
                "#B0BEC5",
                "#B0BEC5",
                "#B0BEC5",
                "#B0BEC5",
                "#B0BEC5",
                "#B0BEC5",
                "#B0BEC5",
                "#B0BEC5",
                "#B0BEC5",
                "#B0BEC5",
                "#B0BEC5",
                "#B0BEC5",
                "#B0BEC5",
                "#B0BEC5",
                "red",
                "#B0BEC5",
                "#B0BEC5",
                "#B0BEC5",
                "#B0BEC5",
                "#B0BEC5",
                "#B0BEC5"
               ]
              ]
             }
            ],
            "label": "Topic 29",
            "method": "update"
           },
           {
            "args": [
             {
              "marker.color": [
               [
                "#B0BEC5",
                "#B0BEC5",
                "#B0BEC5",
                "#B0BEC5",
                "#B0BEC5",
                "#B0BEC5",
                "#B0BEC5",
                "#B0BEC5",
                "#B0BEC5",
                "#B0BEC5",
                "#B0BEC5",
                "#B0BEC5",
                "#B0BEC5",
                "#B0BEC5",
                "#B0BEC5",
                "#B0BEC5",
                "#B0BEC5",
                "#B0BEC5",
                "#B0BEC5",
                "#B0BEC5",
                "#B0BEC5",
                "#B0BEC5",
                "#B0BEC5",
                "#B0BEC5",
                "#B0BEC5",
                "#B0BEC5",
                "#B0BEC5",
                "#B0BEC5",
                "#B0BEC5",
                "#B0BEC5",
                "red",
                "#B0BEC5",
                "#B0BEC5",
                "#B0BEC5",
                "#B0BEC5",
                "#B0BEC5"
               ]
              ]
             }
            ],
            "label": "Topic 30",
            "method": "update"
           },
           {
            "args": [
             {
              "marker.color": [
               [
                "#B0BEC5",
                "#B0BEC5",
                "#B0BEC5",
                "#B0BEC5",
                "#B0BEC5",
                "#B0BEC5",
                "#B0BEC5",
                "#B0BEC5",
                "#B0BEC5",
                "#B0BEC5",
                "#B0BEC5",
                "#B0BEC5",
                "#B0BEC5",
                "#B0BEC5",
                "#B0BEC5",
                "#B0BEC5",
                "#B0BEC5",
                "#B0BEC5",
                "#B0BEC5",
                "#B0BEC5",
                "#B0BEC5",
                "#B0BEC5",
                "#B0BEC5",
                "#B0BEC5",
                "#B0BEC5",
                "#B0BEC5",
                "#B0BEC5",
                "#B0BEC5",
                "#B0BEC5",
                "#B0BEC5",
                "#B0BEC5",
                "red",
                "#B0BEC5",
                "#B0BEC5",
                "#B0BEC5",
                "#B0BEC5"
               ]
              ]
             }
            ],
            "label": "Topic 31",
            "method": "update"
           },
           {
            "args": [
             {
              "marker.color": [
               [
                "#B0BEC5",
                "#B0BEC5",
                "#B0BEC5",
                "#B0BEC5",
                "#B0BEC5",
                "#B0BEC5",
                "#B0BEC5",
                "#B0BEC5",
                "#B0BEC5",
                "#B0BEC5",
                "#B0BEC5",
                "#B0BEC5",
                "#B0BEC5",
                "#B0BEC5",
                "#B0BEC5",
                "#B0BEC5",
                "#B0BEC5",
                "#B0BEC5",
                "#B0BEC5",
                "#B0BEC5",
                "#B0BEC5",
                "#B0BEC5",
                "#B0BEC5",
                "#B0BEC5",
                "#B0BEC5",
                "#B0BEC5",
                "#B0BEC5",
                "#B0BEC5",
                "#B0BEC5",
                "#B0BEC5",
                "#B0BEC5",
                "#B0BEC5",
                "red",
                "#B0BEC5",
                "#B0BEC5",
                "#B0BEC5"
               ]
              ]
             }
            ],
            "label": "Topic 32",
            "method": "update"
           },
           {
            "args": [
             {
              "marker.color": [
               [
                "#B0BEC5",
                "#B0BEC5",
                "#B0BEC5",
                "#B0BEC5",
                "#B0BEC5",
                "#B0BEC5",
                "#B0BEC5",
                "#B0BEC5",
                "#B0BEC5",
                "#B0BEC5",
                "#B0BEC5",
                "#B0BEC5",
                "#B0BEC5",
                "#B0BEC5",
                "#B0BEC5",
                "#B0BEC5",
                "#B0BEC5",
                "#B0BEC5",
                "#B0BEC5",
                "#B0BEC5",
                "#B0BEC5",
                "#B0BEC5",
                "#B0BEC5",
                "#B0BEC5",
                "#B0BEC5",
                "#B0BEC5",
                "#B0BEC5",
                "#B0BEC5",
                "#B0BEC5",
                "#B0BEC5",
                "#B0BEC5",
                "#B0BEC5",
                "#B0BEC5",
                "red",
                "#B0BEC5",
                "#B0BEC5"
               ]
              ]
             }
            ],
            "label": "Topic 33",
            "method": "update"
           },
           {
            "args": [
             {
              "marker.color": [
               [
                "#B0BEC5",
                "#B0BEC5",
                "#B0BEC5",
                "#B0BEC5",
                "#B0BEC5",
                "#B0BEC5",
                "#B0BEC5",
                "#B0BEC5",
                "#B0BEC5",
                "#B0BEC5",
                "#B0BEC5",
                "#B0BEC5",
                "#B0BEC5",
                "#B0BEC5",
                "#B0BEC5",
                "#B0BEC5",
                "#B0BEC5",
                "#B0BEC5",
                "#B0BEC5",
                "#B0BEC5",
                "#B0BEC5",
                "#B0BEC5",
                "#B0BEC5",
                "#B0BEC5",
                "#B0BEC5",
                "#B0BEC5",
                "#B0BEC5",
                "#B0BEC5",
                "#B0BEC5",
                "#B0BEC5",
                "#B0BEC5",
                "#B0BEC5",
                "#B0BEC5",
                "#B0BEC5",
                "red",
                "#B0BEC5"
               ]
              ]
             }
            ],
            "label": "Topic 34",
            "method": "update"
           },
           {
            "args": [
             {
              "marker.color": [
               [
                "#B0BEC5",
                "#B0BEC5",
                "#B0BEC5",
                "#B0BEC5",
                "#B0BEC5",
                "#B0BEC5",
                "#B0BEC5",
                "#B0BEC5",
                "#B0BEC5",
                "#B0BEC5",
                "#B0BEC5",
                "#B0BEC5",
                "#B0BEC5",
                "#B0BEC5",
                "#B0BEC5",
                "#B0BEC5",
                "#B0BEC5",
                "#B0BEC5",
                "#B0BEC5",
                "#B0BEC5",
                "#B0BEC5",
                "#B0BEC5",
                "#B0BEC5",
                "#B0BEC5",
                "#B0BEC5",
                "#B0BEC5",
                "#B0BEC5",
                "#B0BEC5",
                "#B0BEC5",
                "#B0BEC5",
                "#B0BEC5",
                "#B0BEC5",
                "#B0BEC5",
                "#B0BEC5",
                "#B0BEC5",
                "red"
               ]
              ]
             }
            ],
            "label": "Topic 35",
            "method": "update"
           }
          ]
         }
        ],
        "template": {
         "data": {
          "bar": [
           {
            "error_x": {
             "color": "rgb(36,36,36)"
            },
            "error_y": {
             "color": "rgb(36,36,36)"
            },
            "marker": {
             "line": {
              "color": "white",
              "width": 0.5
             },
             "pattern": {
              "fillmode": "overlay",
              "size": 10,
              "solidity": 0.2
             }
            },
            "type": "bar"
           }
          ],
          "barpolar": [
           {
            "marker": {
             "line": {
              "color": "white",
              "width": 0.5
             },
             "pattern": {
              "fillmode": "overlay",
              "size": 10,
              "solidity": 0.2
             }
            },
            "type": "barpolar"
           }
          ],
          "carpet": [
           {
            "aaxis": {
             "endlinecolor": "rgb(36,36,36)",
             "gridcolor": "white",
             "linecolor": "white",
             "minorgridcolor": "white",
             "startlinecolor": "rgb(36,36,36)"
            },
            "baxis": {
             "endlinecolor": "rgb(36,36,36)",
             "gridcolor": "white",
             "linecolor": "white",
             "minorgridcolor": "white",
             "startlinecolor": "rgb(36,36,36)"
            },
            "type": "carpet"
           }
          ],
          "choropleth": [
           {
            "colorbar": {
             "outlinewidth": 1,
             "tickcolor": "rgb(36,36,36)",
             "ticks": "outside"
            },
            "type": "choropleth"
           }
          ],
          "contour": [
           {
            "colorbar": {
             "outlinewidth": 1,
             "tickcolor": "rgb(36,36,36)",
             "ticks": "outside"
            },
            "colorscale": [
             [
              0,
              "#440154"
             ],
             [
              0.1111111111111111,
              "#482878"
             ],
             [
              0.2222222222222222,
              "#3e4989"
             ],
             [
              0.3333333333333333,
              "#31688e"
             ],
             [
              0.4444444444444444,
              "#26828e"
             ],
             [
              0.5555555555555556,
              "#1f9e89"
             ],
             [
              0.6666666666666666,
              "#35b779"
             ],
             [
              0.7777777777777778,
              "#6ece58"
             ],
             [
              0.8888888888888888,
              "#b5de2b"
             ],
             [
              1,
              "#fde725"
             ]
            ],
            "type": "contour"
           }
          ],
          "contourcarpet": [
           {
            "colorbar": {
             "outlinewidth": 1,
             "tickcolor": "rgb(36,36,36)",
             "ticks": "outside"
            },
            "type": "contourcarpet"
           }
          ],
          "heatmap": [
           {
            "colorbar": {
             "outlinewidth": 1,
             "tickcolor": "rgb(36,36,36)",
             "ticks": "outside"
            },
            "colorscale": [
             [
              0,
              "#440154"
             ],
             [
              0.1111111111111111,
              "#482878"
             ],
             [
              0.2222222222222222,
              "#3e4989"
             ],
             [
              0.3333333333333333,
              "#31688e"
             ],
             [
              0.4444444444444444,
              "#26828e"
             ],
             [
              0.5555555555555556,
              "#1f9e89"
             ],
             [
              0.6666666666666666,
              "#35b779"
             ],
             [
              0.7777777777777778,
              "#6ece58"
             ],
             [
              0.8888888888888888,
              "#b5de2b"
             ],
             [
              1,
              "#fde725"
             ]
            ],
            "type": "heatmap"
           }
          ],
          "heatmapgl": [
           {
            "colorbar": {
             "outlinewidth": 1,
             "tickcolor": "rgb(36,36,36)",
             "ticks": "outside"
            },
            "colorscale": [
             [
              0,
              "#440154"
             ],
             [
              0.1111111111111111,
              "#482878"
             ],
             [
              0.2222222222222222,
              "#3e4989"
             ],
             [
              0.3333333333333333,
              "#31688e"
             ],
             [
              0.4444444444444444,
              "#26828e"
             ],
             [
              0.5555555555555556,
              "#1f9e89"
             ],
             [
              0.6666666666666666,
              "#35b779"
             ],
             [
              0.7777777777777778,
              "#6ece58"
             ],
             [
              0.8888888888888888,
              "#b5de2b"
             ],
             [
              1,
              "#fde725"
             ]
            ],
            "type": "heatmapgl"
           }
          ],
          "histogram": [
           {
            "marker": {
             "line": {
              "color": "white",
              "width": 0.6
             }
            },
            "type": "histogram"
           }
          ],
          "histogram2d": [
           {
            "colorbar": {
             "outlinewidth": 1,
             "tickcolor": "rgb(36,36,36)",
             "ticks": "outside"
            },
            "colorscale": [
             [
              0,
              "#440154"
             ],
             [
              0.1111111111111111,
              "#482878"
             ],
             [
              0.2222222222222222,
              "#3e4989"
             ],
             [
              0.3333333333333333,
              "#31688e"
             ],
             [
              0.4444444444444444,
              "#26828e"
             ],
             [
              0.5555555555555556,
              "#1f9e89"
             ],
             [
              0.6666666666666666,
              "#35b779"
             ],
             [
              0.7777777777777778,
              "#6ece58"
             ],
             [
              0.8888888888888888,
              "#b5de2b"
             ],
             [
              1,
              "#fde725"
             ]
            ],
            "type": "histogram2d"
           }
          ],
          "histogram2dcontour": [
           {
            "colorbar": {
             "outlinewidth": 1,
             "tickcolor": "rgb(36,36,36)",
             "ticks": "outside"
            },
            "colorscale": [
             [
              0,
              "#440154"
             ],
             [
              0.1111111111111111,
              "#482878"
             ],
             [
              0.2222222222222222,
              "#3e4989"
             ],
             [
              0.3333333333333333,
              "#31688e"
             ],
             [
              0.4444444444444444,
              "#26828e"
             ],
             [
              0.5555555555555556,
              "#1f9e89"
             ],
             [
              0.6666666666666666,
              "#35b779"
             ],
             [
              0.7777777777777778,
              "#6ece58"
             ],
             [
              0.8888888888888888,
              "#b5de2b"
             ],
             [
              1,
              "#fde725"
             ]
            ],
            "type": "histogram2dcontour"
           }
          ],
          "mesh3d": [
           {
            "colorbar": {
             "outlinewidth": 1,
             "tickcolor": "rgb(36,36,36)",
             "ticks": "outside"
            },
            "type": "mesh3d"
           }
          ],
          "parcoords": [
           {
            "line": {
             "colorbar": {
              "outlinewidth": 1,
              "tickcolor": "rgb(36,36,36)",
              "ticks": "outside"
             }
            },
            "type": "parcoords"
           }
          ],
          "pie": [
           {
            "automargin": true,
            "type": "pie"
           }
          ],
          "scatter": [
           {
            "fillpattern": {
             "fillmode": "overlay",
             "size": 10,
             "solidity": 0.2
            },
            "type": "scatter"
           }
          ],
          "scatter3d": [
           {
            "line": {
             "colorbar": {
              "outlinewidth": 1,
              "tickcolor": "rgb(36,36,36)",
              "ticks": "outside"
             }
            },
            "marker": {
             "colorbar": {
              "outlinewidth": 1,
              "tickcolor": "rgb(36,36,36)",
              "ticks": "outside"
             }
            },
            "type": "scatter3d"
           }
          ],
          "scattercarpet": [
           {
            "marker": {
             "colorbar": {
              "outlinewidth": 1,
              "tickcolor": "rgb(36,36,36)",
              "ticks": "outside"
             }
            },
            "type": "scattercarpet"
           }
          ],
          "scattergeo": [
           {
            "marker": {
             "colorbar": {
              "outlinewidth": 1,
              "tickcolor": "rgb(36,36,36)",
              "ticks": "outside"
             }
            },
            "type": "scattergeo"
           }
          ],
          "scattergl": [
           {
            "marker": {
             "colorbar": {
              "outlinewidth": 1,
              "tickcolor": "rgb(36,36,36)",
              "ticks": "outside"
             }
            },
            "type": "scattergl"
           }
          ],
          "scattermapbox": [
           {
            "marker": {
             "colorbar": {
              "outlinewidth": 1,
              "tickcolor": "rgb(36,36,36)",
              "ticks": "outside"
             }
            },
            "type": "scattermapbox"
           }
          ],
          "scatterpolar": [
           {
            "marker": {
             "colorbar": {
              "outlinewidth": 1,
              "tickcolor": "rgb(36,36,36)",
              "ticks": "outside"
             }
            },
            "type": "scatterpolar"
           }
          ],
          "scatterpolargl": [
           {
            "marker": {
             "colorbar": {
              "outlinewidth": 1,
              "tickcolor": "rgb(36,36,36)",
              "ticks": "outside"
             }
            },
            "type": "scatterpolargl"
           }
          ],
          "scatterternary": [
           {
            "marker": {
             "colorbar": {
              "outlinewidth": 1,
              "tickcolor": "rgb(36,36,36)",
              "ticks": "outside"
             }
            },
            "type": "scatterternary"
           }
          ],
          "surface": [
           {
            "colorbar": {
             "outlinewidth": 1,
             "tickcolor": "rgb(36,36,36)",
             "ticks": "outside"
            },
            "colorscale": [
             [
              0,
              "#440154"
             ],
             [
              0.1111111111111111,
              "#482878"
             ],
             [
              0.2222222222222222,
              "#3e4989"
             ],
             [
              0.3333333333333333,
              "#31688e"
             ],
             [
              0.4444444444444444,
              "#26828e"
             ],
             [
              0.5555555555555556,
              "#1f9e89"
             ],
             [
              0.6666666666666666,
              "#35b779"
             ],
             [
              0.7777777777777778,
              "#6ece58"
             ],
             [
              0.8888888888888888,
              "#b5de2b"
             ],
             [
              1,
              "#fde725"
             ]
            ],
            "type": "surface"
           }
          ],
          "table": [
           {
            "cells": {
             "fill": {
              "color": "rgb(237,237,237)"
             },
             "line": {
              "color": "white"
             }
            },
            "header": {
             "fill": {
              "color": "rgb(217,217,217)"
             },
             "line": {
              "color": "white"
             }
            },
            "type": "table"
           }
          ]
         },
         "layout": {
          "annotationdefaults": {
           "arrowhead": 0,
           "arrowwidth": 1
          },
          "autotypenumbers": "strict",
          "coloraxis": {
           "colorbar": {
            "outlinewidth": 1,
            "tickcolor": "rgb(36,36,36)",
            "ticks": "outside"
           }
          },
          "colorscale": {
           "diverging": [
            [
             0,
             "rgb(103,0,31)"
            ],
            [
             0.1,
             "rgb(178,24,43)"
            ],
            [
             0.2,
             "rgb(214,96,77)"
            ],
            [
             0.3,
             "rgb(244,165,130)"
            ],
            [
             0.4,
             "rgb(253,219,199)"
            ],
            [
             0.5,
             "rgb(247,247,247)"
            ],
            [
             0.6,
             "rgb(209,229,240)"
            ],
            [
             0.7,
             "rgb(146,197,222)"
            ],
            [
             0.8,
             "rgb(67,147,195)"
            ],
            [
             0.9,
             "rgb(33,102,172)"
            ],
            [
             1,
             "rgb(5,48,97)"
            ]
           ],
           "sequential": [
            [
             0,
             "#440154"
            ],
            [
             0.1111111111111111,
             "#482878"
            ],
            [
             0.2222222222222222,
             "#3e4989"
            ],
            [
             0.3333333333333333,
             "#31688e"
            ],
            [
             0.4444444444444444,
             "#26828e"
            ],
            [
             0.5555555555555556,
             "#1f9e89"
            ],
            [
             0.6666666666666666,
             "#35b779"
            ],
            [
             0.7777777777777778,
             "#6ece58"
            ],
            [
             0.8888888888888888,
             "#b5de2b"
            ],
            [
             1,
             "#fde725"
            ]
           ],
           "sequentialminus": [
            [
             0,
             "#440154"
            ],
            [
             0.1111111111111111,
             "#482878"
            ],
            [
             0.2222222222222222,
             "#3e4989"
            ],
            [
             0.3333333333333333,
             "#31688e"
            ],
            [
             0.4444444444444444,
             "#26828e"
            ],
            [
             0.5555555555555556,
             "#1f9e89"
            ],
            [
             0.6666666666666666,
             "#35b779"
            ],
            [
             0.7777777777777778,
             "#6ece58"
            ],
            [
             0.8888888888888888,
             "#b5de2b"
            ],
            [
             1,
             "#fde725"
            ]
           ]
          },
          "colorway": [
           "#1F77B4",
           "#FF7F0E",
           "#2CA02C",
           "#D62728",
           "#9467BD",
           "#8C564B",
           "#E377C2",
           "#7F7F7F",
           "#BCBD22",
           "#17BECF"
          ],
          "font": {
           "color": "rgb(36,36,36)"
          },
          "geo": {
           "bgcolor": "white",
           "lakecolor": "white",
           "landcolor": "white",
           "showlakes": true,
           "showland": true,
           "subunitcolor": "white"
          },
          "hoverlabel": {
           "align": "left"
          },
          "hovermode": "closest",
          "mapbox": {
           "style": "light"
          },
          "paper_bgcolor": "white",
          "plot_bgcolor": "white",
          "polar": {
           "angularaxis": {
            "gridcolor": "rgb(232,232,232)",
            "linecolor": "rgb(36,36,36)",
            "showgrid": false,
            "showline": true,
            "ticks": "outside"
           },
           "bgcolor": "white",
           "radialaxis": {
            "gridcolor": "rgb(232,232,232)",
            "linecolor": "rgb(36,36,36)",
            "showgrid": false,
            "showline": true,
            "ticks": "outside"
           }
          },
          "scene": {
           "xaxis": {
            "backgroundcolor": "white",
            "gridcolor": "rgb(232,232,232)",
            "gridwidth": 2,
            "linecolor": "rgb(36,36,36)",
            "showbackground": true,
            "showgrid": false,
            "showline": true,
            "ticks": "outside",
            "zeroline": false,
            "zerolinecolor": "rgb(36,36,36)"
           },
           "yaxis": {
            "backgroundcolor": "white",
            "gridcolor": "rgb(232,232,232)",
            "gridwidth": 2,
            "linecolor": "rgb(36,36,36)",
            "showbackground": true,
            "showgrid": false,
            "showline": true,
            "ticks": "outside",
            "zeroline": false,
            "zerolinecolor": "rgb(36,36,36)"
           },
           "zaxis": {
            "backgroundcolor": "white",
            "gridcolor": "rgb(232,232,232)",
            "gridwidth": 2,
            "linecolor": "rgb(36,36,36)",
            "showbackground": true,
            "showgrid": false,
            "showline": true,
            "ticks": "outside",
            "zeroline": false,
            "zerolinecolor": "rgb(36,36,36)"
           }
          },
          "shapedefaults": {
           "fillcolor": "black",
           "line": {
            "width": 0
           },
           "opacity": 0.3
          },
          "ternary": {
           "aaxis": {
            "gridcolor": "rgb(232,232,232)",
            "linecolor": "rgb(36,36,36)",
            "showgrid": false,
            "showline": true,
            "ticks": "outside"
           },
           "baxis": {
            "gridcolor": "rgb(232,232,232)",
            "linecolor": "rgb(36,36,36)",
            "showgrid": false,
            "showline": true,
            "ticks": "outside"
           },
           "bgcolor": "white",
           "caxis": {
            "gridcolor": "rgb(232,232,232)",
            "linecolor": "rgb(36,36,36)",
            "showgrid": false,
            "showline": true,
            "ticks": "outside"
           }
          },
          "title": {
           "x": 0.05
          },
          "xaxis": {
           "automargin": true,
           "gridcolor": "rgb(232,232,232)",
           "linecolor": "rgb(36,36,36)",
           "showgrid": false,
           "showline": true,
           "ticks": "outside",
           "title": {
            "standoff": 15
           },
           "zeroline": false,
           "zerolinecolor": "rgb(36,36,36)"
          },
          "yaxis": {
           "automargin": true,
           "gridcolor": "rgb(232,232,232)",
           "linecolor": "rgb(36,36,36)",
           "showgrid": false,
           "showline": true,
           "ticks": "outside",
           "title": {
            "standoff": 15
           },
           "zeroline": false,
           "zerolinecolor": "rgb(36,36,36)"
          }
         }
        },
        "title": {
         "font": {
          "color": "Black",
          "size": 22
         },
         "text": "<b>Intertopic Distance Map</b>",
         "x": 0.5,
         "xanchor": "center",
         "y": 0.95,
         "yanchor": "top"
        },
        "width": 650,
        "xaxis": {
         "anchor": "y",
         "domain": [
          0,
          1
         ],
         "range": [
          -14.527286911010743,
          24.117253971099853
         ],
         "title": {
          "text": ""
         },
         "visible": false
        },
        "yaxis": {
         "anchor": "x",
         "domain": [
          0,
          1
         ],
         "range": [
          -11.589667177200317,
          23.941828346252443
         ],
         "title": {
          "text": ""
         },
         "visible": false
        }
       }
      }
     },
     "metadata": {},
     "output_type": "display_data"
    }
   ],
   "source": [
    "topic_model.visualize_topics() "
   ]
  }
 ],
 "metadata": {
  "kernelspec": {
   "display_name": ".venv",
   "language": "python",
   "name": "python3"
  },
  "language_info": {
   "codemirror_mode": {
    "name": "ipython",
    "version": 3
   },
   "file_extension": ".py",
   "mimetype": "text/x-python",
   "name": "python",
   "nbconvert_exporter": "python",
   "pygments_lexer": "ipython3",
   "version": "3.12.2"
  }
 },
 "nbformat": 4,
 "nbformat_minor": 2
}
