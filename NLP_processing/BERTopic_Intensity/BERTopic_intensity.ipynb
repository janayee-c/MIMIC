{
 "cells": [
  {
   "cell_type": "code",
   "execution_count": 1,
   "metadata": {},
   "outputs": [
    {
     "name": "stderr",
     "output_type": "stream",
     "text": [
      "[nltk_data] Downloading package wordnet to\n",
      "[nltk_data]     /Users/JanayeCheong/nltk_data...\n",
      "[nltk_data]   Package wordnet is already up-to-date!\n"
     ]
    }
   ],
   "source": [
    "import ipykernel\n",
    "ipykernel.__version__\n",
    "import scipy\n",
    "from scipy import stats\n",
    "\n",
    "import pandas as pd\n",
    "import json\n",
    "\n",
    "# NLTK \n",
    "import re\n",
    "import nltk\n",
    "import umap.umap_ as UMAP\n",
    "from nltk import word_tokenize        \n",
    "nltk.download('wordnet')  \n",
    "from hdbscan import HDBSCAN\n",
    "from sentence_transformers import SentenceTransformer\n",
    "from sklearn.feature_extraction.text import CountVectorizer\n",
    "from bertopic.representation import KeyBERTInspired\n",
    "from bertopic.vectorizers import ClassTfidfTransformer\n",
    "import pickle \n",
    "from bertopic.representation import MaximalMarginalRelevance\n",
    "import torch"
   ]
  },
  {
   "cell_type": "markdown",
   "metadata": {},
   "source": [
    "### BERTOPIC Overall "
   ]
  },
  {
   "cell_type": "code",
   "execution_count": 63,
   "metadata": {},
   "outputs": [
    {
     "name": "stderr",
     "output_type": "stream",
     "text": [
      "huggingface/tokenizers: The current process just got forked, after parallelism has already been used. Disabling parallelism to avoid deadlocks...\n",
      "To disable this warning, you can either:\n",
      "\t- Avoid using `tokenizers` before the fork if possible\n",
      "\t- Explicitly set the environment variable TOKENIZERS_PARALLELISM=(true | false)\n"
     ]
    }
   ],
   "source": [
    "import pandas as pd\n",
    "import torch\n",
    "from sentence_transformers import SentenceTransformer\n",
    "from transformers import AutoTokenizer, AutoModel\n",
    "import numpy \n",
    "\n",
    "# Path to the pre-trained model\n",
    "model_path = \"microsoft/BiomedVLP-CXR-BERT-specialized\"\n",
    "\n",
    "# Load tokenizer and model\n",
    "tokenizer = AutoTokenizer.from_pretrained(model_path, trust_remote_code=True)\n",
    "embedding_model = AutoModel.from_pretrained(model_path, trust_remote_code=True)\n",
    "\n",
    "# Load the structured report database\n",
    "df_path = 'structured_reports.csv'\n",
    "database = pd.read_csv(df_path)"
   ]
  },
  {
   "cell_type": "code",
   "execution_count": 85,
   "metadata": {},
   "outputs": [
    {
     "data": {
      "text/plain": [
       "(2759, 768)"
      ]
     },
     "execution_count": 85,
     "metadata": {},
     "output_type": "execute_result"
    }
   ],
   "source": [
    "embeddings = torch.load('../embeddings/intense_pneumonia_embeddings/radiology_embeddings_mean.pt')\n",
    "type(embeddings)\n",
    "\n",
    "embeddings.shape"
   ]
  },
  {
   "cell_type": "code",
   "execution_count": 51,
   "metadata": {},
   "outputs": [],
   "source": [
    "reports_df = pd.read_csv('structured_reports.csv')"
   ]
  },
  {
   "cell_type": "code",
   "execution_count": null,
   "metadata": {},
   "outputs": [
    {
     "name": "stderr",
     "output_type": "stream",
     "text": [
      "2024-12-08 13:11:17,631 - BERTopic - Dimensionality - Fitting the dimensionality reduction algorithm\n",
      "2024-12-08 13:11:24,271 - BERTopic - Dimensionality - Completed ✓\n",
      "2024-12-08 13:11:24,271 - BERTopic - Cluster - Start clustering the reduced embeddings\n",
      "2024-12-08 13:11:24,454 - BERTopic - Cluster - Completed ✓\n",
      "2024-12-08 13:11:24,457 - BERTopic - Representation - Extracting topics from clusters using representation models.\n",
      "2024-12-08 13:11:48,484 - BERTopic - Representation - Completed ✓\n"
     ]
    }
   ],
   "source": [
    "from umap import UMAP\n",
    "from hdbscan import HDBSCAN\n",
    "from sentence_transformers import SentenceTransformer\n",
    "from sklearn.feature_extraction.text import CountVectorizer\n",
    "from bertopic import BERTopic\n",
    "from bertopic.representation import KeyBERTInspired\n",
    "from bertopic.vectorizers import ClassTfidfTransformer\n",
    "from bertopic.representation import MaximalMarginalRelevance\n",
    "import torch\n",
    "import os\n",
    "# Load the embeddings\n",
    "database = reports_df \n",
    "\n",
    "docs = reports_df['full_text'].tolist()\n",
    "\n",
    "# UMAP model for dimensionality reduction\n",
    "umap_model = UMAP(n_neighbors=30, n_components=5, min_dist=0.0, metric='cosine')\n",
    "\n",
    "# HDBSCAN model for clustering\n",
    "hdbscan_model = HDBSCAN(min_samples=20, \n",
    "                        gen_min_span_tree=True, \n",
    "                        prediction_data=True, \n",
    "                        min_cluster_size=5, \n",
    "                        metric='euclidean', \n",
    "                        cluster_selection_method='leaf')\n",
    "\n",
    "# Create the CountVectorizer instance with the custom LemmaTokenizer\n",
    "vectorizer_model = CountVectorizer(strip_accents='unicode', \n",
    "                                   stop_words='english', \n",
    "                                   ngram_range=(1, 3), \n",
    "                                   max_df=0.6) # remove general terms \n",
    "                                \n",
    "\n",
    "# Step 1: Initialize custom c-TF-IDF model\n",
    "ctfidf_model = ClassTfidfTransformer(\n",
    "    bm25_weighting=False,             # BM25: Beyond a certain point, additional occurrences of a term don’t contribute as much to its weight, introducing a saturation effect. This is controlled by the k1 parameter.\n",
    "    reduce_frequent_words=True,       # Reduce the impact of overly frequent words (True if needed)\n",
    ")\n",
    "\n",
    "\n",
    "# chain model: first extract the most relevant with KeyBERT, then prioritize diversity \n",
    "representation_model = [KeyBERTInspired(top_n_words=30, random_state=42), MaximalMarginalRelevance(diversity=0.7)]\n",
    "\n",
    "# Initialize and fit BERTopic with probability calculation\n",
    "topic_model = BERTopic(\n",
    "    embedding_model=embedding_model,\n",
    "    umap_model=umap_model,\n",
    "    hdbscan_model=hdbscan_model,\n",
    "    ctfidf_model=ctfidf_model, \n",
    "    vectorizer_model=vectorizer_model,\n",
    "    verbose=True,\n",
    "    representation_model=representation_model,\n",
    "    top_n_words=30,\n",
    "    calculate_probabilities=True,  # Ensure that BERTopic calculates probabilities\n",
    ")\n",
    "\n",
    "# Fit the model with documents and embeddings\n",
    "# probabilities \n",
    "topics, probabilities = topic_model.fit_transform(docs, embeddings=embeddings)\n",
    "\n",
    "# Create the directory if it does not exist\n",
    "os.makedirs('../../models/NEWBERTopic', exist_ok=True)\n",
    "os.makedirs('../../models/NEWBERTopic/representations/', exist_ok=True)\n",
    "os.makedirs('../../models/NEWBERTopic/clusters/', exist_ok=True)\n",
    "\n",
    "# Save the BERTopic model for later use as a directory \n",
    "# Save the ctf-idf matrix  for terms \n",
    "topic_model.save(\"../../models/NEWBERTopic/representations/specter_representation_keybert_mmr\", serialization=\"pytorch\", save_ctfidf=True)\n",
    "\n",
    "# Get HDBSCAN cluster labels and probabilities\n",
    "hdbscan_labels = topic_model.hdbscan_model.labels_\n",
    "#The prediction_data=True enables the model to calculate probabilities by predicting how confidently each document fits into a cluster (fits and transforms)\n",
    "hdbscan_probabilities = topic_model.hdbscan_model.probabilities_ # These probabilities tell you how confidently HDBSCAN assigns a document to its cluster (after fitting embeddings according to hdb model)\n",
    "\n",
    "# Save HDBSCAN cluster labels and probabilities\n",
    "torch.save(hdbscan_labels, '../../models/NEWBERTopic/clusters/hdbscan_labels_keybert_mmr.pt')\n",
    "torch.save(hdbscan_probabilities, '../../models/NEWBERTopic/clusters/hdbscan_probabilities_keybert_mmr.pt')\n",
    "\n",
    "## Manually save some files to the model directory \n",
    "# Save BERTopic probabilities (topic-patent / document-topic matrix) inside the model directory\n",
    "torch.save(probabilities, '../../models/NEWBERTopic/representations/specter_representation_keybert_mmr/specter_probabilities_keybert_mmr.pt') # the actual document-topic probabilities that delineate association of each document to topic(s)\n",
    "\n",
    "# Print the topic information after applying custom c-TF-IDF\n",
    "topic_info = topic_model.get_topic_info()\n",
    "torch.save(topic_info, '../../models/NEWBERTopic/representations/specter_representation_keybert_mmr/topic_info_keybert_mmr.pt')\n",
    "topic_info.to_csv('../../models/NEWBERTopic/representations/specter_representation_keybert_mmr/topic_info.csv')\n",
    "topic_info.to_excel('../../models/NEWBERTopic/representations/specter_representation_keybert_mmr/topic_info.xlsx')\n",
    "\n",
    "# Save the representation and count vectorizer models to a .pt file\n",
    "torch.save(representation_model, '../../models/NEWBERTopic/representations/specter_representation_keybert_mmr/representation_model.pt')\n",
    "torch.save(vectorizer_model, '../../models/NEWBERTopic/representations/specter_representation_keybert_mmr/vectorizer_model.pt')"
   ]
  },
  {
   "cell_type": "code",
   "execution_count": 71,
   "metadata": {},
   "outputs": [
    {
     "data": {
      "text/plain": [
       "(2759, 34)"
      ]
     },
     "execution_count": 71,
     "metadata": {},
     "output_type": "execute_result"
    }
   ],
   "source": [
    "probabilities.shape"
   ]
  },
  {
   "cell_type": "code",
   "execution_count": 77,
   "metadata": {},
   "outputs": [],
   "source": [
    "# Start with study_id and subject_id\n",
    "probability_mapping = pd.DataFrame({\n",
    "    'study_id': reports_df['study_id'],\n",
    "    'subject_id': reports_df['subject_id']\n",
    "})\n",
    "\n",
    "# Add each probability as its own column\n",
    "for i in range(probabilities.shape[1]):  # Should be 34 topics\n",
    "    probability_mapping[f'topic_{i}'] = probabilities[:, i]\n",
    "\n",
    "# Save the mapping\n",
    "torch.save(probability_mapping, '../../models/NEWBERTopic/representations/specter_representation_keybert_mmr/probability_mapping.pt')"
   ]
  },
  {
   "cell_type": "code",
   "execution_count": 84,
   "metadata": {},
   "outputs": [],
   "source": [
    "# Start with study_id and subject_id\n",
    "probability_mapping = pd.DataFrame({\n",
    "    'study_id': reports_df['study_id'],\n",
    "    'subject_id': reports_df['subject_id'],\n",
    "    'probabilities': list(probabilities)  # Each element will be the probability array for that document\n",
    "})\n",
    "\n",
    "\n",
    "probability_mapping.to_csv('probability_mapping_array.csv')\n",
    "\n",
    "# Save the mapping\n",
    "torch.save(probability_mapping, '../../models/NEWBERTopic/representations/specter_representation_keybert_mmr/probability_array_mapping.pt')"
   ]
  },
  {
   "cell_type": "code",
   "execution_count": 79,
   "metadata": {},
   "outputs": [],
   "source": [
    "probability_mapping.head()\n",
    "probability_mapping.to_csv('probability_mapping.csv')"
   ]
  },
  {
   "cell_type": "code",
   "execution_count": 80,
   "metadata": {},
   "outputs": [
    {
     "data": {
      "text/html": [
       "<div>\n",
       "<style scoped>\n",
       "    .dataframe tbody tr th:only-of-type {\n",
       "        vertical-align: middle;\n",
       "    }\n",
       "\n",
       "    .dataframe tbody tr th {\n",
       "        vertical-align: top;\n",
       "    }\n",
       "\n",
       "    .dataframe thead th {\n",
       "        text-align: right;\n",
       "    }\n",
       "</style>\n",
       "<table border=\"1\" class=\"dataframe\">\n",
       "  <thead>\n",
       "    <tr style=\"text-align: right;\">\n",
       "      <th></th>\n",
       "      <th>Topic</th>\n",
       "      <th>Count</th>\n",
       "      <th>Name</th>\n",
       "      <th>Representation</th>\n",
       "      <th>Representative_Docs</th>\n",
       "    </tr>\n",
       "  </thead>\n",
       "  <tbody>\n",
       "    <tr>\n",
       "      <th>0</th>\n",
       "      <td>-1</td>\n",
       "      <td>1824</td>\n",
       "      <td>-1_lower lobe pneumonia_bilateral pleural effu...</td>\n",
       "      <td>[lower lobe pneumonia, bilateral pleural effus...</td>\n",
       "      <td>[WET READ: [REMOVED] [REMOVED] [REMOVED] 1:54 ...</td>\n",
       "    </tr>\n",
       "    <tr>\n",
       "      <th>1</th>\n",
       "      <td>0</td>\n",
       "      <td>117</td>\n",
       "      <td>0_lobe pneumonia notification_frontal lateral ...</td>\n",
       "      <td>[lobe pneumonia notification, frontal lateral ...</td>\n",
       "      <td>[FINAL REPORT EXAMINATION: CHEST (PORTABLE AP)...</td>\n",
       "    </tr>\n",
       "    <tr>\n",
       "      <th>2</th>\n",
       "      <td>1</td>\n",
       "      <td>84</td>\n",
       "      <td>1_effusions pneumothorax_opacity right lung_sm...</td>\n",
       "      <td>[effusions pneumothorax, opacity right lung, s...</td>\n",
       "      <td>[FINAL REPORT INDICATION: [REMOVED]-year-old m...</td>\n",
       "    </tr>\n",
       "    <tr>\n",
       "      <th>3</th>\n",
       "      <td>2</td>\n",
       "      <td>75</td>\n",
       "      <td>2_lobe pneumonia followup_pneumonia pleural ef...</td>\n",
       "      <td>[lobe pneumonia followup, pneumonia pleural ef...</td>\n",
       "      <td>[FINAL REPORT EXAMINATION: CHEST (PA AND LAT) ...</td>\n",
       "    </tr>\n",
       "    <tr>\n",
       "      <th>4</th>\n",
       "      <td>3</td>\n",
       "      <td>58</td>\n",
       "      <td>3_pneumonia findings pa_lungs appear_large eff...</td>\n",
       "      <td>[pneumonia findings pa, lungs appear, large ef...</td>\n",
       "      <td>[FINAL REPORT CHEST RADIOGRAPH PERFORMED ON [R...</td>\n",
       "    </tr>\n",
       "    <tr>\n",
       "      <th>5</th>\n",
       "      <td>4</td>\n",
       "      <td>55</td>\n",
       "      <td>4_pneumonia technique chest_pneumonia pleural ...</td>\n",
       "      <td>[pneumonia technique chest, pneumonia pleural ...</td>\n",
       "      <td>[WET READ: [REMOVED] [REMOVED] [REMOVED] 11:56...</td>\n",
       "    </tr>\n",
       "    <tr>\n",
       "      <th>6</th>\n",
       "      <td>5</td>\n",
       "      <td>46</td>\n",
       "      <td>5_lung volumes bibasilar_relatively low lung_p...</td>\n",
       "      <td>[lung volumes bibasilar, relatively low lung, ...</td>\n",
       "      <td>[FINAL REPORT EXAM: Chest, frontal and lateral...</td>\n",
       "    </tr>\n",
       "    <tr>\n",
       "      <th>7</th>\n",
       "      <td>6</td>\n",
       "      <td>40</td>\n",
       "      <td>6_consolidation left lung_grossly clear pneumo...</td>\n",
       "      <td>[consolidation left lung, grossly clear pneumo...</td>\n",
       "      <td>[WET READ: [REMOVED] [REMOVED] [REMOVED] 9:23 ...</td>\n",
       "    </tr>\n",
       "    <tr>\n",
       "      <th>8</th>\n",
       "      <td>7</td>\n",
       "      <td>36</td>\n",
       "      <td>7_lingular pneumonia_compatible pneumonia prop...</td>\n",
       "      <td>[lingular pneumonia, compatible pneumonia prop...</td>\n",
       "      <td>[WET READ: [REMOVED] [REMOVED] [REMOVED] 3:06 ...</td>\n",
       "    </tr>\n",
       "    <tr>\n",
       "      <th>9</th>\n",
       "      <td>8</td>\n",
       "      <td>35</td>\n",
       "      <td>8_right atrium pneumothorax_junction evidence ...</td>\n",
       "      <td>[right atrium pneumothorax, junction evidence ...</td>\n",
       "      <td>[FINAL REPORT INDICATION: Status post central ...</td>\n",
       "    </tr>\n",
       "    <tr>\n",
       "      <th>10</th>\n",
       "      <td>9</td>\n",
       "      <td>29</td>\n",
       "      <td>9_pleural effusions pulmonary_moderate pulmona...</td>\n",
       "      <td>[pleural effusions pulmonary, moderate pulmona...</td>\n",
       "      <td>[FINAL REPORT EXAM: Chest, single AP upright p...</td>\n",
       "    </tr>\n",
       "    <tr>\n",
       "      <th>11</th>\n",
       "      <td>10</td>\n",
       "      <td>29</td>\n",
       "      <td>10_lateral chest radiograph_pleural effusions ...</td>\n",
       "      <td>[lateral chest radiograph, pleural effusions m...</td>\n",
       "      <td>[FINAL REPORT INDICATION: [REMOVED]-year-old m...</td>\n",
       "    </tr>\n",
       "    <tr>\n",
       "      <th>12</th>\n",
       "      <td>11</td>\n",
       "      <td>29</td>\n",
       "      <td>11_effusion pneumothorax widespread_comparison...</td>\n",
       "      <td>[effusion pneumothorax widespread, comparisons...</td>\n",
       "      <td>[FINAL REPORT CHEST RADIOGRAPH HISTORY: Produc...</td>\n",
       "    </tr>\n",
       "    <tr>\n",
       "      <th>13</th>\n",
       "      <td>12</td>\n",
       "      <td>26</td>\n",
       "      <td>12_bilateral pleural effusions_moderate alveol...</td>\n",
       "      <td>[bilateral pleural effusions, moderate alveola...</td>\n",
       "      <td>[WET READ: [REMOVED] [REMOVED] 5:03 PM Bilater...</td>\n",
       "    </tr>\n",
       "    <tr>\n",
       "      <th>14</th>\n",
       "      <td>13</td>\n",
       "      <td>25</td>\n",
       "      <td>13_opacity consistent pneumonia_consolidation ...</td>\n",
       "      <td>[opacity consistent pneumonia, consolidation c...</td>\n",
       "      <td>[WET READ: [REMOVED] [REMOVED] [REMOVED] 7:57 ...</td>\n",
       "    </tr>\n",
       "    <tr>\n",
       "      <th>15</th>\n",
       "      <td>14</td>\n",
       "      <td>24</td>\n",
       "      <td>14_assess pneumonia findings_pneumothorax card...</td>\n",
       "      <td>[assess pneumonia findings, pneumothorax cardi...</td>\n",
       "      <td>[FINAL REPORT CHEST RADIOGRAPH PERFORMED ON [R...</td>\n",
       "    </tr>\n",
       "    <tr>\n",
       "      <th>16</th>\n",
       "      <td>15</td>\n",
       "      <td>22</td>\n",
       "      <td>15_effusion pneumothorax cardiomediastinal_pne...</td>\n",
       "      <td>[effusion pneumothorax cardiomediastinal, pneu...</td>\n",
       "      <td>[WET READ: [REMOVED] [REMOVED] [REMOVED] 4:39 ...</td>\n",
       "    </tr>\n",
       "    <tr>\n",
       "      <th>17</th>\n",
       "      <td>16</td>\n",
       "      <td>22</td>\n",
       "      <td>16_endotracheal tube appears_position enteric ...</td>\n",
       "      <td>[endotracheal tube appears, position enteric t...</td>\n",
       "      <td>[FINAL REPORT HISTORY: Altered mental status, ...</td>\n",
       "    </tr>\n",
       "    <tr>\n",
       "      <th>18</th>\n",
       "      <td>17</td>\n",
       "      <td>19</td>\n",
       "      <td>17_posterior lung_effusion pneumothorax impres...</td>\n",
       "      <td>[posterior lung, effusion pneumothorax impress...</td>\n",
       "      <td>[WET READ: [REMOVED] [REMOVED] [REMOVED] 3:47 ...</td>\n",
       "    </tr>\n",
       "    <tr>\n",
       "      <th>19</th>\n",
       "      <td>18</td>\n",
       "      <td>19</td>\n",
       "      <td>18_lobe pneumonia followup_pneumonia cardiac m...</td>\n",
       "      <td>[lobe pneumonia followup, pneumonia cardiac me...</td>\n",
       "      <td>[FINAL REPORT INDICATION: Congestive heart fai...</td>\n",
       "    </tr>\n",
       "    <tr>\n",
       "      <th>20</th>\n",
       "      <td>19</td>\n",
       "      <td>17</td>\n",
       "      <td>19_effusion pneumothorax seen_setting left lun...</td>\n",
       "      <td>[effusion pneumothorax seen, setting left lung...</td>\n",
       "      <td>[FINAL REPORT EXAMINATION: Chest: Frontal and ...</td>\n",
       "    </tr>\n",
       "    <tr>\n",
       "      <th>21</th>\n",
       "      <td>20</td>\n",
       "      <td>15</td>\n",
       "      <td>20_chest ct similar_aspect left lung_pulmonary...</td>\n",
       "      <td>[chest ct similar, aspect left lung, pulmonary...</td>\n",
       "      <td>[FINAL REPORT HISTORY: Dyspnea. TECHNIQUE: Upr...</td>\n",
       "    </tr>\n",
       "    <tr>\n",
       "      <th>22</th>\n",
       "      <td>21</td>\n",
       "      <td>13</td>\n",
       "      <td>21_sided pleural effusion_left pneumothorax he...</td>\n",
       "      <td>[sided pleural effusion, left pneumothorax hea...</td>\n",
       "      <td>[WET READ: [REMOVED] [REMOVED] [REMOVED] 7:29 ...</td>\n",
       "    </tr>\n",
       "    <tr>\n",
       "      <th>23</th>\n",
       "      <td>22</td>\n",
       "      <td>12</td>\n",
       "      <td>22_pulmonary edema atypical_chronic lung disea...</td>\n",
       "      <td>[pulmonary edema atypical, chronic lung diseas...</td>\n",
       "      <td>[FINAL REPORT EXAMINATION: CHEST (PORTABLE AP)...</td>\n",
       "    </tr>\n",
       "    <tr>\n",
       "      <th>24</th>\n",
       "      <td>23</td>\n",
       "      <td>11</td>\n",
       "      <td>23_left pleural effusion_chest frontal lateral...</td>\n",
       "      <td>[left pleural effusion, chest frontal lateral,...</td>\n",
       "      <td>[FINAL REPORT HISTORY: Recent admission for pn...</td>\n",
       "    </tr>\n",
       "    <tr>\n",
       "      <th>25</th>\n",
       "      <td>24</td>\n",
       "      <td>11</td>\n",
       "      <td>24_underlying interstitial lung_chest compared...</td>\n",
       "      <td>[underlying interstitial lung, chest compared ...</td>\n",
       "      <td>[FINAL REPORT INDICATION: [REMOVED]M with trea...</td>\n",
       "    </tr>\n",
       "    <tr>\n",
       "      <th>26</th>\n",
       "      <td>25</td>\n",
       "      <td>10</td>\n",
       "      <td>25_chest ct removed_lung nodules better_obstru...</td>\n",
       "      <td>[chest ct removed, lung nodules better, obstru...</td>\n",
       "      <td>[FINAL REPORT INDICATION: History: [REMOVED]F ...</td>\n",
       "    </tr>\n",
       "    <tr>\n",
       "      <th>27</th>\n",
       "      <td>26</td>\n",
       "      <td>9</td>\n",
       "      <td>26_lung disease atelectasis_contours unchanged...</td>\n",
       "      <td>[lung disease atelectasis, contours unchanged ...</td>\n",
       "      <td>[FINAL REPORT EXAMINATION: CHEST (PA AND LAT) ...</td>\n",
       "    </tr>\n",
       "    <tr>\n",
       "      <th>28</th>\n",
       "      <td>27</td>\n",
       "      <td>8</td>\n",
       "      <td>27_lower lobe pneumonia_unremarkable left lung...</td>\n",
       "      <td>[lower lobe pneumonia, unremarkable left lung,...</td>\n",
       "      <td>[FINAL REPORT INDICATION: [REMOVED]-year-old m...</td>\n",
       "    </tr>\n",
       "    <tr>\n",
       "      <th>29</th>\n",
       "      <td>28</td>\n",
       "      <td>8</td>\n",
       "      <td>28_pneumonia heart mediastinal_normal pneumoth...</td>\n",
       "      <td>[pneumonia heart mediastinal, normal pneumotho...</td>\n",
       "      <td>[FINAL REPORT EXAMINATION: CHEST (PA AND LAT) ...</td>\n",
       "    </tr>\n",
       "    <tr>\n",
       "      <th>30</th>\n",
       "      <td>29</td>\n",
       "      <td>8</td>\n",
       "      <td>29_consolidation concerning pneumonia_upper lu...</td>\n",
       "      <td>[consolidation concerning pneumonia, upper lun...</td>\n",
       "      <td>[FINAL REPORT HISTORY: Recent diagnosis of pne...</td>\n",
       "    </tr>\n",
       "    <tr>\n",
       "      <th>31</th>\n",
       "      <td>30</td>\n",
       "      <td>7</td>\n",
       "      <td>30_findings lung volumes_atelectasis large ple...</td>\n",
       "      <td>[findings lung volumes, atelectasis large pleu...</td>\n",
       "      <td>[FINAL REPORT HISTORY: Shortness of breath, co...</td>\n",
       "    </tr>\n",
       "    <tr>\n",
       "      <th>32</th>\n",
       "      <td>31</td>\n",
       "      <td>6</td>\n",
       "      <td>31_endotracheal enteric tubes_pleural effusion...</td>\n",
       "      <td>[endotracheal enteric tubes, pleural effusions...</td>\n",
       "      <td>[WET READ: [REMOVED] [REMOVED] [REMOVED] 10:32...</td>\n",
       "    </tr>\n",
       "    <tr>\n",
       "      <th>33</th>\n",
       "      <td>32</td>\n",
       "      <td>5</td>\n",
       "      <td>32_pneumothorax moderate severe_effusion trace...</td>\n",
       "      <td>[pneumothorax moderate severe, effusion trace ...</td>\n",
       "      <td>[FINAL REPORT CHEST RADIOGRAPHS HISTORY: Cough...</td>\n",
       "    </tr>\n",
       "    <tr>\n",
       "      <th>34</th>\n",
       "      <td>33</td>\n",
       "      <td>5</td>\n",
       "      <td>33_basilar atelectasis pneumothorax_pleural ef...</td>\n",
       "      <td>[basilar atelectasis pneumothorax, pleural eff...</td>\n",
       "      <td>[FINAL REPORT HISTORY: Generalized weakness. T...</td>\n",
       "    </tr>\n",
       "  </tbody>\n",
       "</table>\n",
       "</div>"
      ],
      "text/plain": [
       "    Topic  Count                                               Name  \\\n",
       "0      -1   1824  -1_lower lobe pneumonia_bilateral pleural effu...   \n",
       "1       0    117  0_lobe pneumonia notification_frontal lateral ...   \n",
       "2       1     84  1_effusions pneumothorax_opacity right lung_sm...   \n",
       "3       2     75  2_lobe pneumonia followup_pneumonia pleural ef...   \n",
       "4       3     58  3_pneumonia findings pa_lungs appear_large eff...   \n",
       "5       4     55  4_pneumonia technique chest_pneumonia pleural ...   \n",
       "6       5     46  5_lung volumes bibasilar_relatively low lung_p...   \n",
       "7       6     40  6_consolidation left lung_grossly clear pneumo...   \n",
       "8       7     36  7_lingular pneumonia_compatible pneumonia prop...   \n",
       "9       8     35  8_right atrium pneumothorax_junction evidence ...   \n",
       "10      9     29  9_pleural effusions pulmonary_moderate pulmona...   \n",
       "11     10     29  10_lateral chest radiograph_pleural effusions ...   \n",
       "12     11     29  11_effusion pneumothorax widespread_comparison...   \n",
       "13     12     26  12_bilateral pleural effusions_moderate alveol...   \n",
       "14     13     25  13_opacity consistent pneumonia_consolidation ...   \n",
       "15     14     24  14_assess pneumonia findings_pneumothorax card...   \n",
       "16     15     22  15_effusion pneumothorax cardiomediastinal_pne...   \n",
       "17     16     22  16_endotracheal tube appears_position enteric ...   \n",
       "18     17     19  17_posterior lung_effusion pneumothorax impres...   \n",
       "19     18     19  18_lobe pneumonia followup_pneumonia cardiac m...   \n",
       "20     19     17  19_effusion pneumothorax seen_setting left lun...   \n",
       "21     20     15  20_chest ct similar_aspect left lung_pulmonary...   \n",
       "22     21     13  21_sided pleural effusion_left pneumothorax he...   \n",
       "23     22     12  22_pulmonary edema atypical_chronic lung disea...   \n",
       "24     23     11  23_left pleural effusion_chest frontal lateral...   \n",
       "25     24     11  24_underlying interstitial lung_chest compared...   \n",
       "26     25     10  25_chest ct removed_lung nodules better_obstru...   \n",
       "27     26      9  26_lung disease atelectasis_contours unchanged...   \n",
       "28     27      8  27_lower lobe pneumonia_unremarkable left lung...   \n",
       "29     28      8  28_pneumonia heart mediastinal_normal pneumoth...   \n",
       "30     29      8  29_consolidation concerning pneumonia_upper lu...   \n",
       "31     30      7  30_findings lung volumes_atelectasis large ple...   \n",
       "32     31      6  31_endotracheal enteric tubes_pleural effusion...   \n",
       "33     32      5  32_pneumothorax moderate severe_effusion trace...   \n",
       "34     33      5  33_basilar atelectasis pneumothorax_pleural ef...   \n",
       "\n",
       "                                       Representation  \\\n",
       "0   [lower lobe pneumonia, bilateral pleural effus...   \n",
       "1   [lobe pneumonia notification, frontal lateral ...   \n",
       "2   [effusions pneumothorax, opacity right lung, s...   \n",
       "3   [lobe pneumonia followup, pneumonia pleural ef...   \n",
       "4   [pneumonia findings pa, lungs appear, large ef...   \n",
       "5   [pneumonia technique chest, pneumonia pleural ...   \n",
       "6   [lung volumes bibasilar, relatively low lung, ...   \n",
       "7   [consolidation left lung, grossly clear pneumo...   \n",
       "8   [lingular pneumonia, compatible pneumonia prop...   \n",
       "9   [right atrium pneumothorax, junction evidence ...   \n",
       "10  [pleural effusions pulmonary, moderate pulmona...   \n",
       "11  [lateral chest radiograph, pleural effusions m...   \n",
       "12  [effusion pneumothorax widespread, comparisons...   \n",
       "13  [bilateral pleural effusions, moderate alveola...   \n",
       "14  [opacity consistent pneumonia, consolidation c...   \n",
       "15  [assess pneumonia findings, pneumothorax cardi...   \n",
       "16  [effusion pneumothorax cardiomediastinal, pneu...   \n",
       "17  [endotracheal tube appears, position enteric t...   \n",
       "18  [posterior lung, effusion pneumothorax impress...   \n",
       "19  [lobe pneumonia followup, pneumonia cardiac me...   \n",
       "20  [effusion pneumothorax seen, setting left lung...   \n",
       "21  [chest ct similar, aspect left lung, pulmonary...   \n",
       "22  [sided pleural effusion, left pneumothorax hea...   \n",
       "23  [pulmonary edema atypical, chronic lung diseas...   \n",
       "24  [left pleural effusion, chest frontal lateral,...   \n",
       "25  [underlying interstitial lung, chest compared ...   \n",
       "26  [chest ct removed, lung nodules better, obstru...   \n",
       "27  [lung disease atelectasis, contours unchanged ...   \n",
       "28  [lower lobe pneumonia, unremarkable left lung,...   \n",
       "29  [pneumonia heart mediastinal, normal pneumotho...   \n",
       "30  [consolidation concerning pneumonia, upper lun...   \n",
       "31  [findings lung volumes, atelectasis large pleu...   \n",
       "32  [endotracheal enteric tubes, pleural effusions...   \n",
       "33  [pneumothorax moderate severe, effusion trace ...   \n",
       "34  [basilar atelectasis pneumothorax, pleural eff...   \n",
       "\n",
       "                                  Representative_Docs  \n",
       "0   [WET READ: [REMOVED] [REMOVED] [REMOVED] 1:54 ...  \n",
       "1   [FINAL REPORT EXAMINATION: CHEST (PORTABLE AP)...  \n",
       "2   [FINAL REPORT INDICATION: [REMOVED]-year-old m...  \n",
       "3   [FINAL REPORT EXAMINATION: CHEST (PA AND LAT) ...  \n",
       "4   [FINAL REPORT CHEST RADIOGRAPH PERFORMED ON [R...  \n",
       "5   [WET READ: [REMOVED] [REMOVED] [REMOVED] 11:56...  \n",
       "6   [FINAL REPORT EXAM: Chest, frontal and lateral...  \n",
       "7   [WET READ: [REMOVED] [REMOVED] [REMOVED] 9:23 ...  \n",
       "8   [WET READ: [REMOVED] [REMOVED] [REMOVED] 3:06 ...  \n",
       "9   [FINAL REPORT INDICATION: Status post central ...  \n",
       "10  [FINAL REPORT EXAM: Chest, single AP upright p...  \n",
       "11  [FINAL REPORT INDICATION: [REMOVED]-year-old m...  \n",
       "12  [FINAL REPORT CHEST RADIOGRAPH HISTORY: Produc...  \n",
       "13  [WET READ: [REMOVED] [REMOVED] 5:03 PM Bilater...  \n",
       "14  [WET READ: [REMOVED] [REMOVED] [REMOVED] 7:57 ...  \n",
       "15  [FINAL REPORT CHEST RADIOGRAPH PERFORMED ON [R...  \n",
       "16  [WET READ: [REMOVED] [REMOVED] [REMOVED] 4:39 ...  \n",
       "17  [FINAL REPORT HISTORY: Altered mental status, ...  \n",
       "18  [WET READ: [REMOVED] [REMOVED] [REMOVED] 3:47 ...  \n",
       "19  [FINAL REPORT INDICATION: Congestive heart fai...  \n",
       "20  [FINAL REPORT EXAMINATION: Chest: Frontal and ...  \n",
       "21  [FINAL REPORT HISTORY: Dyspnea. TECHNIQUE: Upr...  \n",
       "22  [WET READ: [REMOVED] [REMOVED] [REMOVED] 7:29 ...  \n",
       "23  [FINAL REPORT EXAMINATION: CHEST (PORTABLE AP)...  \n",
       "24  [FINAL REPORT HISTORY: Recent admission for pn...  \n",
       "25  [FINAL REPORT INDICATION: [REMOVED]M with trea...  \n",
       "26  [FINAL REPORT INDICATION: History: [REMOVED]F ...  \n",
       "27  [FINAL REPORT EXAMINATION: CHEST (PA AND LAT) ...  \n",
       "28  [FINAL REPORT INDICATION: [REMOVED]-year-old m...  \n",
       "29  [FINAL REPORT EXAMINATION: CHEST (PA AND LAT) ...  \n",
       "30  [FINAL REPORT HISTORY: Recent diagnosis of pne...  \n",
       "31  [FINAL REPORT HISTORY: Shortness of breath, co...  \n",
       "32  [WET READ: [REMOVED] [REMOVED] [REMOVED] 10:32...  \n",
       "33  [FINAL REPORT CHEST RADIOGRAPHS HISTORY: Cough...  \n",
       "34  [FINAL REPORT HISTORY: Generalized weakness. T...  "
      ]
     },
     "execution_count": 80,
     "metadata": {},
     "output_type": "execute_result"
    }
   ],
   "source": [
    "topic_info"
   ]
  },
  {
   "cell_type": "code",
   "execution_count": 81,
   "metadata": {},
   "outputs": [
    {
     "data": {
      "text/plain": [
       "<bertopic._bertopic.BERTopic at 0x39cc236b0>"
      ]
     },
     "execution_count": 81,
     "metadata": {},
     "output_type": "execute_result"
    }
   ],
   "source": [
    "topic_model"
   ]
  },
  {
   "cell_type": "code",
   "execution_count": null,
   "metadata": {},
   "outputs": [
    {
     "data": {
      "application/vnd.plotly.v1+json": {
       "config": {
        "plotlyServerURL": "https://plot.ly"
       },
       "data": [
        {
         "customdata": [
          [
           0,
           "lobe pneumonia notification | frontal lateral chest | upper lobe | contours normal | increased opacity",
           117
          ],
          [
           1,
           "effusions pneumothorax | opacity right lung | small bilateral pleural | cough comparison chest | mild pulmonary",
           84
          ],
          [
           2,
           "lobe pneumonia followup | pneumonia pleural effusion | pneumothorax identified acute | contours normal pulmonary | pneumonia followup radiographs",
           75
          ],
          [
           3,
           "pneumonia findings pa | lungs appear | large effusion pneumothorax | impression emphysema | lower lung compatible",
           58
          ],
          [
           4,
           "pneumonia technique chest | pneumonia pleural effusion | pneumonia removed final | lobe pneumonia recommendation | pneumonia wet read",
           55
          ],
          [
           5,
           "lung volumes bibasilar | relatively low lung | pneumonia atelectasis final | accentuate bronchovascular markings | chest demonstrate low",
           46
          ],
          [
           6,
           "consolidation left lung | grossly clear pneumothorax | lung cancer | pleural effusion atelectasis | lower lobectomy",
           40
          ],
          [
           7,
           "lingular pneumonia | compatible pneumonia proper | clear effusion cardiomediastinal | setting lungs clear | middle lobe consolidation",
           36
          ],
          [
           8,
           "right atrium pneumothorax | junction evidence pneumothorax | central pulmonary vascular | low svc pneumothorax | venous catheter terminates",
           35
          ],
          [
           9,
           "pleural effusions pulmonary | moderate pulmonary edema | likely secondary pulmonary | edema bilateral pleural | artery setting pulmonary",
           29
          ],
          [
           10,
           "lateral chest radiograph | pleural effusions moderate | hemidiaphragm cardiac | noted crowding bronchovascular | removed frontal lateral",
           29
          ],
          [
           11,
           "effusion pneumothorax widespread | comparisons chest radiographs | seen pneumonia | pa lateral findings | pulmonary congestion considered",
           29
          ],
          [
           12,
           "bilateral pleural effusions | moderate alveolar pulmonary | minimal interstitial pulmonary | obscures right lung | atrium right ventricle",
           26
          ],
          [
           13,
           "opacity consistent pneumonia | consolidation compatible pneumonia | lungs clear | consideration asymmetric pulmonary | acute cardiopulmonary process",
           25
          ],
          [
           14,
           "assess pneumonia findings | pneumothorax cardiomediastinal | large effusion pneumothorax | indication removed cough | cardiomediastinal silhouette appears",
           24
          ],
          [
           15,
           "effusion pneumothorax cardiomediastinal | pneumothorax impression acute | examination chest ray | acute cardiopulmonary process | cardiomediastinal silhouette normal",
           22
          ],
          [
           16,
           "endotracheal tube appears | position enteric tube | effusion left retrocardiac | removed intubation | carina nasogastric tube",
           22
          ],
          [
           17,
           "posterior lung | effusion pneumothorax impression | pleural surfaces clear | posterior cardiac margin | view obscuring posterior",
           19
          ],
          [
           18,
           "lobe pneumonia followup | pneumonia cardiac mediastinal | pneumothorax present | views chest lungs | chest consolidative opacity",
           19
          ],
          [
           19,
           "effusion pneumothorax seen | setting left lung | clinical setting pleural | chest obtained patchy | pneumonia additional small",
           17
          ],
          [
           20,
           "chest ct similar | aspect left lung | pulmonary vascular congestion | new alveolar | lobectomy mild",
           15
          ],
          [
           21,
           "sided pleural effusion | left pneumothorax healed | new right lung | placement right pleural | lung volumes collapse",
           13
          ],
          [
           22,
           "pulmonary edema atypical | chronic lung disease | pneumonia lymphadenopathy large | bronchiectasis similar distribution | interstitial process findings",
           12
          ],
          [
           23,
           "left pleural effusion | chest frontal lateral | pleural plaques seen | effusion atelectasis | retrocardiac opacity relate",
           11
          ],
          [
           24,
           "underlying interstitial lung | chest compared previous | ct pleural effusion | seen cardiac mediastinal | increased interstitial markings",
           11
          ],
          [
           25,
           "chest ct removed | lung nodules better | obstructive pneumonia metastatic | compatible pneumonia background | hemidiaphragm large pulmonary",
           10
          ],
          [
           26,
           "lung disease atelectasis | contours unchanged pulmonary | removed findings heart | likely pneumonia technique | pain technique chest",
           9
          ],
          [
           27,
           "lower lobe pneumonia | unremarkable left lung | lungs expanded consolidation | cardiophrenic angle bronchial | shadow cardiomediastinal hilar",
           8
          ],
          [
           28,
           "pneumonia heart mediastinal | normal pneumothorax seen | diagnosis pneumonia pleuritic | pulmonary opacities concerning | pulmonary edema asymmetric",
           8
          ],
          [
           29,
           "consolidation concerning pneumonia | upper lung right | small bilateral effusions | possible large pleural | cardiomegaly interstitial edema",
           8
          ],
          [
           30,
           "findings lung volumes | atelectasis large pleural | pulmonary edema patchy | opacities lung bases | structures overt pulmonary",
           7
          ],
          [
           31,
           "endotracheal enteric tubes | pleural effusions larger | pneumonia satisfactory position | lung field opacity | mainstem bronchus withdrawn",
           6
          ],
          [
           32,
           "pneumothorax moderate severe | effusion trace pleural | chest radiographs history | deformities chest wall | lower airways considered",
           5
          ],
          [
           33,
           "basilar atelectasis pneumothorax | pleural effusion moderate | excluded pneumothorax degenerative | eval pneumothorax technique | size right pleural",
           5
          ]
         ],
         "hovertemplate": "<b>Topic %{customdata[0]}</b><br>%{customdata[1]}<br>Size: %{customdata[2]}",
         "legendgroup": "",
         "marker": {
          "color": "#B0BEC5",
          "line": {
           "color": "DarkSlateGrey",
           "width": 2
          },
          "size": [
           117,
           84,
           75,
           58,
           55,
           46,
           40,
           36,
           35,
           29,
           29,
           29,
           26,
           25,
           24,
           22,
           22,
           19,
           19,
           17,
           15,
           13,
           12,
           11,
           11,
           10,
           9,
           8,
           8,
           8,
           7,
           6,
           5,
           5
          ],
          "sizemode": "area",
          "sizeref": 0.073125,
          "symbol": "circle"
         },
         "mode": "markers",
         "name": "",
         "orientation": "v",
         "showlegend": false,
         "type": "scatter",
         "x": [
          1.910853385925293,
          11.618053436279297,
          7.970249652862549,
          1.6262632608413696,
          11.012710571289062,
          0.7392619848251343,
          8.060861587524414,
          1.8455337285995483,
          11.391969680786133,
          -4.193411350250244,
          11.736204147338867,
          11.120975494384766,
          -4.6744279861450195,
          -4.773648262023926,
          1.2373452186584473,
          10.308545112609863,
          11.678820610046387,
          10.547974586486816,
          11.246197700500488,
          0.8890206217765808,
          7.774534702301025,
          -3.814419746398926,
          8.482902526855469,
          -3.9350528717041016,
          8.370083808898926,
          8.042492866516113,
          18.304790496826172,
          10.91789722442627,
          1.8741848468780518,
          -4.389766216278076,
          18.379470825195312,
          11.466228485107422,
          11.028043746948242,
          7.651769638061523
         ],
         "xaxis": "x",
         "y": [
          0.8912390470504761,
          15.80247688293457,
          5.011983871459961,
          0.37476029992103577,
          16.533124923706055,
          -0.009916761890053749,
          -6.412984371185303,
          0.8099328279495239,
          23.52525520324707,
          12.567286491394043,
          15.672802925109863,
          -8.634140968322754,
          12.079549789428711,
          11.979555130004883,
          0.13179199397563934,
          17.229896545410156,
          23.240760803222656,
          16.99420928955078,
          16.249082565307617,
          0.07956132292747498,
          4.816176891326904,
          12.951888084411621,
          -5.930823802947998,
          12.831223487854004,
          -5.996779918670654,
          -6.278463840484619,
          2.706397771835327,
          16.6385555267334,
          0.2882081866264343,
          12.368242263793945,
          2.6282882690429688,
          23.451828002929688,
          -8.541177749633789,
          4.693310737609863
         ],
         "yaxis": "y"
        }
       ],
       "layout": {
        "annotations": [
         {
          "showarrow": false,
          "text": "D1",
          "x": -5.489695501327515,
          "y": 8.562390685081482,
          "yshift": 10
         },
         {
          "showarrow": false,
          "text": "D2",
          "x": 7.823347973823548,
          "xshift": 10,
          "y": 27.05404348373413
         }
        ],
        "height": 650,
        "hoverlabel": {
         "bgcolor": "white",
         "font": {
          "family": "Rockwell",
          "size": 16
         }
        },
        "legend": {
         "itemsizing": "constant",
         "tracegroupgap": 0
        },
        "margin": {
         "t": 60
        },
        "shapes": [
         {
          "line": {
           "color": "#CFD8DC",
           "width": 2
          },
          "type": "line",
          "x0": 7.823347973823548,
          "x1": 7.823347973823548,
          "y0": -9.929262113571166,
          "y1": 27.05404348373413
         },
         {
          "line": {
           "color": "#9E9E9E",
           "width": 2
          },
          "type": "line",
          "x0": -5.489695501327515,
          "x1": 21.13639144897461,
          "y0": 8.562390685081482,
          "y1": 8.562390685081482
         }
        ],
        "sliders": [
         {
          "active": 0,
          "pad": {
           "t": 50
          },
          "steps": [
           {
            "args": [
             {
              "marker.color": [
               [
                "red",
                "#B0BEC5",
                "#B0BEC5",
                "#B0BEC5",
                "#B0BEC5",
                "#B0BEC5",
                "#B0BEC5",
                "#B0BEC5",
                "#B0BEC5",
                "#B0BEC5",
                "#B0BEC5",
                "#B0BEC5",
                "#B0BEC5",
                "#B0BEC5",
                "#B0BEC5",
                "#B0BEC5",
                "#B0BEC5",
                "#B0BEC5",
                "#B0BEC5",
                "#B0BEC5",
                "#B0BEC5",
                "#B0BEC5",
                "#B0BEC5",
                "#B0BEC5",
                "#B0BEC5",
                "#B0BEC5",
                "#B0BEC5",
                "#B0BEC5",
                "#B0BEC5",
                "#B0BEC5",
                "#B0BEC5",
                "#B0BEC5",
                "#B0BEC5",
                "#B0BEC5"
               ]
              ]
             }
            ],
            "label": "Topic 0",
            "method": "update"
           },
           {
            "args": [
             {
              "marker.color": [
               [
                "#B0BEC5",
                "red",
                "#B0BEC5",
                "#B0BEC5",
                "#B0BEC5",
                "#B0BEC5",
                "#B0BEC5",
                "#B0BEC5",
                "#B0BEC5",
                "#B0BEC5",
                "#B0BEC5",
                "#B0BEC5",
                "#B0BEC5",
                "#B0BEC5",
                "#B0BEC5",
                "#B0BEC5",
                "#B0BEC5",
                "#B0BEC5",
                "#B0BEC5",
                "#B0BEC5",
                "#B0BEC5",
                "#B0BEC5",
                "#B0BEC5",
                "#B0BEC5",
                "#B0BEC5",
                "#B0BEC5",
                "#B0BEC5",
                "#B0BEC5",
                "#B0BEC5",
                "#B0BEC5",
                "#B0BEC5",
                "#B0BEC5",
                "#B0BEC5",
                "#B0BEC5"
               ]
              ]
             }
            ],
            "label": "Topic 1",
            "method": "update"
           },
           {
            "args": [
             {
              "marker.color": [
               [
                "#B0BEC5",
                "#B0BEC5",
                "red",
                "#B0BEC5",
                "#B0BEC5",
                "#B0BEC5",
                "#B0BEC5",
                "#B0BEC5",
                "#B0BEC5",
                "#B0BEC5",
                "#B0BEC5",
                "#B0BEC5",
                "#B0BEC5",
                "#B0BEC5",
                "#B0BEC5",
                "#B0BEC5",
                "#B0BEC5",
                "#B0BEC5",
                "#B0BEC5",
                "#B0BEC5",
                "#B0BEC5",
                "#B0BEC5",
                "#B0BEC5",
                "#B0BEC5",
                "#B0BEC5",
                "#B0BEC5",
                "#B0BEC5",
                "#B0BEC5",
                "#B0BEC5",
                "#B0BEC5",
                "#B0BEC5",
                "#B0BEC5",
                "#B0BEC5",
                "#B0BEC5"
               ]
              ]
             }
            ],
            "label": "Topic 2",
            "method": "update"
           },
           {
            "args": [
             {
              "marker.color": [
               [
                "#B0BEC5",
                "#B0BEC5",
                "#B0BEC5",
                "red",
                "#B0BEC5",
                "#B0BEC5",
                "#B0BEC5",
                "#B0BEC5",
                "#B0BEC5",
                "#B0BEC5",
                "#B0BEC5",
                "#B0BEC5",
                "#B0BEC5",
                "#B0BEC5",
                "#B0BEC5",
                "#B0BEC5",
                "#B0BEC5",
                "#B0BEC5",
                "#B0BEC5",
                "#B0BEC5",
                "#B0BEC5",
                "#B0BEC5",
                "#B0BEC5",
                "#B0BEC5",
                "#B0BEC5",
                "#B0BEC5",
                "#B0BEC5",
                "#B0BEC5",
                "#B0BEC5",
                "#B0BEC5",
                "#B0BEC5",
                "#B0BEC5",
                "#B0BEC5",
                "#B0BEC5"
               ]
              ]
             }
            ],
            "label": "Topic 3",
            "method": "update"
           },
           {
            "args": [
             {
              "marker.color": [
               [
                "#B0BEC5",
                "#B0BEC5",
                "#B0BEC5",
                "#B0BEC5",
                "red",
                "#B0BEC5",
                "#B0BEC5",
                "#B0BEC5",
                "#B0BEC5",
                "#B0BEC5",
                "#B0BEC5",
                "#B0BEC5",
                "#B0BEC5",
                "#B0BEC5",
                "#B0BEC5",
                "#B0BEC5",
                "#B0BEC5",
                "#B0BEC5",
                "#B0BEC5",
                "#B0BEC5",
                "#B0BEC5",
                "#B0BEC5",
                "#B0BEC5",
                "#B0BEC5",
                "#B0BEC5",
                "#B0BEC5",
                "#B0BEC5",
                "#B0BEC5",
                "#B0BEC5",
                "#B0BEC5",
                "#B0BEC5",
                "#B0BEC5",
                "#B0BEC5",
                "#B0BEC5"
               ]
              ]
             }
            ],
            "label": "Topic 4",
            "method": "update"
           },
           {
            "args": [
             {
              "marker.color": [
               [
                "#B0BEC5",
                "#B0BEC5",
                "#B0BEC5",
                "#B0BEC5",
                "#B0BEC5",
                "red",
                "#B0BEC5",
                "#B0BEC5",
                "#B0BEC5",
                "#B0BEC5",
                "#B0BEC5",
                "#B0BEC5",
                "#B0BEC5",
                "#B0BEC5",
                "#B0BEC5",
                "#B0BEC5",
                "#B0BEC5",
                "#B0BEC5",
                "#B0BEC5",
                "#B0BEC5",
                "#B0BEC5",
                "#B0BEC5",
                "#B0BEC5",
                "#B0BEC5",
                "#B0BEC5",
                "#B0BEC5",
                "#B0BEC5",
                "#B0BEC5",
                "#B0BEC5",
                "#B0BEC5",
                "#B0BEC5",
                "#B0BEC5",
                "#B0BEC5",
                "#B0BEC5"
               ]
              ]
             }
            ],
            "label": "Topic 5",
            "method": "update"
           },
           {
            "args": [
             {
              "marker.color": [
               [
                "#B0BEC5",
                "#B0BEC5",
                "#B0BEC5",
                "#B0BEC5",
                "#B0BEC5",
                "#B0BEC5",
                "red",
                "#B0BEC5",
                "#B0BEC5",
                "#B0BEC5",
                "#B0BEC5",
                "#B0BEC5",
                "#B0BEC5",
                "#B0BEC5",
                "#B0BEC5",
                "#B0BEC5",
                "#B0BEC5",
                "#B0BEC5",
                "#B0BEC5",
                "#B0BEC5",
                "#B0BEC5",
                "#B0BEC5",
                "#B0BEC5",
                "#B0BEC5",
                "#B0BEC5",
                "#B0BEC5",
                "#B0BEC5",
                "#B0BEC5",
                "#B0BEC5",
                "#B0BEC5",
                "#B0BEC5",
                "#B0BEC5",
                "#B0BEC5",
                "#B0BEC5"
               ]
              ]
             }
            ],
            "label": "Topic 6",
            "method": "update"
           },
           {
            "args": [
             {
              "marker.color": [
               [
                "#B0BEC5",
                "#B0BEC5",
                "#B0BEC5",
                "#B0BEC5",
                "#B0BEC5",
                "#B0BEC5",
                "#B0BEC5",
                "red",
                "#B0BEC5",
                "#B0BEC5",
                "#B0BEC5",
                "#B0BEC5",
                "#B0BEC5",
                "#B0BEC5",
                "#B0BEC5",
                "#B0BEC5",
                "#B0BEC5",
                "#B0BEC5",
                "#B0BEC5",
                "#B0BEC5",
                "#B0BEC5",
                "#B0BEC5",
                "#B0BEC5",
                "#B0BEC5",
                "#B0BEC5",
                "#B0BEC5",
                "#B0BEC5",
                "#B0BEC5",
                "#B0BEC5",
                "#B0BEC5",
                "#B0BEC5",
                "#B0BEC5",
                "#B0BEC5",
                "#B0BEC5"
               ]
              ]
             }
            ],
            "label": "Topic 7",
            "method": "update"
           },
           {
            "args": [
             {
              "marker.color": [
               [
                "#B0BEC5",
                "#B0BEC5",
                "#B0BEC5",
                "#B0BEC5",
                "#B0BEC5",
                "#B0BEC5",
                "#B0BEC5",
                "#B0BEC5",
                "red",
                "#B0BEC5",
                "#B0BEC5",
                "#B0BEC5",
                "#B0BEC5",
                "#B0BEC5",
                "#B0BEC5",
                "#B0BEC5",
                "#B0BEC5",
                "#B0BEC5",
                "#B0BEC5",
                "#B0BEC5",
                "#B0BEC5",
                "#B0BEC5",
                "#B0BEC5",
                "#B0BEC5",
                "#B0BEC5",
                "#B0BEC5",
                "#B0BEC5",
                "#B0BEC5",
                "#B0BEC5",
                "#B0BEC5",
                "#B0BEC5",
                "#B0BEC5",
                "#B0BEC5",
                "#B0BEC5"
               ]
              ]
             }
            ],
            "label": "Topic 8",
            "method": "update"
           },
           {
            "args": [
             {
              "marker.color": [
               [
                "#B0BEC5",
                "#B0BEC5",
                "#B0BEC5",
                "#B0BEC5",
                "#B0BEC5",
                "#B0BEC5",
                "#B0BEC5",
                "#B0BEC5",
                "#B0BEC5",
                "red",
                "#B0BEC5",
                "#B0BEC5",
                "#B0BEC5",
                "#B0BEC5",
                "#B0BEC5",
                "#B0BEC5",
                "#B0BEC5",
                "#B0BEC5",
                "#B0BEC5",
                "#B0BEC5",
                "#B0BEC5",
                "#B0BEC5",
                "#B0BEC5",
                "#B0BEC5",
                "#B0BEC5",
                "#B0BEC5",
                "#B0BEC5",
                "#B0BEC5",
                "#B0BEC5",
                "#B0BEC5",
                "#B0BEC5",
                "#B0BEC5",
                "#B0BEC5",
                "#B0BEC5"
               ]
              ]
             }
            ],
            "label": "Topic 9",
            "method": "update"
           },
           {
            "args": [
             {
              "marker.color": [
               [
                "#B0BEC5",
                "#B0BEC5",
                "#B0BEC5",
                "#B0BEC5",
                "#B0BEC5",
                "#B0BEC5",
                "#B0BEC5",
                "#B0BEC5",
                "#B0BEC5",
                "#B0BEC5",
                "red",
                "#B0BEC5",
                "#B0BEC5",
                "#B0BEC5",
                "#B0BEC5",
                "#B0BEC5",
                "#B0BEC5",
                "#B0BEC5",
                "#B0BEC5",
                "#B0BEC5",
                "#B0BEC5",
                "#B0BEC5",
                "#B0BEC5",
                "#B0BEC5",
                "#B0BEC5",
                "#B0BEC5",
                "#B0BEC5",
                "#B0BEC5",
                "#B0BEC5",
                "#B0BEC5",
                "#B0BEC5",
                "#B0BEC5",
                "#B0BEC5",
                "#B0BEC5"
               ]
              ]
             }
            ],
            "label": "Topic 10",
            "method": "update"
           },
           {
            "args": [
             {
              "marker.color": [
               [
                "#B0BEC5",
                "#B0BEC5",
                "#B0BEC5",
                "#B0BEC5",
                "#B0BEC5",
                "#B0BEC5",
                "#B0BEC5",
                "#B0BEC5",
                "#B0BEC5",
                "#B0BEC5",
                "#B0BEC5",
                "red",
                "#B0BEC5",
                "#B0BEC5",
                "#B0BEC5",
                "#B0BEC5",
                "#B0BEC5",
                "#B0BEC5",
                "#B0BEC5",
                "#B0BEC5",
                "#B0BEC5",
                "#B0BEC5",
                "#B0BEC5",
                "#B0BEC5",
                "#B0BEC5",
                "#B0BEC5",
                "#B0BEC5",
                "#B0BEC5",
                "#B0BEC5",
                "#B0BEC5",
                "#B0BEC5",
                "#B0BEC5",
                "#B0BEC5",
                "#B0BEC5"
               ]
              ]
             }
            ],
            "label": "Topic 11",
            "method": "update"
           },
           {
            "args": [
             {
              "marker.color": [
               [
                "#B0BEC5",
                "#B0BEC5",
                "#B0BEC5",
                "#B0BEC5",
                "#B0BEC5",
                "#B0BEC5",
                "#B0BEC5",
                "#B0BEC5",
                "#B0BEC5",
                "#B0BEC5",
                "#B0BEC5",
                "#B0BEC5",
                "red",
                "#B0BEC5",
                "#B0BEC5",
                "#B0BEC5",
                "#B0BEC5",
                "#B0BEC5",
                "#B0BEC5",
                "#B0BEC5",
                "#B0BEC5",
                "#B0BEC5",
                "#B0BEC5",
                "#B0BEC5",
                "#B0BEC5",
                "#B0BEC5",
                "#B0BEC5",
                "#B0BEC5",
                "#B0BEC5",
                "#B0BEC5",
                "#B0BEC5",
                "#B0BEC5",
                "#B0BEC5",
                "#B0BEC5"
               ]
              ]
             }
            ],
            "label": "Topic 12",
            "method": "update"
           },
           {
            "args": [
             {
              "marker.color": [
               [
                "#B0BEC5",
                "#B0BEC5",
                "#B0BEC5",
                "#B0BEC5",
                "#B0BEC5",
                "#B0BEC5",
                "#B0BEC5",
                "#B0BEC5",
                "#B0BEC5",
                "#B0BEC5",
                "#B0BEC5",
                "#B0BEC5",
                "#B0BEC5",
                "red",
                "#B0BEC5",
                "#B0BEC5",
                "#B0BEC5",
                "#B0BEC5",
                "#B0BEC5",
                "#B0BEC5",
                "#B0BEC5",
                "#B0BEC5",
                "#B0BEC5",
                "#B0BEC5",
                "#B0BEC5",
                "#B0BEC5",
                "#B0BEC5",
                "#B0BEC5",
                "#B0BEC5",
                "#B0BEC5",
                "#B0BEC5",
                "#B0BEC5",
                "#B0BEC5",
                "#B0BEC5"
               ]
              ]
             }
            ],
            "label": "Topic 13",
            "method": "update"
           },
           {
            "args": [
             {
              "marker.color": [
               [
                "#B0BEC5",
                "#B0BEC5",
                "#B0BEC5",
                "#B0BEC5",
                "#B0BEC5",
                "#B0BEC5",
                "#B0BEC5",
                "#B0BEC5",
                "#B0BEC5",
                "#B0BEC5",
                "#B0BEC5",
                "#B0BEC5",
                "#B0BEC5",
                "#B0BEC5",
                "red",
                "#B0BEC5",
                "#B0BEC5",
                "#B0BEC5",
                "#B0BEC5",
                "#B0BEC5",
                "#B0BEC5",
                "#B0BEC5",
                "#B0BEC5",
                "#B0BEC5",
                "#B0BEC5",
                "#B0BEC5",
                "#B0BEC5",
                "#B0BEC5",
                "#B0BEC5",
                "#B0BEC5",
                "#B0BEC5",
                "#B0BEC5",
                "#B0BEC5",
                "#B0BEC5"
               ]
              ]
             }
            ],
            "label": "Topic 14",
            "method": "update"
           },
           {
            "args": [
             {
              "marker.color": [
               [
                "#B0BEC5",
                "#B0BEC5",
                "#B0BEC5",
                "#B0BEC5",
                "#B0BEC5",
                "#B0BEC5",
                "#B0BEC5",
                "#B0BEC5",
                "#B0BEC5",
                "#B0BEC5",
                "#B0BEC5",
                "#B0BEC5",
                "#B0BEC5",
                "#B0BEC5",
                "#B0BEC5",
                "red",
                "#B0BEC5",
                "#B0BEC5",
                "#B0BEC5",
                "#B0BEC5",
                "#B0BEC5",
                "#B0BEC5",
                "#B0BEC5",
                "#B0BEC5",
                "#B0BEC5",
                "#B0BEC5",
                "#B0BEC5",
                "#B0BEC5",
                "#B0BEC5",
                "#B0BEC5",
                "#B0BEC5",
                "#B0BEC5",
                "#B0BEC5",
                "#B0BEC5"
               ]
              ]
             }
            ],
            "label": "Topic 15",
            "method": "update"
           },
           {
            "args": [
             {
              "marker.color": [
               [
                "#B0BEC5",
                "#B0BEC5",
                "#B0BEC5",
                "#B0BEC5",
                "#B0BEC5",
                "#B0BEC5",
                "#B0BEC5",
                "#B0BEC5",
                "#B0BEC5",
                "#B0BEC5",
                "#B0BEC5",
                "#B0BEC5",
                "#B0BEC5",
                "#B0BEC5",
                "#B0BEC5",
                "#B0BEC5",
                "red",
                "#B0BEC5",
                "#B0BEC5",
                "#B0BEC5",
                "#B0BEC5",
                "#B0BEC5",
                "#B0BEC5",
                "#B0BEC5",
                "#B0BEC5",
                "#B0BEC5",
                "#B0BEC5",
                "#B0BEC5",
                "#B0BEC5",
                "#B0BEC5",
                "#B0BEC5",
                "#B0BEC5",
                "#B0BEC5",
                "#B0BEC5"
               ]
              ]
             }
            ],
            "label": "Topic 16",
            "method": "update"
           },
           {
            "args": [
             {
              "marker.color": [
               [
                "#B0BEC5",
                "#B0BEC5",
                "#B0BEC5",
                "#B0BEC5",
                "#B0BEC5",
                "#B0BEC5",
                "#B0BEC5",
                "#B0BEC5",
                "#B0BEC5",
                "#B0BEC5",
                "#B0BEC5",
                "#B0BEC5",
                "#B0BEC5",
                "#B0BEC5",
                "#B0BEC5",
                "#B0BEC5",
                "#B0BEC5",
                "red",
                "#B0BEC5",
                "#B0BEC5",
                "#B0BEC5",
                "#B0BEC5",
                "#B0BEC5",
                "#B0BEC5",
                "#B0BEC5",
                "#B0BEC5",
                "#B0BEC5",
                "#B0BEC5",
                "#B0BEC5",
                "#B0BEC5",
                "#B0BEC5",
                "#B0BEC5",
                "#B0BEC5",
                "#B0BEC5"
               ]
              ]
             }
            ],
            "label": "Topic 17",
            "method": "update"
           },
           {
            "args": [
             {
              "marker.color": [
               [
                "#B0BEC5",
                "#B0BEC5",
                "#B0BEC5",
                "#B0BEC5",
                "#B0BEC5",
                "#B0BEC5",
                "#B0BEC5",
                "#B0BEC5",
                "#B0BEC5",
                "#B0BEC5",
                "#B0BEC5",
                "#B0BEC5",
                "#B0BEC5",
                "#B0BEC5",
                "#B0BEC5",
                "#B0BEC5",
                "#B0BEC5",
                "#B0BEC5",
                "red",
                "#B0BEC5",
                "#B0BEC5",
                "#B0BEC5",
                "#B0BEC5",
                "#B0BEC5",
                "#B0BEC5",
                "#B0BEC5",
                "#B0BEC5",
                "#B0BEC5",
                "#B0BEC5",
                "#B0BEC5",
                "#B0BEC5",
                "#B0BEC5",
                "#B0BEC5",
                "#B0BEC5"
               ]
              ]
             }
            ],
            "label": "Topic 18",
            "method": "update"
           },
           {
            "args": [
             {
              "marker.color": [
               [
                "#B0BEC5",
                "#B0BEC5",
                "#B0BEC5",
                "#B0BEC5",
                "#B0BEC5",
                "#B0BEC5",
                "#B0BEC5",
                "#B0BEC5",
                "#B0BEC5",
                "#B0BEC5",
                "#B0BEC5",
                "#B0BEC5",
                "#B0BEC5",
                "#B0BEC5",
                "#B0BEC5",
                "#B0BEC5",
                "#B0BEC5",
                "#B0BEC5",
                "#B0BEC5",
                "red",
                "#B0BEC5",
                "#B0BEC5",
                "#B0BEC5",
                "#B0BEC5",
                "#B0BEC5",
                "#B0BEC5",
                "#B0BEC5",
                "#B0BEC5",
                "#B0BEC5",
                "#B0BEC5",
                "#B0BEC5",
                "#B0BEC5",
                "#B0BEC5",
                "#B0BEC5"
               ]
              ]
             }
            ],
            "label": "Topic 19",
            "method": "update"
           },
           {
            "args": [
             {
              "marker.color": [
               [
                "#B0BEC5",
                "#B0BEC5",
                "#B0BEC5",
                "#B0BEC5",
                "#B0BEC5",
                "#B0BEC5",
                "#B0BEC5",
                "#B0BEC5",
                "#B0BEC5",
                "#B0BEC5",
                "#B0BEC5",
                "#B0BEC5",
                "#B0BEC5",
                "#B0BEC5",
                "#B0BEC5",
                "#B0BEC5",
                "#B0BEC5",
                "#B0BEC5",
                "#B0BEC5",
                "#B0BEC5",
                "red",
                "#B0BEC5",
                "#B0BEC5",
                "#B0BEC5",
                "#B0BEC5",
                "#B0BEC5",
                "#B0BEC5",
                "#B0BEC5",
                "#B0BEC5",
                "#B0BEC5",
                "#B0BEC5",
                "#B0BEC5",
                "#B0BEC5",
                "#B0BEC5"
               ]
              ]
             }
            ],
            "label": "Topic 20",
            "method": "update"
           },
           {
            "args": [
             {
              "marker.color": [
               [
                "#B0BEC5",
                "#B0BEC5",
                "#B0BEC5",
                "#B0BEC5",
                "#B0BEC5",
                "#B0BEC5",
                "#B0BEC5",
                "#B0BEC5",
                "#B0BEC5",
                "#B0BEC5",
                "#B0BEC5",
                "#B0BEC5",
                "#B0BEC5",
                "#B0BEC5",
                "#B0BEC5",
                "#B0BEC5",
                "#B0BEC5",
                "#B0BEC5",
                "#B0BEC5",
                "#B0BEC5",
                "#B0BEC5",
                "red",
                "#B0BEC5",
                "#B0BEC5",
                "#B0BEC5",
                "#B0BEC5",
                "#B0BEC5",
                "#B0BEC5",
                "#B0BEC5",
                "#B0BEC5",
                "#B0BEC5",
                "#B0BEC5",
                "#B0BEC5",
                "#B0BEC5"
               ]
              ]
             }
            ],
            "label": "Topic 21",
            "method": "update"
           },
           {
            "args": [
             {
              "marker.color": [
               [
                "#B0BEC5",
                "#B0BEC5",
                "#B0BEC5",
                "#B0BEC5",
                "#B0BEC5",
                "#B0BEC5",
                "#B0BEC5",
                "#B0BEC5",
                "#B0BEC5",
                "#B0BEC5",
                "#B0BEC5",
                "#B0BEC5",
                "#B0BEC5",
                "#B0BEC5",
                "#B0BEC5",
                "#B0BEC5",
                "#B0BEC5",
                "#B0BEC5",
                "#B0BEC5",
                "#B0BEC5",
                "#B0BEC5",
                "#B0BEC5",
                "red",
                "#B0BEC5",
                "#B0BEC5",
                "#B0BEC5",
                "#B0BEC5",
                "#B0BEC5",
                "#B0BEC5",
                "#B0BEC5",
                "#B0BEC5",
                "#B0BEC5",
                "#B0BEC5",
                "#B0BEC5"
               ]
              ]
             }
            ],
            "label": "Topic 22",
            "method": "update"
           },
           {
            "args": [
             {
              "marker.color": [
               [
                "#B0BEC5",
                "#B0BEC5",
                "#B0BEC5",
                "#B0BEC5",
                "#B0BEC5",
                "#B0BEC5",
                "#B0BEC5",
                "#B0BEC5",
                "#B0BEC5",
                "#B0BEC5",
                "#B0BEC5",
                "#B0BEC5",
                "#B0BEC5",
                "#B0BEC5",
                "#B0BEC5",
                "#B0BEC5",
                "#B0BEC5",
                "#B0BEC5",
                "#B0BEC5",
                "#B0BEC5",
                "#B0BEC5",
                "#B0BEC5",
                "#B0BEC5",
                "red",
                "#B0BEC5",
                "#B0BEC5",
                "#B0BEC5",
                "#B0BEC5",
                "#B0BEC5",
                "#B0BEC5",
                "#B0BEC5",
                "#B0BEC5",
                "#B0BEC5",
                "#B0BEC5"
               ]
              ]
             }
            ],
            "label": "Topic 23",
            "method": "update"
           },
           {
            "args": [
             {
              "marker.color": [
               [
                "#B0BEC5",
                "#B0BEC5",
                "#B0BEC5",
                "#B0BEC5",
                "#B0BEC5",
                "#B0BEC5",
                "#B0BEC5",
                "#B0BEC5",
                "#B0BEC5",
                "#B0BEC5",
                "#B0BEC5",
                "#B0BEC5",
                "#B0BEC5",
                "#B0BEC5",
                "#B0BEC5",
                "#B0BEC5",
                "#B0BEC5",
                "#B0BEC5",
                "#B0BEC5",
                "#B0BEC5",
                "#B0BEC5",
                "#B0BEC5",
                "#B0BEC5",
                "#B0BEC5",
                "red",
                "#B0BEC5",
                "#B0BEC5",
                "#B0BEC5",
                "#B0BEC5",
                "#B0BEC5",
                "#B0BEC5",
                "#B0BEC5",
                "#B0BEC5",
                "#B0BEC5"
               ]
              ]
             }
            ],
            "label": "Topic 24",
            "method": "update"
           },
           {
            "args": [
             {
              "marker.color": [
               [
                "#B0BEC5",
                "#B0BEC5",
                "#B0BEC5",
                "#B0BEC5",
                "#B0BEC5",
                "#B0BEC5",
                "#B0BEC5",
                "#B0BEC5",
                "#B0BEC5",
                "#B0BEC5",
                "#B0BEC5",
                "#B0BEC5",
                "#B0BEC5",
                "#B0BEC5",
                "#B0BEC5",
                "#B0BEC5",
                "#B0BEC5",
                "#B0BEC5",
                "#B0BEC5",
                "#B0BEC5",
                "#B0BEC5",
                "#B0BEC5",
                "#B0BEC5",
                "#B0BEC5",
                "#B0BEC5",
                "red",
                "#B0BEC5",
                "#B0BEC5",
                "#B0BEC5",
                "#B0BEC5",
                "#B0BEC5",
                "#B0BEC5",
                "#B0BEC5",
                "#B0BEC5"
               ]
              ]
             }
            ],
            "label": "Topic 25",
            "method": "update"
           },
           {
            "args": [
             {
              "marker.color": [
               [
                "#B0BEC5",
                "#B0BEC5",
                "#B0BEC5",
                "#B0BEC5",
                "#B0BEC5",
                "#B0BEC5",
                "#B0BEC5",
                "#B0BEC5",
                "#B0BEC5",
                "#B0BEC5",
                "#B0BEC5",
                "#B0BEC5",
                "#B0BEC5",
                "#B0BEC5",
                "#B0BEC5",
                "#B0BEC5",
                "#B0BEC5",
                "#B0BEC5",
                "#B0BEC5",
                "#B0BEC5",
                "#B0BEC5",
                "#B0BEC5",
                "#B0BEC5",
                "#B0BEC5",
                "#B0BEC5",
                "#B0BEC5",
                "red",
                "#B0BEC5",
                "#B0BEC5",
                "#B0BEC5",
                "#B0BEC5",
                "#B0BEC5",
                "#B0BEC5",
                "#B0BEC5"
               ]
              ]
             }
            ],
            "label": "Topic 26",
            "method": "update"
           },
           {
            "args": [
             {
              "marker.color": [
               [
                "#B0BEC5",
                "#B0BEC5",
                "#B0BEC5",
                "#B0BEC5",
                "#B0BEC5",
                "#B0BEC5",
                "#B0BEC5",
                "#B0BEC5",
                "#B0BEC5",
                "#B0BEC5",
                "#B0BEC5",
                "#B0BEC5",
                "#B0BEC5",
                "#B0BEC5",
                "#B0BEC5",
                "#B0BEC5",
                "#B0BEC5",
                "#B0BEC5",
                "#B0BEC5",
                "#B0BEC5",
                "#B0BEC5",
                "#B0BEC5",
                "#B0BEC5",
                "#B0BEC5",
                "#B0BEC5",
                "#B0BEC5",
                "#B0BEC5",
                "red",
                "#B0BEC5",
                "#B0BEC5",
                "#B0BEC5",
                "#B0BEC5",
                "#B0BEC5",
                "#B0BEC5"
               ]
              ]
             }
            ],
            "label": "Topic 27",
            "method": "update"
           },
           {
            "args": [
             {
              "marker.color": [
               [
                "#B0BEC5",
                "#B0BEC5",
                "#B0BEC5",
                "#B0BEC5",
                "#B0BEC5",
                "#B0BEC5",
                "#B0BEC5",
                "#B0BEC5",
                "#B0BEC5",
                "#B0BEC5",
                "#B0BEC5",
                "#B0BEC5",
                "#B0BEC5",
                "#B0BEC5",
                "#B0BEC5",
                "#B0BEC5",
                "#B0BEC5",
                "#B0BEC5",
                "#B0BEC5",
                "#B0BEC5",
                "#B0BEC5",
                "#B0BEC5",
                "#B0BEC5",
                "#B0BEC5",
                "#B0BEC5",
                "#B0BEC5",
                "#B0BEC5",
                "#B0BEC5",
                "red",
                "#B0BEC5",
                "#B0BEC5",
                "#B0BEC5",
                "#B0BEC5",
                "#B0BEC5"
               ]
              ]
             }
            ],
            "label": "Topic 28",
            "method": "update"
           },
           {
            "args": [
             {
              "marker.color": [
               [
                "#B0BEC5",
                "#B0BEC5",
                "#B0BEC5",
                "#B0BEC5",
                "#B0BEC5",
                "#B0BEC5",
                "#B0BEC5",
                "#B0BEC5",
                "#B0BEC5",
                "#B0BEC5",
                "#B0BEC5",
                "#B0BEC5",
                "#B0BEC5",
                "#B0BEC5",
                "#B0BEC5",
                "#B0BEC5",
                "#B0BEC5",
                "#B0BEC5",
                "#B0BEC5",
                "#B0BEC5",
                "#B0BEC5",
                "#B0BEC5",
                "#B0BEC5",
                "#B0BEC5",
                "#B0BEC5",
                "#B0BEC5",
                "#B0BEC5",
                "#B0BEC5",
                "#B0BEC5",
                "red",
                "#B0BEC5",
                "#B0BEC5",
                "#B0BEC5",
                "#B0BEC5"
               ]
              ]
             }
            ],
            "label": "Topic 29",
            "method": "update"
           },
           {
            "args": [
             {
              "marker.color": [
               [
                "#B0BEC5",
                "#B0BEC5",
                "#B0BEC5",
                "#B0BEC5",
                "#B0BEC5",
                "#B0BEC5",
                "#B0BEC5",
                "#B0BEC5",
                "#B0BEC5",
                "#B0BEC5",
                "#B0BEC5",
                "#B0BEC5",
                "#B0BEC5",
                "#B0BEC5",
                "#B0BEC5",
                "#B0BEC5",
                "#B0BEC5",
                "#B0BEC5",
                "#B0BEC5",
                "#B0BEC5",
                "#B0BEC5",
                "#B0BEC5",
                "#B0BEC5",
                "#B0BEC5",
                "#B0BEC5",
                "#B0BEC5",
                "#B0BEC5",
                "#B0BEC5",
                "#B0BEC5",
                "#B0BEC5",
                "red",
                "#B0BEC5",
                "#B0BEC5",
                "#B0BEC5"
               ]
              ]
             }
            ],
            "label": "Topic 30",
            "method": "update"
           },
           {
            "args": [
             {
              "marker.color": [
               [
                "#B0BEC5",
                "#B0BEC5",
                "#B0BEC5",
                "#B0BEC5",
                "#B0BEC5",
                "#B0BEC5",
                "#B0BEC5",
                "#B0BEC5",
                "#B0BEC5",
                "#B0BEC5",
                "#B0BEC5",
                "#B0BEC5",
                "#B0BEC5",
                "#B0BEC5",
                "#B0BEC5",
                "#B0BEC5",
                "#B0BEC5",
                "#B0BEC5",
                "#B0BEC5",
                "#B0BEC5",
                "#B0BEC5",
                "#B0BEC5",
                "#B0BEC5",
                "#B0BEC5",
                "#B0BEC5",
                "#B0BEC5",
                "#B0BEC5",
                "#B0BEC5",
                "#B0BEC5",
                "#B0BEC5",
                "#B0BEC5",
                "red",
                "#B0BEC5",
                "#B0BEC5"
               ]
              ]
             }
            ],
            "label": "Topic 31",
            "method": "update"
           },
           {
            "args": [
             {
              "marker.color": [
               [
                "#B0BEC5",
                "#B0BEC5",
                "#B0BEC5",
                "#B0BEC5",
                "#B0BEC5",
                "#B0BEC5",
                "#B0BEC5",
                "#B0BEC5",
                "#B0BEC5",
                "#B0BEC5",
                "#B0BEC5",
                "#B0BEC5",
                "#B0BEC5",
                "#B0BEC5",
                "#B0BEC5",
                "#B0BEC5",
                "#B0BEC5",
                "#B0BEC5",
                "#B0BEC5",
                "#B0BEC5",
                "#B0BEC5",
                "#B0BEC5",
                "#B0BEC5",
                "#B0BEC5",
                "#B0BEC5",
                "#B0BEC5",
                "#B0BEC5",
                "#B0BEC5",
                "#B0BEC5",
                "#B0BEC5",
                "#B0BEC5",
                "#B0BEC5",
                "red",
                "#B0BEC5"
               ]
              ]
             }
            ],
            "label": "Topic 32",
            "method": "update"
           },
           {
            "args": [
             {
              "marker.color": [
               [
                "#B0BEC5",
                "#B0BEC5",
                "#B0BEC5",
                "#B0BEC5",
                "#B0BEC5",
                "#B0BEC5",
                "#B0BEC5",
                "#B0BEC5",
                "#B0BEC5",
                "#B0BEC5",
                "#B0BEC5",
                "#B0BEC5",
                "#B0BEC5",
                "#B0BEC5",
                "#B0BEC5",
                "#B0BEC5",
                "#B0BEC5",
                "#B0BEC5",
                "#B0BEC5",
                "#B0BEC5",
                "#B0BEC5",
                "#B0BEC5",
                "#B0BEC5",
                "#B0BEC5",
                "#B0BEC5",
                "#B0BEC5",
                "#B0BEC5",
                "#B0BEC5",
                "#B0BEC5",
                "#B0BEC5",
                "#B0BEC5",
                "#B0BEC5",
                "#B0BEC5",
                "red"
               ]
              ]
             }
            ],
            "label": "Topic 33",
            "method": "update"
           }
          ]
         }
        ],
        "template": {
         "data": {
          "bar": [
           {
            "error_x": {
             "color": "rgb(36,36,36)"
            },
            "error_y": {
             "color": "rgb(36,36,36)"
            },
            "marker": {
             "line": {
              "color": "white",
              "width": 0.5
             },
             "pattern": {
              "fillmode": "overlay",
              "size": 10,
              "solidity": 0.2
             }
            },
            "type": "bar"
           }
          ],
          "barpolar": [
           {
            "marker": {
             "line": {
              "color": "white",
              "width": 0.5
             },
             "pattern": {
              "fillmode": "overlay",
              "size": 10,
              "solidity": 0.2
             }
            },
            "type": "barpolar"
           }
          ],
          "carpet": [
           {
            "aaxis": {
             "endlinecolor": "rgb(36,36,36)",
             "gridcolor": "white",
             "linecolor": "white",
             "minorgridcolor": "white",
             "startlinecolor": "rgb(36,36,36)"
            },
            "baxis": {
             "endlinecolor": "rgb(36,36,36)",
             "gridcolor": "white",
             "linecolor": "white",
             "minorgridcolor": "white",
             "startlinecolor": "rgb(36,36,36)"
            },
            "type": "carpet"
           }
          ],
          "choropleth": [
           {
            "colorbar": {
             "outlinewidth": 1,
             "tickcolor": "rgb(36,36,36)",
             "ticks": "outside"
            },
            "type": "choropleth"
           }
          ],
          "contour": [
           {
            "colorbar": {
             "outlinewidth": 1,
             "tickcolor": "rgb(36,36,36)",
             "ticks": "outside"
            },
            "colorscale": [
             [
              0,
              "#440154"
             ],
             [
              0.1111111111111111,
              "#482878"
             ],
             [
              0.2222222222222222,
              "#3e4989"
             ],
             [
              0.3333333333333333,
              "#31688e"
             ],
             [
              0.4444444444444444,
              "#26828e"
             ],
             [
              0.5555555555555556,
              "#1f9e89"
             ],
             [
              0.6666666666666666,
              "#35b779"
             ],
             [
              0.7777777777777778,
              "#6ece58"
             ],
             [
              0.8888888888888888,
              "#b5de2b"
             ],
             [
              1,
              "#fde725"
             ]
            ],
            "type": "contour"
           }
          ],
          "contourcarpet": [
           {
            "colorbar": {
             "outlinewidth": 1,
             "tickcolor": "rgb(36,36,36)",
             "ticks": "outside"
            },
            "type": "contourcarpet"
           }
          ],
          "heatmap": [
           {
            "colorbar": {
             "outlinewidth": 1,
             "tickcolor": "rgb(36,36,36)",
             "ticks": "outside"
            },
            "colorscale": [
             [
              0,
              "#440154"
             ],
             [
              0.1111111111111111,
              "#482878"
             ],
             [
              0.2222222222222222,
              "#3e4989"
             ],
             [
              0.3333333333333333,
              "#31688e"
             ],
             [
              0.4444444444444444,
              "#26828e"
             ],
             [
              0.5555555555555556,
              "#1f9e89"
             ],
             [
              0.6666666666666666,
              "#35b779"
             ],
             [
              0.7777777777777778,
              "#6ece58"
             ],
             [
              0.8888888888888888,
              "#b5de2b"
             ],
             [
              1,
              "#fde725"
             ]
            ],
            "type": "heatmap"
           }
          ],
          "heatmapgl": [
           {
            "colorbar": {
             "outlinewidth": 1,
             "tickcolor": "rgb(36,36,36)",
             "ticks": "outside"
            },
            "colorscale": [
             [
              0,
              "#440154"
             ],
             [
              0.1111111111111111,
              "#482878"
             ],
             [
              0.2222222222222222,
              "#3e4989"
             ],
             [
              0.3333333333333333,
              "#31688e"
             ],
             [
              0.4444444444444444,
              "#26828e"
             ],
             [
              0.5555555555555556,
              "#1f9e89"
             ],
             [
              0.6666666666666666,
              "#35b779"
             ],
             [
              0.7777777777777778,
              "#6ece58"
             ],
             [
              0.8888888888888888,
              "#b5de2b"
             ],
             [
              1,
              "#fde725"
             ]
            ],
            "type": "heatmapgl"
           }
          ],
          "histogram": [
           {
            "marker": {
             "line": {
              "color": "white",
              "width": 0.6
             }
            },
            "type": "histogram"
           }
          ],
          "histogram2d": [
           {
            "colorbar": {
             "outlinewidth": 1,
             "tickcolor": "rgb(36,36,36)",
             "ticks": "outside"
            },
            "colorscale": [
             [
              0,
              "#440154"
             ],
             [
              0.1111111111111111,
              "#482878"
             ],
             [
              0.2222222222222222,
              "#3e4989"
             ],
             [
              0.3333333333333333,
              "#31688e"
             ],
             [
              0.4444444444444444,
              "#26828e"
             ],
             [
              0.5555555555555556,
              "#1f9e89"
             ],
             [
              0.6666666666666666,
              "#35b779"
             ],
             [
              0.7777777777777778,
              "#6ece58"
             ],
             [
              0.8888888888888888,
              "#b5de2b"
             ],
             [
              1,
              "#fde725"
             ]
            ],
            "type": "histogram2d"
           }
          ],
          "histogram2dcontour": [
           {
            "colorbar": {
             "outlinewidth": 1,
             "tickcolor": "rgb(36,36,36)",
             "ticks": "outside"
            },
            "colorscale": [
             [
              0,
              "#440154"
             ],
             [
              0.1111111111111111,
              "#482878"
             ],
             [
              0.2222222222222222,
              "#3e4989"
             ],
             [
              0.3333333333333333,
              "#31688e"
             ],
             [
              0.4444444444444444,
              "#26828e"
             ],
             [
              0.5555555555555556,
              "#1f9e89"
             ],
             [
              0.6666666666666666,
              "#35b779"
             ],
             [
              0.7777777777777778,
              "#6ece58"
             ],
             [
              0.8888888888888888,
              "#b5de2b"
             ],
             [
              1,
              "#fde725"
             ]
            ],
            "type": "histogram2dcontour"
           }
          ],
          "mesh3d": [
           {
            "colorbar": {
             "outlinewidth": 1,
             "tickcolor": "rgb(36,36,36)",
             "ticks": "outside"
            },
            "type": "mesh3d"
           }
          ],
          "parcoords": [
           {
            "line": {
             "colorbar": {
              "outlinewidth": 1,
              "tickcolor": "rgb(36,36,36)",
              "ticks": "outside"
             }
            },
            "type": "parcoords"
           }
          ],
          "pie": [
           {
            "automargin": true,
            "type": "pie"
           }
          ],
          "scatter": [
           {
            "fillpattern": {
             "fillmode": "overlay",
             "size": 10,
             "solidity": 0.2
            },
            "type": "scatter"
           }
          ],
          "scatter3d": [
           {
            "line": {
             "colorbar": {
              "outlinewidth": 1,
              "tickcolor": "rgb(36,36,36)",
              "ticks": "outside"
             }
            },
            "marker": {
             "colorbar": {
              "outlinewidth": 1,
              "tickcolor": "rgb(36,36,36)",
              "ticks": "outside"
             }
            },
            "type": "scatter3d"
           }
          ],
          "scattercarpet": [
           {
            "marker": {
             "colorbar": {
              "outlinewidth": 1,
              "tickcolor": "rgb(36,36,36)",
              "ticks": "outside"
             }
            },
            "type": "scattercarpet"
           }
          ],
          "scattergeo": [
           {
            "marker": {
             "colorbar": {
              "outlinewidth": 1,
              "tickcolor": "rgb(36,36,36)",
              "ticks": "outside"
             }
            },
            "type": "scattergeo"
           }
          ],
          "scattergl": [
           {
            "marker": {
             "colorbar": {
              "outlinewidth": 1,
              "tickcolor": "rgb(36,36,36)",
              "ticks": "outside"
             }
            },
            "type": "scattergl"
           }
          ],
          "scattermapbox": [
           {
            "marker": {
             "colorbar": {
              "outlinewidth": 1,
              "tickcolor": "rgb(36,36,36)",
              "ticks": "outside"
             }
            },
            "type": "scattermapbox"
           }
          ],
          "scatterpolar": [
           {
            "marker": {
             "colorbar": {
              "outlinewidth": 1,
              "tickcolor": "rgb(36,36,36)",
              "ticks": "outside"
             }
            },
            "type": "scatterpolar"
           }
          ],
          "scatterpolargl": [
           {
            "marker": {
             "colorbar": {
              "outlinewidth": 1,
              "tickcolor": "rgb(36,36,36)",
              "ticks": "outside"
             }
            },
            "type": "scatterpolargl"
           }
          ],
          "scatterternary": [
           {
            "marker": {
             "colorbar": {
              "outlinewidth": 1,
              "tickcolor": "rgb(36,36,36)",
              "ticks": "outside"
             }
            },
            "type": "scatterternary"
           }
          ],
          "surface": [
           {
            "colorbar": {
             "outlinewidth": 1,
             "tickcolor": "rgb(36,36,36)",
             "ticks": "outside"
            },
            "colorscale": [
             [
              0,
              "#440154"
             ],
             [
              0.1111111111111111,
              "#482878"
             ],
             [
              0.2222222222222222,
              "#3e4989"
             ],
             [
              0.3333333333333333,
              "#31688e"
             ],
             [
              0.4444444444444444,
              "#26828e"
             ],
             [
              0.5555555555555556,
              "#1f9e89"
             ],
             [
              0.6666666666666666,
              "#35b779"
             ],
             [
              0.7777777777777778,
              "#6ece58"
             ],
             [
              0.8888888888888888,
              "#b5de2b"
             ],
             [
              1,
              "#fde725"
             ]
            ],
            "type": "surface"
           }
          ],
          "table": [
           {
            "cells": {
             "fill": {
              "color": "rgb(237,237,237)"
             },
             "line": {
              "color": "white"
             }
            },
            "header": {
             "fill": {
              "color": "rgb(217,217,217)"
             },
             "line": {
              "color": "white"
             }
            },
            "type": "table"
           }
          ]
         },
         "layout": {
          "annotationdefaults": {
           "arrowhead": 0,
           "arrowwidth": 1
          },
          "autotypenumbers": "strict",
          "coloraxis": {
           "colorbar": {
            "outlinewidth": 1,
            "tickcolor": "rgb(36,36,36)",
            "ticks": "outside"
           }
          },
          "colorscale": {
           "diverging": [
            [
             0,
             "rgb(103,0,31)"
            ],
            [
             0.1,
             "rgb(178,24,43)"
            ],
            [
             0.2,
             "rgb(214,96,77)"
            ],
            [
             0.3,
             "rgb(244,165,130)"
            ],
            [
             0.4,
             "rgb(253,219,199)"
            ],
            [
             0.5,
             "rgb(247,247,247)"
            ],
            [
             0.6,
             "rgb(209,229,240)"
            ],
            [
             0.7,
             "rgb(146,197,222)"
            ],
            [
             0.8,
             "rgb(67,147,195)"
            ],
            [
             0.9,
             "rgb(33,102,172)"
            ],
            [
             1,
             "rgb(5,48,97)"
            ]
           ],
           "sequential": [
            [
             0,
             "#440154"
            ],
            [
             0.1111111111111111,
             "#482878"
            ],
            [
             0.2222222222222222,
             "#3e4989"
            ],
            [
             0.3333333333333333,
             "#31688e"
            ],
            [
             0.4444444444444444,
             "#26828e"
            ],
            [
             0.5555555555555556,
             "#1f9e89"
            ],
            [
             0.6666666666666666,
             "#35b779"
            ],
            [
             0.7777777777777778,
             "#6ece58"
            ],
            [
             0.8888888888888888,
             "#b5de2b"
            ],
            [
             1,
             "#fde725"
            ]
           ],
           "sequentialminus": [
            [
             0,
             "#440154"
            ],
            [
             0.1111111111111111,
             "#482878"
            ],
            [
             0.2222222222222222,
             "#3e4989"
            ],
            [
             0.3333333333333333,
             "#31688e"
            ],
            [
             0.4444444444444444,
             "#26828e"
            ],
            [
             0.5555555555555556,
             "#1f9e89"
            ],
            [
             0.6666666666666666,
             "#35b779"
            ],
            [
             0.7777777777777778,
             "#6ece58"
            ],
            [
             0.8888888888888888,
             "#b5de2b"
            ],
            [
             1,
             "#fde725"
            ]
           ]
          },
          "colorway": [
           "#1F77B4",
           "#FF7F0E",
           "#2CA02C",
           "#D62728",
           "#9467BD",
           "#8C564B",
           "#E377C2",
           "#7F7F7F",
           "#BCBD22",
           "#17BECF"
          ],
          "font": {
           "color": "rgb(36,36,36)"
          },
          "geo": {
           "bgcolor": "white",
           "lakecolor": "white",
           "landcolor": "white",
           "showlakes": true,
           "showland": true,
           "subunitcolor": "white"
          },
          "hoverlabel": {
           "align": "left"
          },
          "hovermode": "closest",
          "mapbox": {
           "style": "light"
          },
          "paper_bgcolor": "white",
          "plot_bgcolor": "white",
          "polar": {
           "angularaxis": {
            "gridcolor": "rgb(232,232,232)",
            "linecolor": "rgb(36,36,36)",
            "showgrid": false,
            "showline": true,
            "ticks": "outside"
           },
           "bgcolor": "white",
           "radialaxis": {
            "gridcolor": "rgb(232,232,232)",
            "linecolor": "rgb(36,36,36)",
            "showgrid": false,
            "showline": true,
            "ticks": "outside"
           }
          },
          "scene": {
           "xaxis": {
            "backgroundcolor": "white",
            "gridcolor": "rgb(232,232,232)",
            "gridwidth": 2,
            "linecolor": "rgb(36,36,36)",
            "showbackground": true,
            "showgrid": false,
            "showline": true,
            "ticks": "outside",
            "zeroline": false,
            "zerolinecolor": "rgb(36,36,36)"
           },
           "yaxis": {
            "backgroundcolor": "white",
            "gridcolor": "rgb(232,232,232)",
            "gridwidth": 2,
            "linecolor": "rgb(36,36,36)",
            "showbackground": true,
            "showgrid": false,
            "showline": true,
            "ticks": "outside",
            "zeroline": false,
            "zerolinecolor": "rgb(36,36,36)"
           },
           "zaxis": {
            "backgroundcolor": "white",
            "gridcolor": "rgb(232,232,232)",
            "gridwidth": 2,
            "linecolor": "rgb(36,36,36)",
            "showbackground": true,
            "showgrid": false,
            "showline": true,
            "ticks": "outside",
            "zeroline": false,
            "zerolinecolor": "rgb(36,36,36)"
           }
          },
          "shapedefaults": {
           "fillcolor": "black",
           "line": {
            "width": 0
           },
           "opacity": 0.3
          },
          "ternary": {
           "aaxis": {
            "gridcolor": "rgb(232,232,232)",
            "linecolor": "rgb(36,36,36)",
            "showgrid": false,
            "showline": true,
            "ticks": "outside"
           },
           "baxis": {
            "gridcolor": "rgb(232,232,232)",
            "linecolor": "rgb(36,36,36)",
            "showgrid": false,
            "showline": true,
            "ticks": "outside"
           },
           "bgcolor": "white",
           "caxis": {
            "gridcolor": "rgb(232,232,232)",
            "linecolor": "rgb(36,36,36)",
            "showgrid": false,
            "showline": true,
            "ticks": "outside"
           }
          },
          "title": {
           "x": 0.05
          },
          "xaxis": {
           "automargin": true,
           "gridcolor": "rgb(232,232,232)",
           "linecolor": "rgb(36,36,36)",
           "showgrid": false,
           "showline": true,
           "ticks": "outside",
           "title": {
            "standoff": 15
           },
           "zeroline": false,
           "zerolinecolor": "rgb(36,36,36)"
          },
          "yaxis": {
           "automargin": true,
           "gridcolor": "rgb(232,232,232)",
           "linecolor": "rgb(36,36,36)",
           "showgrid": false,
           "showline": true,
           "ticks": "outside",
           "title": {
            "standoff": 15
           },
           "zeroline": false,
           "zerolinecolor": "rgb(36,36,36)"
          }
         }
        },
        "title": {
         "font": {
          "color": "Black",
          "size": 22
         },
         "text": "<b>Intertopic Distance Map</b>",
         "x": 0.5,
         "xanchor": "center",
         "y": 0.95,
         "yanchor": "top"
        },
        "width": 650,
        "xaxis": {
         "anchor": "y",
         "domain": [
          0,
          1
         ],
         "range": [
          -5.489695501327515,
          21.13639144897461
         ],
         "title": {
          "text": ""
         },
         "visible": false
        },
        "yaxis": {
         "anchor": "x",
         "domain": [
          0,
          1
         ],
         "range": [
          -9.929262113571166,
          27.05404348373413
         ],
         "title": {
          "text": ""
         },
         "visible": false
        }
       }
      }
     },
     "metadata": {},
     "output_type": "display_data"
    }
   ],
   "source": [
    "topic_model.visualize_topics()"
   ]
  },
  {
   "cell_type": "code",
   "execution_count": 88,
   "metadata": {},
   "outputs": [
    {
     "data": {
      "application/vnd.plotly.v1+json": {
       "config": {
        "plotlyServerURL": "https://plot.ly"
       },
       "data": [
        {
         "coloraxis": "coloraxis",
         "hovertemplate": "x: %{x}<br>y: %{y}<br>Similarity Score: %{z}<extra></extra>",
         "name": "0",
         "type": "heatmap",
         "x": [
          "0_lobe pneumonia notificati...",
          "1_effusions pneumothorax_op...",
          "2_lobe pneumonia followup_p...",
          "3_pneumonia findings pa_lun...",
          "4_pneumonia technique chest...",
          "5_lung volumes bibasilar_re...",
          "6_consolidation left lung_g...",
          "7_lingular pneumonia_compat...",
          "8_right atrium pneumothorax...",
          "9_pleural effusions pulmona...",
          "10_lateral chest radiograph...",
          "11_effusion pneumothorax wi...",
          "12_bilateral pleural effusi...",
          "13_opacity consistent pneum...",
          "14_assess pneumonia finding...",
          "15_effusion pneumothorax ca...",
          "16_endotracheal tube appear...",
          "17_posterior lung_effusion ...",
          "18_lobe pneumonia followup_...",
          "19_effusion pneumothorax se...",
          "20_chest ct similar_aspect ...",
          "21_sided pleural effusion_l...",
          "22_pulmonary edema atypical...",
          "23_left pleural effusion_ch...",
          "24_underlying interstitial ...",
          "25_chest ct removed_lung no...",
          "26_lung disease atelectasis...",
          "27_lower lobe pneumonia_unr...",
          "28_pneumonia heart mediasti...",
          "29_consolidation concerning...",
          "30_findings lung volumes_at...",
          "31_endotracheal enteric tub...",
          "32_pneumothorax moderate se...",
          "33_basilar atelectasis pneu..."
         ],
         "xaxis": "x",
         "y": [
          "0_lobe pneumonia notificati...",
          "1_effusions pneumothorax_op...",
          "2_lobe pneumonia followup_p...",
          "3_pneumonia findings pa_lun...",
          "4_pneumonia technique chest...",
          "5_lung volumes bibasilar_re...",
          "6_consolidation left lung_g...",
          "7_lingular pneumonia_compat...",
          "8_right atrium pneumothorax...",
          "9_pleural effusions pulmona...",
          "10_lateral chest radiograph...",
          "11_effusion pneumothorax wi...",
          "12_bilateral pleural effusi...",
          "13_opacity consistent pneum...",
          "14_assess pneumonia finding...",
          "15_effusion pneumothorax ca...",
          "16_endotracheal tube appear...",
          "17_posterior lung_effusion ...",
          "18_lobe pneumonia followup_...",
          "19_effusion pneumothorax se...",
          "20_chest ct similar_aspect ...",
          "21_sided pleural effusion_l...",
          "22_pulmonary edema atypical...",
          "23_left pleural effusion_ch...",
          "24_underlying interstitial ...",
          "25_chest ct removed_lung no...",
          "26_lung disease atelectasis...",
          "27_lower lobe pneumonia_unr...",
          "28_pneumonia heart mediasti...",
          "29_consolidation concerning...",
          "30_findings lung volumes_at...",
          "31_endotracheal enteric tub...",
          "32_pneumothorax moderate se...",
          "33_basilar atelectasis pneu..."
         ],
         "yaxis": "y",
         "z": [
          [
           1.000000238418579,
           0.7944765686988831,
           0.7816685438156128,
           0.8318012952804565,
           0.8906995058059692,
           0.8129134774208069,
           0.8803634643554688,
           0.9007994532585144,
           0.8539932370185852,
           0.7735583782196045,
           0.4649374783039093,
           0.845836877822876,
           0.8130359649658203,
           0.8515183329582214,
           0.7958083748817444,
           0.7682281732559204,
           0.8125696778297424,
           0.8658936619758606,
           0.8451519012451172,
           0.8021929264068604,
           0.7837658524513245,
           0.8653564453125,
           0.833473801612854,
           0.793895959854126,
           0.8873486518859863,
           0.8983027338981628,
           0.6876832246780396,
           0.8647024631500244,
           0.8002055883407593,
           0.8712296485900879,
           0.6857790946960449,
           0.800551176071167,
           0.8539810180664062,
           0.720435380935669
          ],
          [
           0.7944765686988831,
           1,
           0.6140472888946533,
           0.6726016998291016,
           0.7870128154754639,
           0.7165505886077881,
           0.7048479318618774,
           0.697102427482605,
           0.7163857221603394,
           0.7420516014099121,
           0.7099095582962036,
           0.7293506860733032,
           0.6895250082015991,
           0.6765087842941284,
           0.6038262248039246,
           0.5763969421386719,
           0.6626057624816895,
           0.7110637426376343,
           0.8714594841003418,
           0.6769860982894897,
           0.6068488359451294,
           0.7158551216125488,
           0.7107023000717163,
           0.668052613735199,
           0.7121665477752686,
           0.6958243250846863,
           0.553929328918457,
           0.7638216614723206,
           0.719464123249054,
           0.7858074307441711,
           0.5530250072479248,
           0.6396254301071167,
           0.6874518394470215,
           0.5735535621643066
          ],
          [
           0.7816685438156128,
           0.6140472888946533,
           1.0000003576278687,
           0.8346414566040039,
           0.8481267690658569,
           0.7663540244102478,
           0.7766040563583374,
           0.8300931453704834,
           0.7106203436851501,
           0.6683943271636963,
           0.15673008561134338,
           0.8598818778991699,
           0.7526266574859619,
           0.7908290028572083,
           0.7929360866546631,
           0.7186277508735657,
           0.683066725730896,
           0.807441234588623,
           0.7623043060302734,
           0.8170233964920044,
           0.9321492910385132,
           0.7366764545440674,
           0.7919360399246216,
           0.7079678773880005,
           0.7984678149223328,
           0.8352320194244385,
           0.9297980070114136,
           0.8080700039863586,
           0.7597902417182922,
           0.7995242476463318,
           0.8734239339828491,
           0.8455761671066284,
           0.860486626625061,
           0.8158254623413086
          ],
          [
           0.8318012952804565,
           0.6726016998291016,
           0.8346414566040039,
           0.9999998807907104,
           0.8546688556671143,
           0.8185252547264099,
           0.8583110570907593,
           0.9400289058685303,
           0.7544561624526978,
           0.7809194326400757,
           0.2185213416814804,
           0.8052725791931152,
           0.8003092408180237,
           0.8131198287010193,
           0.9332743287086487,
           0.6818565130233765,
           0.695713222026825,
           0.8095179796218872,
           0.7680402994155884,
           0.8757929801940918,
           0.8323542475700378,
           0.8529011607170105,
           0.8734657764434814,
           0.8393995761871338,
           0.9138075113296509,
           0.9118829965591431,
           0.7280763983726501,
           0.8237996697425842,
           0.9216532707214355,
           0.8526942133903503,
           0.7157680988311768,
           0.7720210552215576,
           0.8350140452384949,
           0.7472622990608215
          ],
          [
           0.8906995058059692,
           0.7870128154754639,
           0.8481267690658569,
           0.8546688556671143,
           0.9999997615814209,
           0.7491960525512695,
           0.7998383045196533,
           0.9048231244087219,
           0.7511126399040222,
           0.6744868159294128,
           0.40935754776000977,
           0.8091017603874207,
           0.7239474058151245,
           0.8314518928527832,
           0.8072388768196106,
           0.8091679811477661,
           0.703444242477417,
           0.9015816450119019,
           0.873932957649231,
           0.8185786604881287,
           0.7564603090286255,
           0.805060088634491,
           0.7910906076431274,
           0.7050883769989014,
           0.8311347961425781,
           0.8817269802093506,
           0.6906427145004272,
           0.9375046491622925,
           0.7452882528305054,
           0.8295903205871582,
           0.6332303285598755,
           0.7405499219894409,
           0.8151149749755859,
           0.6330512762069702
          ],
          [
           0.8129134774208069,
           0.7165505886077881,
           0.7663540244102478,
           0.8185252547264099,
           0.7491960525512695,
           0.9999997019767761,
           0.7686781883239746,
           0.8159053921699524,
           0.8139042854309082,
           0.821506142616272,
           0.257033109664917,
           0.8128076195716858,
           0.8272881507873535,
           0.782875657081604,
           0.8478894233703613,
           0.6680827140808105,
           0.7437794208526611,
           0.8378853797912598,
           0.6729529500007629,
           0.899275541305542,
           0.7781617045402527,
           0.7863951325416565,
           0.8569221496582031,
           0.8369175791740417,
           0.8290712833404541,
           0.7542248964309692,
           0.8179293870925903,
           0.7406911849975586,
           0.8685786128044128,
           0.8414097428321838,
           0.8565256595611572,
           0.7801302075386047,
           0.8459603786468506,
           0.7721260190010071
          ],
          [
           0.8803634643554688,
           0.7048479318618774,
           0.7766040563583374,
           0.8583110570907593,
           0.7998383045196533,
           0.7686781883239746,
           0.9999999403953552,
           0.8855834603309631,
           0.8545900583267212,
           0.8457509875297546,
           0.29253971576690674,
           0.8495725989341736,
           0.8495454788208008,
           0.8313763737678528,
           0.7578812837600708,
           0.6688249111175537,
           0.8225514888763428,
           0.7611387968063354,
           0.757756233215332,
           0.774329423904419,
           0.8674685955047607,
           0.9231389164924622,
           0.8525304794311523,
           0.9074265956878662,
           0.9043749570846558,
           0.9379062652587891,
           0.6971907019615173,
           0.8555179834365845,
           0.8565561771392822,
           0.8807271718978882,
           0.7228156328201294,
           0.8411509990692139,
           0.8696335554122925,
           0.850236177444458
          ],
          [
           0.9007994532585144,
           0.697102427482605,
           0.8300931453704834,
           0.9400289058685303,
           0.9048231244087219,
           0.8159053921699524,
           0.8855834603309631,
           1,
           0.7860939502716064,
           0.7693970203399658,
           0.28662675619125366,
           0.8368497490882874,
           0.8193024396896362,
           0.8785945177078247,
           0.8980944156646729,
           0.7846945524215698,
           0.7172432541847229,
           0.90151047706604,
           0.8120489716529846,
           0.8835080862045288,
           0.8190252780914307,
           0.8609249591827393,
           0.8759777545928955,
           0.8377917408943176,
           0.9306782484054565,
           0.9264143705368042,
           0.7171857357025146,
           0.898435115814209,
           0.8533744812011719,
           0.8794488906860352,
           0.6979933381080627,
           0.7593662738800049,
           0.8781836032867432,
           0.7430223822593689
          ],
          [
           0.8539932370185852,
           0.7163857221603394,
           0.7106203436851501,
           0.7544561624526978,
           0.7511126399040222,
           0.8139042854309082,
           0.8545900583267212,
           0.7860939502716064,
           1.0000005960464478,
           0.8311113119125366,
           0.38401737809181213,
           0.8244010210037231,
           0.8681968450546265,
           0.828321099281311,
           0.7124818563461304,
           0.6905804872512817,
           0.8765600919723511,
           0.7387459874153137,
           0.6952885389328003,
           0.7331060171127319,
           0.7747714519500732,
           0.8723866939544678,
           0.7995153665542603,
           0.8160404562950134,
           0.8140850067138672,
           0.8055700063705444,
           0.6883951425552368,
           0.7414747476577759,
           0.8123807907104492,
           0.8527753353118896,
           0.7378363013267517,
           0.8530219793319702,
           0.7941410541534424,
           0.7736384272575378
          ],
          [
           0.7735583782196045,
           0.7420516014099121,
           0.6683943271636963,
           0.7809194326400757,
           0.6744868159294128,
           0.821506142616272,
           0.8457509875297546,
           0.7693970203399658,
           0.8311113119125366,
           1.0000001192092896,
           0.281569242477417,
           0.8466030359268188,
           0.9257845878601074,
           0.7734616994857788,
           0.6826829314231873,
           0.5392180681228638,
           0.7577242851257324,
           0.6715272665023804,
           0.6542649865150452,
           0.7476387619972229,
           0.7851262092590332,
           0.8705216646194458,
           0.8883911371231079,
           0.9375958442687988,
           0.8442705869674683,
           0.7803952693939209,
           0.6768426895141602,
           0.6799451112747192,
           0.918852686882019,
           0.9420540928840637,
           0.7507933378219604,
           0.7665455341339111,
           0.7865079641342163,
           0.8574795722961426
          ],
          [
           0.4649374783039093,
           0.7099095582962036,
           0.15673008561134338,
           0.2185213416814804,
           0.40935754776000977,
           0.257033109664917,
           0.29253971576690674,
           0.28662675619125366,
           0.38401737809181213,
           0.281569242477417,
           1,
           0.27197709679603577,
           0.2688373327255249,
           0.31967559456825256,
           0.19093650579452515,
           0.42027777433395386,
           0.34570059180259705,
           0.3094673156738281,
           0.5702489018440247,
           0.15907756984233856,
           0.14672157168388367,
           0.3232252299785614,
           0.2282291054725647,
           0.18724945187568665,
           0.2778487503528595,
           0.29523801803588867,
           0.08839991688728333,
           0.38178014755249023,
           0.2536441683769226,
           0.3214484751224518,
           0.08766010403633118,
           0.23997914791107178,
           0.23155231773853302,
           0.11769190430641174
          ],
          [
           0.845836877822876,
           0.7293506860733032,
           0.8598818778991699,
           0.8052725791931152,
           0.8091017603874207,
           0.8128076195716858,
           0.8495725989341736,
           0.8368497490882874,
           0.8244010210037231,
           0.8466030359268188,
           0.27197709679603577,
           1.0000001192092896,
           0.8642940521240234,
           0.8181672096252441,
           0.7453641891479492,
           0.6668490171432495,
           0.7635085582733154,
           0.8110291957855225,
           0.7635244131088257,
           0.804226279258728,
           0.8851802945137024,
           0.8064494132995605,
           0.9061694145202637,
           0.8112537860870361,
           0.8708125352859497,
           0.8323224782943726,
           0.81778484582901,
           0.7736534476280212,
           0.8516387939453125,
           0.9118561744689941,
           0.8382390737533569,
           0.8436225652694702,
           0.9269839525222778,
           0.8333954215049744
          ],
          [
           0.8130359649658203,
           0.6895250082015991,
           0.7526266574859619,
           0.8003092408180237,
           0.7239474058151245,
           0.8272881507873535,
           0.8495454788208008,
           0.8193024396896362,
           0.8681968450546265,
           0.9257845878601074,
           0.2688373327255249,
           0.8642940521240234,
           1,
           0.9248563051223755,
           0.7477418184280396,
           0.6669058203697205,
           0.7717550992965698,
           0.748749852180481,
           0.6786997318267822,
           0.7796804904937744,
           0.8490778207778931,
           0.8808900117874146,
           0.8674613237380981,
           0.8972443342208862,
           0.8584197759628296,
           0.8159237504005432,
           0.756558895111084,
           0.7160505056381226,
           0.8744636178016663,
           0.934872567653656,
           0.8106585144996643,
           0.807403028011322,
           0.8391337990760803,
           0.8684279918670654
          ],
          [
           0.8515183329582214,
           0.6765087842941284,
           0.7908290028572083,
           0.8131198287010193,
           0.8314518928527832,
           0.782875657081604,
           0.8313763737678528,
           0.8785945177078247,
           0.828321099281311,
           0.7734616994857788,
           0.31967559456825256,
           0.8181672096252441,
           0.9248563051223755,
           1.0000004768371582,
           0.8013851642608643,
           0.8131141662597656,
           0.7281469702720642,
           0.8494811058044434,
           0.7475939989089966,
           0.8068710565567017,
           0.8117402791976929,
           0.8346764445304871,
           0.8233396410942078,
           0.7995845079421997,
           0.8595138788223267,
           0.8515510559082031,
           0.7355471253395081,
           0.8202037811279297,
           0.7810119986534119,
           0.866569995880127,
           0.7308478951454163,
           0.7614600658416748,
           0.8334403038024902,
           0.7503405809402466
          ],
          [
           0.7958083748817444,
           0.6038262248039246,
           0.7929360866546631,
           0.9332743287086487,
           0.8072388768196106,
           0.8478894233703613,
           0.7578812837600708,
           0.8980944156646729,
           0.7124818563461304,
           0.6826829314231873,
           0.19093650579452515,
           0.7453641891479492,
           0.7477418184280396,
           0.8013851642608643,
           1,
           0.753779411315918,
           0.647540271282196,
           0.8778650164604187,
           0.6923362016677856,
           0.9020290374755859,
           0.7488195896148682,
           0.7657173871994019,
           0.8005905151367188,
           0.7652924060821533,
           0.832176148891449,
           0.8037804961204529,
           0.7390242218971252,
           0.7870759963989258,
           0.8554955720901489,
           0.7680234909057617,
           0.7078763246536255,
           0.7074669599533081,
           0.8240453600883484,
           0.6816064119338989
          ],
          [
           0.7682281732559204,
           0.5763969421386719,
           0.7186277508735657,
           0.6818565130233765,
           0.8091679811477661,
           0.6680827140808105,
           0.6688249111175537,
           0.7846945524215698,
           0.6905804872512817,
           0.5392180681228638,
           0.42027777433395386,
           0.6668490171432495,
           0.6669058203697205,
           0.8131141662597656,
           0.753779411315918,
           0.9999997615814209,
           0.6269031763076782,
           0.831883430480957,
           0.6681942939758301,
           0.6697204113006592,
           0.6514803767204285,
           0.6753008961677551,
           0.6375254392623901,
           0.5845156908035278,
           0.689371645450592,
           0.7175340056419373,
           0.6555418968200684,
           0.798782467842102,
           0.5911924839019775,
           0.6693062782287598,
           0.5967231392860413,
           0.6405419111251831,
           0.7163698673248291,
           0.586637020111084
          ],
          [
           0.8125696778297424,
           0.6626057624816895,
           0.683066725730896,
           0.695713222026825,
           0.703444242477417,
           0.7437794208526611,
           0.8225514888763428,
           0.7172432541847229,
           0.8765600919723511,
           0.7577242851257324,
           0.34570059180259705,
           0.7635085582733154,
           0.7717550992965698,
           0.7281469702720642,
           0.647540271282196,
           0.6269031763076782,
           1.000000238418579,
           0.6794613599777222,
           0.6606724262237549,
           0.6771960854530334,
           0.743119478225708,
           0.8103770017623901,
           0.7402142286300659,
           0.7689298987388611,
           0.7547948360443115,
           0.7642852067947388,
           0.656307578086853,
           0.7044245600700378,
           0.736977756023407,
           0.7824650406837463,
           0.6955097913742065,
           0.9380366802215576,
           0.7543671131134033,
           0.7391960620880127
          ],
          [
           0.8658936619758606,
           0.7110637426376343,
           0.807441234588623,
           0.8095179796218872,
           0.9015816450119019,
           0.8378853797912598,
           0.7611387968063354,
           0.90151047706604,
           0.7387459874153137,
           0.6715272665023804,
           0.3094673156738281,
           0.8110291957855225,
           0.748749852180481,
           0.8494811058044434,
           0.8778650164604187,
           0.831883430480957,
           0.6794613599777222,
           1,
           0.7693811655044556,
           0.8960509896278381,
           0.7291892170906067,
           0.7528059482574463,
           0.8029636144638062,
           0.7318025827407837,
           0.8154336214065552,
           0.7954645156860352,
           0.7464335560798645,
           0.880401611328125,
           0.7439800500869751,
           0.8063898086547852,
           0.6956579685211182,
           0.7076197266578674,
           0.8681435585021973,
           0.6570776104927063
          ],
          [
           0.8451519012451172,
           0.8714594841003418,
           0.7623043060302734,
           0.7680402994155884,
           0.873932957649231,
           0.6729529500007629,
           0.757756233215332,
           0.8120489716529846,
           0.6952885389328003,
           0.6542649865150452,
           0.5702489018440247,
           0.7635244131088257,
           0.6786997318267822,
           0.7475939989089966,
           0.6923362016677856,
           0.6681942939758301,
           0.6606724262237549,
           0.7693811655044556,
           1,
           0.7117712497711182,
           0.7092621326446533,
           0.7279535531997681,
           0.7308191061019897,
           0.6412671208381653,
           0.7692101001739502,
           0.7982966899871826,
           0.613042950630188,
           0.8353853225708008,
           0.7180126905441284,
           0.7847957611083984,
           0.5750458240509033,
           0.6878803968429565,
           0.7348511815071106,
           0.5863118171691895
          ],
          [
           0.8021929264068604,
           0.6769860982894897,
           0.8170233964920044,
           0.8757929801940918,
           0.8185786604881287,
           0.899275541305542,
           0.774329423904419,
           0.8835080862045288,
           0.7331060171127319,
           0.7476387619972229,
           0.15907756984233856,
           0.804226279258728,
           0.7796804904937744,
           0.8068710565567017,
           0.9020290374755859,
           0.6697204113006592,
           0.6771960854530334,
           0.8960509896278381,
           0.7117712497711182,
           0.9999996423721313,
           0.7764196991920471,
           0.7682045102119446,
           0.876219630241394,
           0.8306564092636108,
           0.866379976272583,
           0.8016024827957153,
           0.7922353744506836,
           0.7966739535331726,
           0.8326497077941895,
           0.8251714706420898,
           0.7570725083351135,
           0.7351275682449341,
           0.859622597694397,
           0.7228827476501465
          ],
          [
           0.7837658524513245,
           0.6068488359451294,
           0.9321492910385132,
           0.8323542475700378,
           0.7564603090286255,
           0.7781617045402527,
           0.8674685955047607,
           0.8190252780914307,
           0.7747714519500732,
           0.7851262092590332,
           0.14672157168388367,
           0.8851802945137024,
           0.8490778207778931,
           0.8117402791976929,
           0.7488195896148682,
           0.6514803767204285,
           0.743119478225708,
           0.7291892170906067,
           0.7092621326446533,
           0.7764196991920471,
           1,
           0.8155617713928223,
           0.8446626663208008,
           0.8194254636764526,
           0.8656838536262512,
           0.8786945343017578,
           0.9076614379882812,
           0.7473134994506836,
           0.8210019469261169,
           0.8624089360237122,
           0.9110046029090881,
           0.8917206525802612,
           0.8828971982002258,
           0.9175559878349304
          ],
          [
           0.8653564453125,
           0.7158551216125488,
           0.7366764545440674,
           0.8529011607170105,
           0.805060088634491,
           0.7863951325416565,
           0.9231389164924622,
           0.8609249591827393,
           0.8723866939544678,
           0.8705216646194458,
           0.3232252299785614,
           0.8064494132995605,
           0.8808900117874146,
           0.8346764445304871,
           0.7657173871994019,
           0.6753008961677551,
           0.8103770017623901,
           0.7528059482574463,
           0.7279535531997681,
           0.7682045102119446,
           0.8155617713928223,
           1.000000238418579,
           0.8209520578384399,
           0.923332691192627,
           0.8675146102905273,
           0.8984332084655762,
           0.669134795665741,
           0.7839672565460205,
           0.855111300945282,
           0.8928518295288086,
           0.7020156979560852,
           0.8194147944450378,
           0.8511103391647339,
           0.8502399921417236
          ],
          [
           0.833473801612854,
           0.7107023000717163,
           0.7919360399246216,
           0.8734657764434814,
           0.7910906076431274,
           0.8569221496582031,
           0.8525304794311523,
           0.8759777545928955,
           0.7995153665542603,
           0.8883911371231079,
           0.2282291054725647,
           0.9061694145202637,
           0.8674613237380981,
           0.8233396410942078,
           0.8005905151367188,
           0.6375254392623901,
           0.7402142286300659,
           0.8029636144638062,
           0.7308191061019897,
           0.876219630241394,
           0.8446626663208008,
           0.8209520578384399,
           1,
           0.8894728422164917,
           0.9562546014785767,
           0.8648946285247803,
           0.7516220211982727,
           0.7525442838668823,
           0.9085325002670288,
           0.9302535057067871,
           0.7648869752883911,
           0.7868340015411377,
           0.8538219928741455,
           0.7848774194717407
          ],
          [
           0.793895959854126,
           0.668052613735199,
           0.7079678773880005,
           0.8393995761871338,
           0.7050883769989014,
           0.8369175791740417,
           0.9074265956878662,
           0.8377917408943176,
           0.8160404562950134,
           0.9375958442687988,
           0.18724945187568665,
           0.8112537860870361,
           0.8972443342208862,
           0.7995845079421997,
           0.7652924060821533,
           0.5845156908035278,
           0.7689298987388611,
           0.7318025827407837,
           0.6412671208381653,
           0.8306564092636108,
           0.8194254636764526,
           0.923332691192627,
           0.8894728422164917,
           0.9999997615814209,
           0.8855838179588318,
           0.8398691415786743,
           0.6987885236740112,
           0.7358479499816895,
           0.9017515182495117,
           0.9027794599533081,
           0.7528699636459351,
           0.7846561670303345,
           0.8448988199234009,
           0.8900316953659058
          ],
          [
           0.8873486518859863,
           0.7121665477752686,
           0.7984678149223328,
           0.9138075113296509,
           0.8311347961425781,
           0.8290712833404541,
           0.9043749570846558,
           0.9306782484054565,
           0.8140850067138672,
           0.8442705869674683,
           0.2778487503528595,
           0.8708125352859497,
           0.8584197759628296,
           0.8595138788223267,
           0.832176148891449,
           0.689371645450592,
           0.7547948360443115,
           0.8154336214065552,
           0.7692101001739502,
           0.866379976272583,
           0.8656838536262512,
           0.8675146102905273,
           0.9562546014785767,
           0.8855838179588318,
           1.0000001192092896,
           0.9450843334197998,
           0.724872887134552,
           0.8003686666488647,
           0.884719729423523,
           0.9137151837348938,
           0.7314544320106506,
           0.8013286590576172,
           0.8717840909957886,
           0.7800418138504028
          ],
          [
           0.8983027338981628,
           0.6958243250846863,
           0.8352320194244385,
           0.9118829965591431,
           0.8817269802093506,
           0.7542248964309692,
           0.9379062652587891,
           0.9264143705368042,
           0.8055700063705444,
           0.7803952693939209,
           0.29523801803588867,
           0.8323224782943726,
           0.8159237504005432,
           0.8515510559082031,
           0.8037804961204529,
           0.7175340056419373,
           0.7642852067947388,
           0.7954645156860352,
           0.7982966899871826,
           0.8016024827957153,
           0.8786945343017578,
           0.8984332084655762,
           0.8648946285247803,
           0.8398691415786743,
           0.9450843334197998,
           0.9999998807907104,
           0.7064810991287231,
           0.8586215972900391,
           0.8348219394683838,
           0.879973292350769,
           0.6933560371398926,
           0.8208049535751343,
           0.8445119261741638,
           0.7754349708557129
          ],
          [
           0.6876832246780396,
           0.553929328918457,
           0.9297980070114136,
           0.7280763983726501,
           0.6906427145004272,
           0.8179293870925903,
           0.6971907019615173,
           0.7171857357025146,
           0.6883951425552368,
           0.6768426895141602,
           0.08839991688728333,
           0.81778484582901,
           0.756558895111084,
           0.7355471253395081,
           0.7390242218971252,
           0.6555418968200684,
           0.656307578086853,
           0.7464335560798645,
           0.613042950630188,
           0.7922353744506836,
           0.9076614379882812,
           0.669134795665741,
           0.7516220211982727,
           0.6987885236740112,
           0.724872887134552,
           0.7064810991287231,
           0.9999996423721313,
           0.6802662014961243,
           0.7258297801017761,
           0.753025233745575,
           0.9609637260437012,
           0.8250167369842529,
           0.8399113416671753,
           0.8574552536010742
          ],
          [
           0.8647024631500244,
           0.7638216614723206,
           0.8080700039863586,
           0.8237996697425842,
           0.9375046491622925,
           0.7406911849975586,
           0.8555179834365845,
           0.898435115814209,
           0.7414747476577759,
           0.6799451112747192,
           0.38178014755249023,
           0.7736534476280212,
           0.7160505056381226,
           0.8202037811279297,
           0.7870759963989258,
           0.798782467842102,
           0.7044245600700378,
           0.880401611328125,
           0.8353853225708008,
           0.7966739535331726,
           0.7473134994506836,
           0.7839672565460205,
           0.7525442838668823,
           0.7358479499816895,
           0.8003686666488647,
           0.8586215972900391,
           0.6802662014961243,
           1.0000001192092896,
           0.73872971534729,
           0.8024730086326599,
           0.6381052136421204,
           0.7197909355163574,
           0.8108682632446289,
           0.6727546453475952
          ],
          [
           0.8002055883407593,
           0.719464123249054,
           0.7597902417182922,
           0.9216532707214355,
           0.7452882528305054,
           0.8685786128044128,
           0.8565561771392822,
           0.8533744812011719,
           0.8123807907104492,
           0.918852686882019,
           0.2536441683769226,
           0.8516387939453125,
           0.8744636178016663,
           0.7810119986534119,
           0.8554955720901489,
           0.5911924839019775,
           0.736977756023407,
           0.7439800500869751,
           0.7180126905441284,
           0.8326497077941895,
           0.8210019469261169,
           0.855111300945282,
           0.9085325002670288,
           0.9017515182495117,
           0.884719729423523,
           0.8348219394683838,
           0.7258297801017761,
           0.73872971534729,
           1,
           0.9118655920028687,
           0.7667011022567749,
           0.7861219644546509,
           0.8195326328277588,
           0.8157305717468262
          ],
          [
           0.8712296485900879,
           0.7858074307441711,
           0.7995242476463318,
           0.8526942133903503,
           0.8295903205871582,
           0.8414097428321838,
           0.8807271718978882,
           0.8794488906860352,
           0.8527753353118896,
           0.9420540928840637,
           0.3214484751224518,
           0.9118561744689941,
           0.934872567653656,
           0.866569995880127,
           0.7680234909057617,
           0.6693062782287598,
           0.7824650406837463,
           0.8063898086547852,
           0.7847957611083984,
           0.8251714706420898,
           0.8624089360237122,
           0.8928518295288086,
           0.9302535057067871,
           0.9027794599533081,
           0.9137151837348938,
           0.879973292350769,
           0.753025233745575,
           0.8024730086326599,
           0.9118655920028687,
           1,
           0.7778307199478149,
           0.8184528946876526,
           0.859184980392456,
           0.8438098430633545
          ],
          [
           0.6857790946960449,
           0.5530250072479248,
           0.8734239339828491,
           0.7157680988311768,
           0.6332303285598755,
           0.8565256595611572,
           0.7228156328201294,
           0.6979933381080627,
           0.7378363013267517,
           0.7507933378219604,
           0.08766010403633118,
           0.8382390737533569,
           0.8106585144996643,
           0.7308478951454163,
           0.7078763246536255,
           0.5967231392860413,
           0.6955097913742065,
           0.6956579685211182,
           0.5750458240509033,
           0.7570725083351135,
           0.9110046029090881,
           0.7020156979560852,
           0.7648869752883911,
           0.7528699636459351,
           0.7314544320106506,
           0.6933560371398926,
           0.9609637260437012,
           0.6381052136421204,
           0.7667011022567749,
           0.7778307199478149,
           1,
           0.8443721532821655,
           0.8453378677368164,
           0.8977155089378357
          ],
          [
           0.800551176071167,
           0.6396254301071167,
           0.8455761671066284,
           0.7720210552215576,
           0.7405499219894409,
           0.7801302075386047,
           0.8411509990692139,
           0.7593662738800049,
           0.8530219793319702,
           0.7665455341339111,
           0.23997914791107178,
           0.8436225652694702,
           0.807403028011322,
           0.7614600658416748,
           0.7074669599533081,
           0.6405419111251831,
           0.9380366802215576,
           0.7076197266578674,
           0.6878803968429565,
           0.7351275682449341,
           0.8917206525802612,
           0.8194147944450378,
           0.7868340015411377,
           0.7846561670303345,
           0.8013286590576172,
           0.8208049535751343,
           0.8250167369842529,
           0.7197909355163574,
           0.7861219644546509,
           0.8184528946876526,
           0.8443721532821655,
           0.9999996423721313,
           0.8327948451042175,
           0.8449499011039734
          ],
          [
           0.8539810180664062,
           0.6874518394470215,
           0.860486626625061,
           0.8350140452384949,
           0.8151149749755859,
           0.8459603786468506,
           0.8696335554122925,
           0.8781836032867432,
           0.7941410541534424,
           0.7865079641342163,
           0.23155231773853302,
           0.9269839525222778,
           0.8391337990760803,
           0.8334403038024902,
           0.8240453600883484,
           0.7163698673248291,
           0.7543671131134033,
           0.8681435585021973,
           0.7348511815071106,
           0.859622597694397,
           0.8828971982002258,
           0.8511103391647339,
           0.8538219928741455,
           0.8448988199234009,
           0.8717840909957886,
           0.8445119261741638,
           0.8399113416671753,
           0.8108682632446289,
           0.8195326328277588,
           0.859184980392456,
           0.8453378677368164,
           0.8327948451042175,
           0.9999997615814209,
           0.8605393767356873
          ],
          [
           0.720435380935669,
           0.5735535621643066,
           0.8158254623413086,
           0.7472622990608215,
           0.6330512762069702,
           0.7721260190010071,
           0.850236177444458,
           0.7430223822593689,
           0.7736384272575378,
           0.8574795722961426,
           0.11769190430641174,
           0.8333954215049744,
           0.8684279918670654,
           0.7503405809402466,
           0.6816064119338989,
           0.586637020111084,
           0.7391960620880127,
           0.6570776104927063,
           0.5863118171691895,
           0.7228827476501465,
           0.9175559878349304,
           0.8502399921417236,
           0.7848774194717407,
           0.8900316953659058,
           0.7800418138504028,
           0.7754349708557129,
           0.8574552536010742,
           0.6727546453475952,
           0.8157305717468262,
           0.8438098430633545,
           0.8977155089378357,
           0.8449499011039734,
           0.8605393767356873,
           0.9999997615814209
          ]
         ]
        }
       ],
       "layout": {
        "coloraxis": {
         "colorbar": {
          "title": {
           "text": "Similarity Score"
          }
         },
         "colorscale": [
          [
           0,
           "rgb(247,252,240)"
          ],
          [
           0.125,
           "rgb(224,243,219)"
          ],
          [
           0.25,
           "rgb(204,235,197)"
          ],
          [
           0.375,
           "rgb(168,221,181)"
          ],
          [
           0.5,
           "rgb(123,204,196)"
          ],
          [
           0.625,
           "rgb(78,179,211)"
          ],
          [
           0.75,
           "rgb(43,140,190)"
          ],
          [
           0.875,
           "rgb(8,104,172)"
          ],
          [
           1,
           "rgb(8,64,129)"
          ]
         ]
        },
        "height": 800,
        "hoverlabel": {
         "bgcolor": "white",
         "font": {
          "family": "Rockwell",
          "size": 16
         }
        },
        "legend": {
         "title": {
          "text": "Trend"
         }
        },
        "margin": {
         "t": 60
        },
        "showlegend": true,
        "template": {
         "data": {
          "bar": [
           {
            "error_x": {
             "color": "#2a3f5f"
            },
            "error_y": {
             "color": "#2a3f5f"
            },
            "marker": {
             "line": {
              "color": "#E5ECF6",
              "width": 0.5
             },
             "pattern": {
              "fillmode": "overlay",
              "size": 10,
              "solidity": 0.2
             }
            },
            "type": "bar"
           }
          ],
          "barpolar": [
           {
            "marker": {
             "line": {
              "color": "#E5ECF6",
              "width": 0.5
             },
             "pattern": {
              "fillmode": "overlay",
              "size": 10,
              "solidity": 0.2
             }
            },
            "type": "barpolar"
           }
          ],
          "carpet": [
           {
            "aaxis": {
             "endlinecolor": "#2a3f5f",
             "gridcolor": "white",
             "linecolor": "white",
             "minorgridcolor": "white",
             "startlinecolor": "#2a3f5f"
            },
            "baxis": {
             "endlinecolor": "#2a3f5f",
             "gridcolor": "white",
             "linecolor": "white",
             "minorgridcolor": "white",
             "startlinecolor": "#2a3f5f"
            },
            "type": "carpet"
           }
          ],
          "choropleth": [
           {
            "colorbar": {
             "outlinewidth": 0,
             "ticks": ""
            },
            "type": "choropleth"
           }
          ],
          "contour": [
           {
            "colorbar": {
             "outlinewidth": 0,
             "ticks": ""
            },
            "colorscale": [
             [
              0,
              "#0d0887"
             ],
             [
              0.1111111111111111,
              "#46039f"
             ],
             [
              0.2222222222222222,
              "#7201a8"
             ],
             [
              0.3333333333333333,
              "#9c179e"
             ],
             [
              0.4444444444444444,
              "#bd3786"
             ],
             [
              0.5555555555555556,
              "#d8576b"
             ],
             [
              0.6666666666666666,
              "#ed7953"
             ],
             [
              0.7777777777777778,
              "#fb9f3a"
             ],
             [
              0.8888888888888888,
              "#fdca26"
             ],
             [
              1,
              "#f0f921"
             ]
            ],
            "type": "contour"
           }
          ],
          "contourcarpet": [
           {
            "colorbar": {
             "outlinewidth": 0,
             "ticks": ""
            },
            "type": "contourcarpet"
           }
          ],
          "heatmap": [
           {
            "colorbar": {
             "outlinewidth": 0,
             "ticks": ""
            },
            "colorscale": [
             [
              0,
              "#0d0887"
             ],
             [
              0.1111111111111111,
              "#46039f"
             ],
             [
              0.2222222222222222,
              "#7201a8"
             ],
             [
              0.3333333333333333,
              "#9c179e"
             ],
             [
              0.4444444444444444,
              "#bd3786"
             ],
             [
              0.5555555555555556,
              "#d8576b"
             ],
             [
              0.6666666666666666,
              "#ed7953"
             ],
             [
              0.7777777777777778,
              "#fb9f3a"
             ],
             [
              0.8888888888888888,
              "#fdca26"
             ],
             [
              1,
              "#f0f921"
             ]
            ],
            "type": "heatmap"
           }
          ],
          "heatmapgl": [
           {
            "colorbar": {
             "outlinewidth": 0,
             "ticks": ""
            },
            "colorscale": [
             [
              0,
              "#0d0887"
             ],
             [
              0.1111111111111111,
              "#46039f"
             ],
             [
              0.2222222222222222,
              "#7201a8"
             ],
             [
              0.3333333333333333,
              "#9c179e"
             ],
             [
              0.4444444444444444,
              "#bd3786"
             ],
             [
              0.5555555555555556,
              "#d8576b"
             ],
             [
              0.6666666666666666,
              "#ed7953"
             ],
             [
              0.7777777777777778,
              "#fb9f3a"
             ],
             [
              0.8888888888888888,
              "#fdca26"
             ],
             [
              1,
              "#f0f921"
             ]
            ],
            "type": "heatmapgl"
           }
          ],
          "histogram": [
           {
            "marker": {
             "pattern": {
              "fillmode": "overlay",
              "size": 10,
              "solidity": 0.2
             }
            },
            "type": "histogram"
           }
          ],
          "histogram2d": [
           {
            "colorbar": {
             "outlinewidth": 0,
             "ticks": ""
            },
            "colorscale": [
             [
              0,
              "#0d0887"
             ],
             [
              0.1111111111111111,
              "#46039f"
             ],
             [
              0.2222222222222222,
              "#7201a8"
             ],
             [
              0.3333333333333333,
              "#9c179e"
             ],
             [
              0.4444444444444444,
              "#bd3786"
             ],
             [
              0.5555555555555556,
              "#d8576b"
             ],
             [
              0.6666666666666666,
              "#ed7953"
             ],
             [
              0.7777777777777778,
              "#fb9f3a"
             ],
             [
              0.8888888888888888,
              "#fdca26"
             ],
             [
              1,
              "#f0f921"
             ]
            ],
            "type": "histogram2d"
           }
          ],
          "histogram2dcontour": [
           {
            "colorbar": {
             "outlinewidth": 0,
             "ticks": ""
            },
            "colorscale": [
             [
              0,
              "#0d0887"
             ],
             [
              0.1111111111111111,
              "#46039f"
             ],
             [
              0.2222222222222222,
              "#7201a8"
             ],
             [
              0.3333333333333333,
              "#9c179e"
             ],
             [
              0.4444444444444444,
              "#bd3786"
             ],
             [
              0.5555555555555556,
              "#d8576b"
             ],
             [
              0.6666666666666666,
              "#ed7953"
             ],
             [
              0.7777777777777778,
              "#fb9f3a"
             ],
             [
              0.8888888888888888,
              "#fdca26"
             ],
             [
              1,
              "#f0f921"
             ]
            ],
            "type": "histogram2dcontour"
           }
          ],
          "mesh3d": [
           {
            "colorbar": {
             "outlinewidth": 0,
             "ticks": ""
            },
            "type": "mesh3d"
           }
          ],
          "parcoords": [
           {
            "line": {
             "colorbar": {
              "outlinewidth": 0,
              "ticks": ""
             }
            },
            "type": "parcoords"
           }
          ],
          "pie": [
           {
            "automargin": true,
            "type": "pie"
           }
          ],
          "scatter": [
           {
            "fillpattern": {
             "fillmode": "overlay",
             "size": 10,
             "solidity": 0.2
            },
            "type": "scatter"
           }
          ],
          "scatter3d": [
           {
            "line": {
             "colorbar": {
              "outlinewidth": 0,
              "ticks": ""
             }
            },
            "marker": {
             "colorbar": {
              "outlinewidth": 0,
              "ticks": ""
             }
            },
            "type": "scatter3d"
           }
          ],
          "scattercarpet": [
           {
            "marker": {
             "colorbar": {
              "outlinewidth": 0,
              "ticks": ""
             }
            },
            "type": "scattercarpet"
           }
          ],
          "scattergeo": [
           {
            "marker": {
             "colorbar": {
              "outlinewidth": 0,
              "ticks": ""
             }
            },
            "type": "scattergeo"
           }
          ],
          "scattergl": [
           {
            "marker": {
             "colorbar": {
              "outlinewidth": 0,
              "ticks": ""
             }
            },
            "type": "scattergl"
           }
          ],
          "scattermapbox": [
           {
            "marker": {
             "colorbar": {
              "outlinewidth": 0,
              "ticks": ""
             }
            },
            "type": "scattermapbox"
           }
          ],
          "scatterpolar": [
           {
            "marker": {
             "colorbar": {
              "outlinewidth": 0,
              "ticks": ""
             }
            },
            "type": "scatterpolar"
           }
          ],
          "scatterpolargl": [
           {
            "marker": {
             "colorbar": {
              "outlinewidth": 0,
              "ticks": ""
             }
            },
            "type": "scatterpolargl"
           }
          ],
          "scatterternary": [
           {
            "marker": {
             "colorbar": {
              "outlinewidth": 0,
              "ticks": ""
             }
            },
            "type": "scatterternary"
           }
          ],
          "surface": [
           {
            "colorbar": {
             "outlinewidth": 0,
             "ticks": ""
            },
            "colorscale": [
             [
              0,
              "#0d0887"
             ],
             [
              0.1111111111111111,
              "#46039f"
             ],
             [
              0.2222222222222222,
              "#7201a8"
             ],
             [
              0.3333333333333333,
              "#9c179e"
             ],
             [
              0.4444444444444444,
              "#bd3786"
             ],
             [
              0.5555555555555556,
              "#d8576b"
             ],
             [
              0.6666666666666666,
              "#ed7953"
             ],
             [
              0.7777777777777778,
              "#fb9f3a"
             ],
             [
              0.8888888888888888,
              "#fdca26"
             ],
             [
              1,
              "#f0f921"
             ]
            ],
            "type": "surface"
           }
          ],
          "table": [
           {
            "cells": {
             "fill": {
              "color": "#EBF0F8"
             },
             "line": {
              "color": "white"
             }
            },
            "header": {
             "fill": {
              "color": "#C8D4E3"
             },
             "line": {
              "color": "white"
             }
            },
            "type": "table"
           }
          ]
         },
         "layout": {
          "annotationdefaults": {
           "arrowcolor": "#2a3f5f",
           "arrowhead": 0,
           "arrowwidth": 1
          },
          "autotypenumbers": "strict",
          "coloraxis": {
           "colorbar": {
            "outlinewidth": 0,
            "ticks": ""
           }
          },
          "colorscale": {
           "diverging": [
            [
             0,
             "#8e0152"
            ],
            [
             0.1,
             "#c51b7d"
            ],
            [
             0.2,
             "#de77ae"
            ],
            [
             0.3,
             "#f1b6da"
            ],
            [
             0.4,
             "#fde0ef"
            ],
            [
             0.5,
             "#f7f7f7"
            ],
            [
             0.6,
             "#e6f5d0"
            ],
            [
             0.7,
             "#b8e186"
            ],
            [
             0.8,
             "#7fbc41"
            ],
            [
             0.9,
             "#4d9221"
            ],
            [
             1,
             "#276419"
            ]
           ],
           "sequential": [
            [
             0,
             "#0d0887"
            ],
            [
             0.1111111111111111,
             "#46039f"
            ],
            [
             0.2222222222222222,
             "#7201a8"
            ],
            [
             0.3333333333333333,
             "#9c179e"
            ],
            [
             0.4444444444444444,
             "#bd3786"
            ],
            [
             0.5555555555555556,
             "#d8576b"
            ],
            [
             0.6666666666666666,
             "#ed7953"
            ],
            [
             0.7777777777777778,
             "#fb9f3a"
            ],
            [
             0.8888888888888888,
             "#fdca26"
            ],
            [
             1,
             "#f0f921"
            ]
           ],
           "sequentialminus": [
            [
             0,
             "#0d0887"
            ],
            [
             0.1111111111111111,
             "#46039f"
            ],
            [
             0.2222222222222222,
             "#7201a8"
            ],
            [
             0.3333333333333333,
             "#9c179e"
            ],
            [
             0.4444444444444444,
             "#bd3786"
            ],
            [
             0.5555555555555556,
             "#d8576b"
            ],
            [
             0.6666666666666666,
             "#ed7953"
            ],
            [
             0.7777777777777778,
             "#fb9f3a"
            ],
            [
             0.8888888888888888,
             "#fdca26"
            ],
            [
             1,
             "#f0f921"
            ]
           ]
          },
          "colorway": [
           "#636efa",
           "#EF553B",
           "#00cc96",
           "#ab63fa",
           "#FFA15A",
           "#19d3f3",
           "#FF6692",
           "#B6E880",
           "#FF97FF",
           "#FECB52"
          ],
          "font": {
           "color": "#2a3f5f"
          },
          "geo": {
           "bgcolor": "white",
           "lakecolor": "white",
           "landcolor": "#E5ECF6",
           "showlakes": true,
           "showland": true,
           "subunitcolor": "white"
          },
          "hoverlabel": {
           "align": "left"
          },
          "hovermode": "closest",
          "mapbox": {
           "style": "light"
          },
          "paper_bgcolor": "white",
          "plot_bgcolor": "#E5ECF6",
          "polar": {
           "angularaxis": {
            "gridcolor": "white",
            "linecolor": "white",
            "ticks": ""
           },
           "bgcolor": "#E5ECF6",
           "radialaxis": {
            "gridcolor": "white",
            "linecolor": "white",
            "ticks": ""
           }
          },
          "scene": {
           "xaxis": {
            "backgroundcolor": "#E5ECF6",
            "gridcolor": "white",
            "gridwidth": 2,
            "linecolor": "white",
            "showbackground": true,
            "ticks": "",
            "zerolinecolor": "white"
           },
           "yaxis": {
            "backgroundcolor": "#E5ECF6",
            "gridcolor": "white",
            "gridwidth": 2,
            "linecolor": "white",
            "showbackground": true,
            "ticks": "",
            "zerolinecolor": "white"
           },
           "zaxis": {
            "backgroundcolor": "#E5ECF6",
            "gridcolor": "white",
            "gridwidth": 2,
            "linecolor": "white",
            "showbackground": true,
            "ticks": "",
            "zerolinecolor": "white"
           }
          },
          "shapedefaults": {
           "line": {
            "color": "#2a3f5f"
           }
          },
          "ternary": {
           "aaxis": {
            "gridcolor": "white",
            "linecolor": "white",
            "ticks": ""
           },
           "baxis": {
            "gridcolor": "white",
            "linecolor": "white",
            "ticks": ""
           },
           "bgcolor": "#E5ECF6",
           "caxis": {
            "gridcolor": "white",
            "linecolor": "white",
            "ticks": ""
           }
          },
          "title": {
           "x": 0.05
          },
          "xaxis": {
           "automargin": true,
           "gridcolor": "white",
           "linecolor": "white",
           "ticks": "",
           "title": {
            "standoff": 15
           },
           "zerolinecolor": "white",
           "zerolinewidth": 2
          },
          "yaxis": {
           "automargin": true,
           "gridcolor": "white",
           "linecolor": "white",
           "ticks": "",
           "title": {
            "standoff": 15
           },
           "zerolinecolor": "white",
           "zerolinewidth": 2
          }
         }
        },
        "title": {
         "font": {
          "color": "Black",
          "size": 22
         },
         "text": "<b>Similarity Matrix</b>",
         "x": 0.55,
         "xanchor": "center",
         "y": 0.95,
         "yanchor": "top"
        },
        "width": 800,
        "xaxis": {
         "anchor": "y",
         "constrain": "domain",
         "domain": [
          0,
          1
         ],
         "scaleanchor": "y"
        },
        "yaxis": {
         "anchor": "x",
         "autorange": "reversed",
         "constrain": "domain",
         "domain": [
          0,
          1
         ]
        }
       }
      }
     },
     "metadata": {},
     "output_type": "display_data"
    }
   ],
   "source": [
    "topic_model.visualize_heatmap()"
   ]
  },
  {
   "cell_type": "code",
   "execution_count": 92,
   "metadata": {},
   "outputs": [
    {
     "data": {
      "application/vnd.plotly.v1+json": {
       "config": {
        "plotlyServerURL": "https://plot.ly"
       },
       "data": [
        {
         "hoverinfo": "text",
         "marker": {
          "color": "rgb(61,153,112)"
         },
         "mode": "lines",
         "type": "scatter",
         "x": [
          0,
          0.7838325868815911,
          0.7838325868815911,
          0
         ],
         "xaxis": "x",
         "y": [
          -25,
          -25,
          -35,
          -35
         ],
         "yaxis": "y"
        },
        {
         "hoverinfo": "text",
         "marker": {
          "color": "rgb(61,153,112)"
         },
         "mode": "lines",
         "type": "scatter",
         "x": [
          0.7838325868815911,
          0.8334850488134967,
          0.8334850488134967,
          0
         ],
         "xaxis": "x",
         "y": [
          -30,
          -30,
          -45,
          -45
         ],
         "yaxis": "y"
        },
        {
         "hoverinfo": "text",
         "marker": {
          "color": "rgb(61,153,112)"
         },
         "mode": "lines",
         "type": "scatter",
         "x": [
          0,
          0.8642653215196032,
          0.8642653215196032,
          0.8334850488134967
         ],
         "xaxis": "x",
         "y": [
          -15,
          -15,
          -37.5,
          -37.5
         ],
         "yaxis": "y"
        },
        {
         "hoverinfo": "text",
         "marker": {
          "color": "rgb(61,153,112)"
         },
         "mode": "lines",
         "type": "scatter",
         "x": [
          0,
          0.9606510504393991,
          0.9606510504393991,
          0.8642653215196032
         ],
         "xaxis": "x",
         "y": [
          -5,
          -5,
          -26.25,
          -26.25
         ],
         "yaxis": "y"
        },
        {
         "hoverinfo": "text",
         "marker": {
          "color": "rgb(255,65,54)"
         },
         "mode": "lines",
         "type": "scatter",
         "x": [
          0,
          0.8806149050550982,
          0.8806149050550982,
          0
         ],
         "xaxis": "x",
         "y": [
          -55,
          -55,
          -65,
          -65
         ],
         "yaxis": "y"
        },
        {
         "hoverinfo": "text",
         "marker": {
          "color": "rgb(35,205,205)"
         },
         "mode": "lines",
         "type": "scatter",
         "x": [
          0,
          0.9045178585657605,
          0.9045178585657605,
          0
         ],
         "xaxis": "x",
         "y": [
          -75,
          -75,
          -85,
          -85
         ],
         "yaxis": "y"
        },
        {
         "hoverinfo": "text",
         "marker": {
          "color": "rgb(35,205,205)"
         },
         "mode": "lines",
         "type": "scatter",
         "x": [
          0,
          0.8593878210515105,
          0.8593878210515105,
          0
         ],
         "xaxis": "x",
         "y": [
          -95,
          -95,
          -105,
          -105
         ],
         "yaxis": "y"
        },
        {
         "hoverinfo": "text",
         "marker": {
          "color": "rgb(35,205,205)"
         },
         "mode": "lines",
         "type": "scatter",
         "x": [
          0.9045178585657605,
          0.955033255635647,
          0.955033255635647,
          0.8593878210515105
         ],
         "xaxis": "x",
         "y": [
          -80,
          -80,
          -100,
          -100
         ],
         "yaxis": "y"
        },
        {
         "hoverinfo": "text",
         "marker": {
          "color": "rgb(35,205,205)"
         },
         "mode": "lines",
         "type": "scatter",
         "x": [
          0,
          0.8970695036462712,
          0.8970695036462712,
          0
         ],
         "xaxis": "x",
         "y": [
          -125,
          -125,
          -135,
          -135
         ],
         "yaxis": "y"
        },
        {
         "hoverinfo": "text",
         "marker": {
          "color": "rgb(35,205,205)"
         },
         "mode": "lines",
         "type": "scatter",
         "x": [
          0,
          0.914148468622545,
          0.914148468622545,
          0.8970695036462712
         ],
         "xaxis": "x",
         "y": [
          -115,
          -115,
          -130,
          -130
         ],
         "yaxis": "y"
        },
        {
         "hoverinfo": "text",
         "marker": {
          "color": "rgb(35,205,205)"
         },
         "mode": "lines",
         "type": "scatter",
         "x": [
          0.955033255635647,
          0.975946051832138,
          0.975946051832138,
          0.914148468622545
         ],
         "xaxis": "x",
         "y": [
          -90,
          -90,
          -122.5,
          -122.5
         ],
         "yaxis": "y"
        },
        {
         "hoverinfo": "text",
         "marker": {
          "color": "rgb(35,205,205)"
         },
         "mode": "lines",
         "type": "scatter",
         "x": [
          0,
          0.8527772253823365,
          0.8527772253823365,
          0
         ],
         "xaxis": "x",
         "y": [
          -145,
          -145,
          -155,
          -155
         ],
         "yaxis": "y"
        },
        {
         "hoverinfo": "text",
         "marker": {
          "color": "rgb(35,205,205)"
         },
         "mode": "lines",
         "type": "scatter",
         "x": [
          0.8527772253823365,
          0.9425053761405258,
          0.9425053761405258,
          0
         ],
         "xaxis": "x",
         "y": [
          -150,
          -150,
          -165,
          -165
         ],
         "yaxis": "y"
        },
        {
         "hoverinfo": "text",
         "marker": {
          "color": "rgb(35,205,205)"
         },
         "mode": "lines",
         "type": "scatter",
         "x": [
          0.975946051832138,
          0.9941180465402523,
          0.9941180465402523,
          0.9425053761405258
         ],
         "xaxis": "x",
         "y": [
          -106.25,
          -106.25,
          -157.5,
          -157.5
         ],
         "yaxis": "y"
        },
        {
         "hoverinfo": "text",
         "marker": {
          "color": "rgb(0,116,217)"
         },
         "mode": "lines",
         "type": "scatter",
         "x": [
          0.8806149050550982,
          1.0429967816048262,
          1.0429967816048262,
          0.9941180465402523
         ],
         "xaxis": "x",
         "y": [
          -60,
          -60,
          -131.875,
          -131.875
         ],
         "yaxis": "y"
        },
        {
         "hoverinfo": "text",
         "marker": {
          "color": "rgb(133,20,75)"
         },
         "mode": "lines",
         "type": "scatter",
         "x": [
          0,
          0.8627708229466748,
          0.8627708229466748,
          0
         ],
         "xaxis": "x",
         "y": [
          -175,
          -175,
          -185,
          -185
         ],
         "yaxis": "y"
        },
        {
         "hoverinfo": "text",
         "marker": {
          "color": "rgb(0,116,217)"
         },
         "mode": "lines",
         "type": "scatter",
         "x": [
          1.0429967816048262,
          1.068096341068931,
          1.068096341068931,
          0.8627708229466748
         ],
         "xaxis": "x",
         "y": [
          -95.9375,
          -95.9375,
          -180,
          -180
         ],
         "yaxis": "y"
        },
        {
         "hoverinfo": "text",
         "marker": {
          "color": "rgb(255,220,0)"
         },
         "mode": "lines",
         "type": "scatter",
         "x": [
          0,
          0.816972444298117,
          0.816972444298117,
          0
         ],
         "xaxis": "x",
         "y": [
          -215,
          -215,
          -225,
          -225
         ],
         "yaxis": "y"
        },
        {
         "hoverinfo": "text",
         "marker": {
          "color": "rgb(255,220,0)"
         },
         "mode": "lines",
         "type": "scatter",
         "x": [
          0,
          0.8559907220251252,
          0.8559907220251252,
          0.816972444298117
         ],
         "xaxis": "x",
         "y": [
          -205,
          -205,
          -220,
          -220
         ],
         "yaxis": "y"
        },
        {
         "hoverinfo": "text",
         "marker": {
          "color": "rgb(255,220,0)"
         },
         "mode": "lines",
         "type": "scatter",
         "x": [
          0.8559907220251252,
          0.8925475793080699,
          0.8925475793080699,
          0
         ],
         "xaxis": "x",
         "y": [
          -212.5,
          -212.5,
          -235,
          -235
         ],
         "yaxis": "y"
        },
        {
         "hoverinfo": "text",
         "marker": {
          "color": "rgb(255,220,0)"
         },
         "mode": "lines",
         "type": "scatter",
         "x": [
          0,
          0.8983587769772712,
          0.8983587769772712,
          0.8925475793080699
         ],
         "xaxis": "x",
         "y": [
          -195,
          -195,
          -223.75,
          -223.75
         ],
         "yaxis": "y"
        },
        {
         "hoverinfo": "text",
         "marker": {
          "color": "rgb(255,220,0)"
         },
         "mode": "lines",
         "type": "scatter",
         "x": [
          0.8983587769772712,
          0.9257538113291798,
          0.9257538113291798,
          0
         ],
         "xaxis": "x",
         "y": [
          -209.375,
          -209.375,
          -245,
          -245
         ],
         "yaxis": "y"
        },
        {
         "hoverinfo": "text",
         "marker": {
          "color": "rgb(0,116,217)"
         },
         "mode": "lines",
         "type": "scatter",
         "x": [
          1.068096341068931,
          1.090136936896885,
          1.090136936896885,
          0.9257538113291798
         ],
         "xaxis": "x",
         "y": [
          -137.96875,
          -137.96875,
          -227.1875,
          -227.1875
         ],
         "yaxis": "y"
        },
        {
         "hoverinfo": "text",
         "marker": {
          "color": "rgb(40,35,35)"
         },
         "mode": "lines",
         "type": "scatter",
         "x": [
          0,
          0.8839387549695331,
          0.8839387549695331,
          0
         ],
         "xaxis": "x",
         "y": [
          -265,
          -265,
          -275,
          -275
         ],
         "yaxis": "y"
        },
        {
         "hoverinfo": "text",
         "marker": {
          "color": "rgb(40,35,35)"
         },
         "mode": "lines",
         "type": "scatter",
         "x": [
          0,
          0.9276346670469665,
          0.9276346670469665,
          0.8839387549695331
         ],
         "xaxis": "x",
         "y": [
          -255,
          -255,
          -270,
          -270
         ],
         "yaxis": "y"
        },
        {
         "hoverinfo": "text",
         "marker": {
          "color": "rgb(40,35,35)"
         },
         "mode": "lines",
         "type": "scatter",
         "x": [
          0,
          0.8438358724919592,
          0.8438358724919592,
          0
         ],
         "xaxis": "x",
         "y": [
          -285,
          -285,
          -295,
          -295
         ],
         "yaxis": "y"
        },
        {
         "hoverinfo": "text",
         "marker": {
          "color": "rgb(40,35,35)"
         },
         "mode": "lines",
         "type": "scatter",
         "x": [
          0.8438358724919592,
          0.9121456256697775,
          0.9121456256697775,
          0
         ],
         "xaxis": "x",
         "y": [
          -290,
          -290,
          -305,
          -305
         ],
         "yaxis": "y"
        },
        {
         "hoverinfo": "text",
         "marker": {
          "color": "rgb(40,35,35)"
         },
         "mode": "lines",
         "type": "scatter",
         "x": [
          0.9276346670469665,
          0.9500645619018947,
          0.9500645619018947,
          0.9121456256697775
         ],
         "xaxis": "x",
         "y": [
          -262.5,
          -262.5,
          -297.5,
          -297.5
         ],
         "yaxis": "y"
        },
        {
         "hoverinfo": "text",
         "marker": {
          "color": "rgb(0,116,217)"
         },
         "mode": "lines",
         "type": "scatter",
         "x": [
          1.090136936896885,
          1.1197453960283295,
          1.1197453960283295,
          0.9500645619018947
         ],
         "xaxis": "x",
         "y": [
          -182.578125,
          -182.578125,
          -280,
          -280
         ],
         "yaxis": "y"
        },
        {
         "hoverinfo": "text",
         "marker": {
          "color": "rgb(61,153,112)"
         },
         "mode": "lines",
         "type": "scatter",
         "x": [
          0,
          0.7309313048885309,
          0.7309313048885309,
          0
         ],
         "xaxis": "x",
         "y": [
          -315,
          -315,
          -325,
          -325
         ],
         "yaxis": "y"
        },
        {
         "hoverinfo": "text",
         "marker": {
          "color": "rgb(61,153,112)"
         },
         "mode": "lines",
         "type": "scatter",
         "x": [
          0.7309313048885309,
          0.8664709413049351,
          0.8664709413049351,
          0
         ],
         "xaxis": "x",
         "y": [
          -320,
          -320,
          -335,
          -335
         ],
         "yaxis": "y"
        },
        {
         "hoverinfo": "text",
         "marker": {
          "color": "rgb(0,116,217)"
         },
         "mode": "lines",
         "type": "scatter",
         "x": [
          1.1197453960283295,
          1.1855586287993118,
          1.1855586287993118,
          0.8664709413049351
         ],
         "xaxis": "x",
         "y": [
          -231.2890625,
          -231.2890625,
          -327.5,
          -327.5
         ],
         "yaxis": "y"
        },
        {
         "hoverinfo": "text",
         "marker": {
          "color": "rgb(0,116,217)"
         },
         "mode": "lines",
         "type": "scatter",
         "x": [
          0.9606510504393991,
          1.2505756240995205,
          1.2505756240995205,
          1.1855586287993118
         ],
         "xaxis": "x",
         "y": [
          -15.625,
          -15.625,
          -279.39453125,
          -279.39453125
         ],
         "yaxis": "y"
        }
       ],
       "layout": {
        "autosize": false,
        "height": 710,
        "hoverlabel": {
         "bgcolor": "white",
         "font": {
          "family": "Rockwell",
          "size": 16
         }
        },
        "hovermode": "closest",
        "plot_bgcolor": "#ECEFF1",
        "showlegend": false,
        "template": {
         "data": {
          "bar": [
           {
            "error_x": {
             "color": "#2a3f5f"
            },
            "error_y": {
             "color": "#2a3f5f"
            },
            "marker": {
             "line": {
              "color": "white",
              "width": 0.5
             },
             "pattern": {
              "fillmode": "overlay",
              "size": 10,
              "solidity": 0.2
             }
            },
            "type": "bar"
           }
          ],
          "barpolar": [
           {
            "marker": {
             "line": {
              "color": "white",
              "width": 0.5
             },
             "pattern": {
              "fillmode": "overlay",
              "size": 10,
              "solidity": 0.2
             }
            },
            "type": "barpolar"
           }
          ],
          "carpet": [
           {
            "aaxis": {
             "endlinecolor": "#2a3f5f",
             "gridcolor": "#C8D4E3",
             "linecolor": "#C8D4E3",
             "minorgridcolor": "#C8D4E3",
             "startlinecolor": "#2a3f5f"
            },
            "baxis": {
             "endlinecolor": "#2a3f5f",
             "gridcolor": "#C8D4E3",
             "linecolor": "#C8D4E3",
             "minorgridcolor": "#C8D4E3",
             "startlinecolor": "#2a3f5f"
            },
            "type": "carpet"
           }
          ],
          "choropleth": [
           {
            "colorbar": {
             "outlinewidth": 0,
             "ticks": ""
            },
            "type": "choropleth"
           }
          ],
          "contour": [
           {
            "colorbar": {
             "outlinewidth": 0,
             "ticks": ""
            },
            "colorscale": [
             [
              0,
              "#0d0887"
             ],
             [
              0.1111111111111111,
              "#46039f"
             ],
             [
              0.2222222222222222,
              "#7201a8"
             ],
             [
              0.3333333333333333,
              "#9c179e"
             ],
             [
              0.4444444444444444,
              "#bd3786"
             ],
             [
              0.5555555555555556,
              "#d8576b"
             ],
             [
              0.6666666666666666,
              "#ed7953"
             ],
             [
              0.7777777777777778,
              "#fb9f3a"
             ],
             [
              0.8888888888888888,
              "#fdca26"
             ],
             [
              1,
              "#f0f921"
             ]
            ],
            "type": "contour"
           }
          ],
          "contourcarpet": [
           {
            "colorbar": {
             "outlinewidth": 0,
             "ticks": ""
            },
            "type": "contourcarpet"
           }
          ],
          "heatmap": [
           {
            "colorbar": {
             "outlinewidth": 0,
             "ticks": ""
            },
            "colorscale": [
             [
              0,
              "#0d0887"
             ],
             [
              0.1111111111111111,
              "#46039f"
             ],
             [
              0.2222222222222222,
              "#7201a8"
             ],
             [
              0.3333333333333333,
              "#9c179e"
             ],
             [
              0.4444444444444444,
              "#bd3786"
             ],
             [
              0.5555555555555556,
              "#d8576b"
             ],
             [
              0.6666666666666666,
              "#ed7953"
             ],
             [
              0.7777777777777778,
              "#fb9f3a"
             ],
             [
              0.8888888888888888,
              "#fdca26"
             ],
             [
              1,
              "#f0f921"
             ]
            ],
            "type": "heatmap"
           }
          ],
          "heatmapgl": [
           {
            "colorbar": {
             "outlinewidth": 0,
             "ticks": ""
            },
            "colorscale": [
             [
              0,
              "#0d0887"
             ],
             [
              0.1111111111111111,
              "#46039f"
             ],
             [
              0.2222222222222222,
              "#7201a8"
             ],
             [
              0.3333333333333333,
              "#9c179e"
             ],
             [
              0.4444444444444444,
              "#bd3786"
             ],
             [
              0.5555555555555556,
              "#d8576b"
             ],
             [
              0.6666666666666666,
              "#ed7953"
             ],
             [
              0.7777777777777778,
              "#fb9f3a"
             ],
             [
              0.8888888888888888,
              "#fdca26"
             ],
             [
              1,
              "#f0f921"
             ]
            ],
            "type": "heatmapgl"
           }
          ],
          "histogram": [
           {
            "marker": {
             "pattern": {
              "fillmode": "overlay",
              "size": 10,
              "solidity": 0.2
             }
            },
            "type": "histogram"
           }
          ],
          "histogram2d": [
           {
            "colorbar": {
             "outlinewidth": 0,
             "ticks": ""
            },
            "colorscale": [
             [
              0,
              "#0d0887"
             ],
             [
              0.1111111111111111,
              "#46039f"
             ],
             [
              0.2222222222222222,
              "#7201a8"
             ],
             [
              0.3333333333333333,
              "#9c179e"
             ],
             [
              0.4444444444444444,
              "#bd3786"
             ],
             [
              0.5555555555555556,
              "#d8576b"
             ],
             [
              0.6666666666666666,
              "#ed7953"
             ],
             [
              0.7777777777777778,
              "#fb9f3a"
             ],
             [
              0.8888888888888888,
              "#fdca26"
             ],
             [
              1,
              "#f0f921"
             ]
            ],
            "type": "histogram2d"
           }
          ],
          "histogram2dcontour": [
           {
            "colorbar": {
             "outlinewidth": 0,
             "ticks": ""
            },
            "colorscale": [
             [
              0,
              "#0d0887"
             ],
             [
              0.1111111111111111,
              "#46039f"
             ],
             [
              0.2222222222222222,
              "#7201a8"
             ],
             [
              0.3333333333333333,
              "#9c179e"
             ],
             [
              0.4444444444444444,
              "#bd3786"
             ],
             [
              0.5555555555555556,
              "#d8576b"
             ],
             [
              0.6666666666666666,
              "#ed7953"
             ],
             [
              0.7777777777777778,
              "#fb9f3a"
             ],
             [
              0.8888888888888888,
              "#fdca26"
             ],
             [
              1,
              "#f0f921"
             ]
            ],
            "type": "histogram2dcontour"
           }
          ],
          "mesh3d": [
           {
            "colorbar": {
             "outlinewidth": 0,
             "ticks": ""
            },
            "type": "mesh3d"
           }
          ],
          "parcoords": [
           {
            "line": {
             "colorbar": {
              "outlinewidth": 0,
              "ticks": ""
             }
            },
            "type": "parcoords"
           }
          ],
          "pie": [
           {
            "automargin": true,
            "type": "pie"
           }
          ],
          "scatter": [
           {
            "fillpattern": {
             "fillmode": "overlay",
             "size": 10,
             "solidity": 0.2
            },
            "type": "scatter"
           }
          ],
          "scatter3d": [
           {
            "line": {
             "colorbar": {
              "outlinewidth": 0,
              "ticks": ""
             }
            },
            "marker": {
             "colorbar": {
              "outlinewidth": 0,
              "ticks": ""
             }
            },
            "type": "scatter3d"
           }
          ],
          "scattercarpet": [
           {
            "marker": {
             "colorbar": {
              "outlinewidth": 0,
              "ticks": ""
             }
            },
            "type": "scattercarpet"
           }
          ],
          "scattergeo": [
           {
            "marker": {
             "colorbar": {
              "outlinewidth": 0,
              "ticks": ""
             }
            },
            "type": "scattergeo"
           }
          ],
          "scattergl": [
           {
            "marker": {
             "colorbar": {
              "outlinewidth": 0,
              "ticks": ""
             }
            },
            "type": "scattergl"
           }
          ],
          "scattermapbox": [
           {
            "marker": {
             "colorbar": {
              "outlinewidth": 0,
              "ticks": ""
             }
            },
            "type": "scattermapbox"
           }
          ],
          "scatterpolar": [
           {
            "marker": {
             "colorbar": {
              "outlinewidth": 0,
              "ticks": ""
             }
            },
            "type": "scatterpolar"
           }
          ],
          "scatterpolargl": [
           {
            "marker": {
             "colorbar": {
              "outlinewidth": 0,
              "ticks": ""
             }
            },
            "type": "scatterpolargl"
           }
          ],
          "scatterternary": [
           {
            "marker": {
             "colorbar": {
              "outlinewidth": 0,
              "ticks": ""
             }
            },
            "type": "scatterternary"
           }
          ],
          "surface": [
           {
            "colorbar": {
             "outlinewidth": 0,
             "ticks": ""
            },
            "colorscale": [
             [
              0,
              "#0d0887"
             ],
             [
              0.1111111111111111,
              "#46039f"
             ],
             [
              0.2222222222222222,
              "#7201a8"
             ],
             [
              0.3333333333333333,
              "#9c179e"
             ],
             [
              0.4444444444444444,
              "#bd3786"
             ],
             [
              0.5555555555555556,
              "#d8576b"
             ],
             [
              0.6666666666666666,
              "#ed7953"
             ],
             [
              0.7777777777777778,
              "#fb9f3a"
             ],
             [
              0.8888888888888888,
              "#fdca26"
             ],
             [
              1,
              "#f0f921"
             ]
            ],
            "type": "surface"
           }
          ],
          "table": [
           {
            "cells": {
             "fill": {
              "color": "#EBF0F8"
             },
             "line": {
              "color": "white"
             }
            },
            "header": {
             "fill": {
              "color": "#C8D4E3"
             },
             "line": {
              "color": "white"
             }
            },
            "type": "table"
           }
          ]
         },
         "layout": {
          "annotationdefaults": {
           "arrowcolor": "#2a3f5f",
           "arrowhead": 0,
           "arrowwidth": 1
          },
          "autotypenumbers": "strict",
          "coloraxis": {
           "colorbar": {
            "outlinewidth": 0,
            "ticks": ""
           }
          },
          "colorscale": {
           "diverging": [
            [
             0,
             "#8e0152"
            ],
            [
             0.1,
             "#c51b7d"
            ],
            [
             0.2,
             "#de77ae"
            ],
            [
             0.3,
             "#f1b6da"
            ],
            [
             0.4,
             "#fde0ef"
            ],
            [
             0.5,
             "#f7f7f7"
            ],
            [
             0.6,
             "#e6f5d0"
            ],
            [
             0.7,
             "#b8e186"
            ],
            [
             0.8,
             "#7fbc41"
            ],
            [
             0.9,
             "#4d9221"
            ],
            [
             1,
             "#276419"
            ]
           ],
           "sequential": [
            [
             0,
             "#0d0887"
            ],
            [
             0.1111111111111111,
             "#46039f"
            ],
            [
             0.2222222222222222,
             "#7201a8"
            ],
            [
             0.3333333333333333,
             "#9c179e"
            ],
            [
             0.4444444444444444,
             "#bd3786"
            ],
            [
             0.5555555555555556,
             "#d8576b"
            ],
            [
             0.6666666666666666,
             "#ed7953"
            ],
            [
             0.7777777777777778,
             "#fb9f3a"
            ],
            [
             0.8888888888888888,
             "#fdca26"
            ],
            [
             1,
             "#f0f921"
            ]
           ],
           "sequentialminus": [
            [
             0,
             "#0d0887"
            ],
            [
             0.1111111111111111,
             "#46039f"
            ],
            [
             0.2222222222222222,
             "#7201a8"
            ],
            [
             0.3333333333333333,
             "#9c179e"
            ],
            [
             0.4444444444444444,
             "#bd3786"
            ],
            [
             0.5555555555555556,
             "#d8576b"
            ],
            [
             0.6666666666666666,
             "#ed7953"
            ],
            [
             0.7777777777777778,
             "#fb9f3a"
            ],
            [
             0.8888888888888888,
             "#fdca26"
            ],
            [
             1,
             "#f0f921"
            ]
           ]
          },
          "colorway": [
           "#636efa",
           "#EF553B",
           "#00cc96",
           "#ab63fa",
           "#FFA15A",
           "#19d3f3",
           "#FF6692",
           "#B6E880",
           "#FF97FF",
           "#FECB52"
          ],
          "font": {
           "color": "#2a3f5f"
          },
          "geo": {
           "bgcolor": "white",
           "lakecolor": "white",
           "landcolor": "white",
           "showlakes": true,
           "showland": true,
           "subunitcolor": "#C8D4E3"
          },
          "hoverlabel": {
           "align": "left"
          },
          "hovermode": "closest",
          "mapbox": {
           "style": "light"
          },
          "paper_bgcolor": "white",
          "plot_bgcolor": "white",
          "polar": {
           "angularaxis": {
            "gridcolor": "#EBF0F8",
            "linecolor": "#EBF0F8",
            "ticks": ""
           },
           "bgcolor": "white",
           "radialaxis": {
            "gridcolor": "#EBF0F8",
            "linecolor": "#EBF0F8",
            "ticks": ""
           }
          },
          "scene": {
           "xaxis": {
            "backgroundcolor": "white",
            "gridcolor": "#DFE8F3",
            "gridwidth": 2,
            "linecolor": "#EBF0F8",
            "showbackground": true,
            "ticks": "",
            "zerolinecolor": "#EBF0F8"
           },
           "yaxis": {
            "backgroundcolor": "white",
            "gridcolor": "#DFE8F3",
            "gridwidth": 2,
            "linecolor": "#EBF0F8",
            "showbackground": true,
            "ticks": "",
            "zerolinecolor": "#EBF0F8"
           },
           "zaxis": {
            "backgroundcolor": "white",
            "gridcolor": "#DFE8F3",
            "gridwidth": 2,
            "linecolor": "#EBF0F8",
            "showbackground": true,
            "ticks": "",
            "zerolinecolor": "#EBF0F8"
           }
          },
          "shapedefaults": {
           "line": {
            "color": "#2a3f5f"
           }
          },
          "ternary": {
           "aaxis": {
            "gridcolor": "#DFE8F3",
            "linecolor": "#A2B1C6",
            "ticks": ""
           },
           "baxis": {
            "gridcolor": "#DFE8F3",
            "linecolor": "#A2B1C6",
            "ticks": ""
           },
           "bgcolor": "white",
           "caxis": {
            "gridcolor": "#DFE8F3",
            "linecolor": "#A2B1C6",
            "ticks": ""
           }
          },
          "title": {
           "x": 0.05
          },
          "xaxis": {
           "automargin": true,
           "gridcolor": "#EBF0F8",
           "linecolor": "#EBF0F8",
           "ticks": "",
           "title": {
            "standoff": 15
           },
           "zerolinecolor": "#EBF0F8",
           "zerolinewidth": 2
          },
          "yaxis": {
           "automargin": true,
           "gridcolor": "#EBF0F8",
           "linecolor": "#EBF0F8",
           "ticks": "",
           "title": {
            "standoff": 15
           },
           "zerolinecolor": "#EBF0F8",
           "zerolinewidth": 2
          }
         }
        },
        "title": {
         "font": {
          "color": "Black",
          "size": 22
         },
         "text": "<b>Hierarchical Clustering</b>",
         "x": 0.5,
         "xanchor": "center",
         "yanchor": "top"
        },
        "width": 1000,
        "xaxis": {
         "mirror": "allticks",
         "rangemode": "tozero",
         "showgrid": false,
         "showline": true,
         "showticklabels": true,
         "ticks": "outside",
         "type": "linear",
         "zeroline": false
        },
        "yaxis": {
         "mirror": "allticks",
         "range": [
          -340,
          0
         ],
         "rangemode": "tozero",
         "showgrid": false,
         "showline": true,
         "showticklabels": true,
         "tickmode": "array",
         "ticks": "outside",
         "ticktext": [
          "33_basilar atelectasis pneu...",
          "20_chest ct similar_aspect ...",
          "2_lobe pneumonia followup_p...",
          "26_lung disease atelectasis...",
          "30_findings lung volumes_at...",
          "31_endotracheal enteric tub...",
          "16_endotracheal tube appear...",
          "25_chest ct removed_lung no...",
          "6_consolidation left lung_g...",
          "1_effusions pneumothorax_op...",
          "18_lobe pneumonia followup_...",
          "10_lateral chest radiograph...",
          "8_right atrium pneumothorax...",
          "21_sided pleural effusion_l...",
          "12_bilateral pleural effusi...",
          "9_pleural effusions pulmona...",
          "29_consolidation concerning...",
          "11_effusion pneumothorax wi...",
          "32_pneumothorax moderate se...",
          "15_effusion pneumothorax ca...",
          "13_opacity consistent pneum...",
          "4_pneumonia technique chest...",
          "0_lobe pneumonia notificati...",
          "27_lower lobe pneumonia_unr...",
          "17_posterior lung_effusion ...",
          "22_pulmonary edema atypical...",
          "24_underlying interstitial ...",
          "7_lingular pneumonia_compat...",
          "5_lung volumes bibasilar_re...",
          "19_effusion pneumothorax se...",
          "23_left pleural effusion_ch...",
          "14_assess pneumonia finding...",
          "3_pneumonia findings pa_lun...",
          "28_pneumonia heart mediasti..."
         ],
         "tickvals": [
          -5,
          -15,
          -25,
          -35,
          -45,
          -55,
          -65,
          -75,
          -85,
          -95,
          -105,
          -115,
          -125,
          -135,
          -145,
          -155,
          -165,
          -175,
          -185,
          -195,
          -205,
          -215,
          -225,
          -235,
          -245,
          -255,
          -265,
          -275,
          -285,
          -295,
          -305,
          -315,
          -325,
          -335
         ],
         "type": "linear",
         "zeroline": false
        }
       }
      }
     },
     "metadata": {},
     "output_type": "display_data"
    }
   ],
   "source": [
    "topic_model.visualize_hierarchy()"
   ]
  },
  {
   "cell_type": "code",
   "execution_count": 104,
   "metadata": {},
   "outputs": [
    {
     "data": {
      "image/png": "[encoded data removed]",
      "text/plain": [
       "<Figure size 640x480 with 1 Axes>"
      ]
     },
     "metadata": {},
     "output_type": "display_data"
    }
   ],
   "source": [
    "from wordcloud import WordCloud\n",
    "import matplotlib.pyplot as plt\n",
    "\n",
    "def create_wordcloud(model, topic):\n",
    "    text = {word: value for word, value in model.get_topic(topic)}\n",
    "    wc = WordCloud(background_color=\"white\", max_words=1000)\n",
    "    wc.generate_from_frequencies(text)\n",
    "    plt.imshow(wc, interpolation=\"bilinear\")\n",
    "    plt.axis(\"off\")\n",
    "    plt.show()\n",
    "\n",
    "# Show wordcloud\n",
    "create_wordcloud(topic_model, topic=7)"
   ]
  },
  {
   "cell_type": "code",
   "execution_count": 109,
   "metadata": {},
   "outputs": [
    {
     "data": {
      "image/png": "[encoded data removed]",
      "text/plain": [
       "<Figure size 640x480 with 1 Axes>"
      ]
     },
     "metadata": {},
     "output_type": "display_data"
    }
   ],
   "source": [
    "from wordcloud import WordCloud\n",
    "import matplotlib.pyplot as plt\n",
    "\n",
    "def create_wordcloud(model, topic):\n",
    "    text = {word: value for word, value in model.get_topic(topic)}\n",
    "    wc = WordCloud(background_color=\"white\", max_words=1000)\n",
    "    wc.generate_from_frequencies(text)\n",
    "    plt.imshow(wc, interpolation=\"bilinear\")\n",
    "    plt.axis(\"off\")\n",
    "    plt.show()\n",
    "\n",
    "# Show wordcloud\n",
    "create_wordcloud(topic_model, topic=18)"
   ]
  }
 ],
 "metadata": {
  "kernelspec": {
   "display_name": ".venv",
   "language": "python",
   "name": "python3"
  },
  "language_info": {
   "codemirror_mode": {
    "name": "ipython",
    "version": 3
   },
   "file_extension": ".py",
   "mimetype": "text/x-python",
   "name": "python",
   "nbconvert_exporter": "python",
   "pygments_lexer": "ipython3",
   "version": "3.12.2"
  }
 },
 "nbformat": 4,
 "nbformat_minor": 2
}
