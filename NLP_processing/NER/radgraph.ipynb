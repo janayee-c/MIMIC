{
 "cells": [
  {
   "cell_type": "code",
   "execution_count": null,
   "metadata": {},
   "outputs": [],
   "source": [
    "import json\n",
    "import pandas as pd\n",
    "from radgraph import utils\n",
    "import numpy as np "
   ]
  },
  {
   "cell_type": "code",
   "execution_count": 3,
   "metadata": {},
   "outputs": [
    {
     "name": "stdout",
     "output_type": "stream",
     "text": [
      "model_type not provided, defaulting to radgraph-xl\n"
     ]
    },
    {
     "data": {
      "application/vnd.jupyter.widget-view+json": {
       "model_id": "06348fa4e4e4418c9201df8bb885cf82",
       "version_major": 2,
       "version_minor": 0
      },
      "text/plain": [
       "radgraph-xl.tar.gz:   0%|          | 0.00/416M [00:00<?, ?B/s]"
      ]
     },
     "metadata": {},
     "output_type": "display_data"
    }
   ],
   "source": [
    "from radgraph import RadGraph, F1RadGraph\n",
    "radgraph = RadGraph()\n",
    "annotations = radgraph([\"no evidence of acute cardiopulmonary process moderate hiatal hernia\"])"
   ]
  },
  {
   "cell_type": "code",
   "execution_count": 4,
   "metadata": {},
   "outputs": [
    {
     "name": "stdout",
     "output_type": "stream",
     "text": [
      "{'0': {'text': 'no evidence of acute cardiopulmonary process moderate hiatal hernia', 'entities': {'1': {'tokens': 'acute', 'label': 'Observation::definitely absent', 'start_ix': 3, 'end_ix': 3, 'relations': [['modify', '3']]}, '2': {'tokens': 'cardiopulmonary', 'label': 'Anatomy::definitely present', 'start_ix': 4, 'end_ix': 4, 'relations': []}, '3': {'tokens': 'process', 'label': 'Observation::definitely absent', 'start_ix': 5, 'end_ix': 5, 'relations': [['located_at', '2']]}, '4': {'tokens': 'moderate', 'label': 'Observation::definitely present', 'start_ix': 6, 'end_ix': 6, 'relations': [['modify', '5']]}, '5': {'tokens': 'hiatal hernia', 'label': 'Observation::definitely present', 'start_ix': 7, 'end_ix': 8, 'relations': []}}, 'data_source': None, 'data_split': 'inference'}}\n"
     ]
    }
   ],
   "source": [
    "print(annotations)"
   ]
  }
 ],
 "metadata": {
  "kernelspec": {
   "display_name": "venv_310",
   "language": "python",
   "name": "python3"
  },
  "language_info": {
   "codemirror_mode": {
    "name": "ipython",
    "version": 3
   },
   "file_extension": ".py",
   "mimetype": "text/x-python",
   "name": "python",
   "nbconvert_exporter": "python",
   "pygments_lexer": "ipython3",
   "version": "3.10.16"
  }
 },
 "nbformat": 4,
 "nbformat_minor": 2
}
